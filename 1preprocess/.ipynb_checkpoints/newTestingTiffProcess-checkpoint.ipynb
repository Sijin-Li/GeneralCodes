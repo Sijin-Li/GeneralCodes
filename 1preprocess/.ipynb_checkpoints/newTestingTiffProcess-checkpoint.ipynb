{
 "cells": [
  {
   "cell_type": "code",
   "execution_count": null,
   "metadata": {},
   "outputs": [],
   "source": [
    "# 需要修改的代码包括\n",
    "# 1 读写 裁剪TIFF （完成）\n",
    "# 2 随机移动 （完成）\n",
    "# 3 制作pix2pix样本（水平连接两个基本类型样本）（完成）"
   ]
  },
  {
   "cell_type": "markdown",
   "metadata": {},
   "source": [
    "# Read, Clip, and Write GeoTIFF\n",
    "## file path = E:\\Backup\\CodeBackup\\1AboutCNN\\1preprocess\\General\\1TiffReadClipWrite.py"
   ]
  },
  {
   "cell_type": "code",
   "execution_count": 6,
   "metadata": {},
   "outputs": [
    {
     "ename": "ModuleNotFoundError",
     "evalue": "No module named 'TiffReadClipWrite'",
     "output_type": "error",
     "traceback": [
      "\u001b[1;31m---------------------------------------------------------------------------\u001b[0m",
      "\u001b[1;31mModuleNotFoundError\u001b[0m                       Traceback (most recent call last)",
      "\u001b[1;32m<ipython-input-6-016d61148c5e>\u001b[0m in \u001b[0;36m<module>\u001b[1;34m()\u001b[0m\n\u001b[0;32m      5\u001b[0m \u001b[1;31m# import glob\u001b[0m\u001b[1;33m\u001b[0m\u001b[1;33m\u001b[0m\u001b[0m\n\u001b[0;32m      6\u001b[0m \u001b[1;33m\u001b[0m\u001b[0m\n\u001b[1;32m----> 7\u001b[1;33m \u001b[1;32mimport\u001b[0m \u001b[0mGeneral\u001b[0m\u001b[1;33m.\u001b[0m\u001b[0mTiffReadClipWrite\u001b[0m\u001b[1;33m\u001b[0m\u001b[0m\n\u001b[0m",
      "\u001b[1;32mE:\\Backup\\CodeBackup\\GitHubClone\\GeneralCodes\\1preprocess\\General\\__init__.py\u001b[0m in \u001b[0;36m<module>\u001b[1;34m()\u001b[0m\n\u001b[1;32m----> 1\u001b[1;33m \u001b[1;32mimport\u001b[0m \u001b[0mGeneral\u001b[0m\u001b[1;33m.\u001b[0m\u001b[0mConcatenateSamples\u001b[0m\u001b[1;33m\u001b[0m\u001b[0m\n\u001b[0m\u001b[0;32m      2\u001b[0m \u001b[1;32mimport\u001b[0m \u001b[0mGeneral\u001b[0m\u001b[1;33m.\u001b[0m\u001b[0mTiffReadClipWrite\u001b[0m\u001b[1;33m\u001b[0m\u001b[0m\n",
      "\u001b[1;32mE:\\Backup\\CodeBackup\\GitHubClone\\GeneralCodes\\1preprocess\\General\\ConcatenateSamples.py\u001b[0m in \u001b[0;36m<module>\u001b[1;34m()\u001b[0m\n\u001b[0;32m     16\u001b[0m \u001b[1;32mimport\u001b[0m \u001b[0mcv2\u001b[0m\u001b[1;33m\u001b[0m\u001b[0m\n\u001b[0;32m     17\u001b[0m \u001b[1;33m\u001b[0m\u001b[0m\n\u001b[1;32m---> 18\u001b[1;33m \u001b[1;32mfrom\u001b[0m \u001b[0mTiffReadClipWrite\u001b[0m \u001b[1;32mimport\u001b[0m \u001b[0mwrite_to_disk\u001b[0m\u001b[1;33m\u001b[0m\u001b[0m\n\u001b[0m\u001b[0;32m     19\u001b[0m \u001b[1;33m\u001b[0m\u001b[0m\n\u001b[0;32m     20\u001b[0m \u001b[1;33m\u001b[0m\u001b[0m\n",
      "\u001b[1;31mModuleNotFoundError\u001b[0m: No module named 'TiffReadClipWrite'"
     ]
    }
   ],
   "source": [
    "# import numpy as np\n",
    "# from osgeo import gdal\n",
    "# import os\n",
    "# import imageio\n",
    "# import glob\n",
    "\n",
    "import General.TiffReadClipWrite "
   ]
  },
  {
   "cell_type": "code",
   "execution_count": 3,
   "metadata": {},
   "outputs": [
    {
     "ename": "NameError",
     "evalue": "name 'clipgeotiff' is not defined",
     "output_type": "error",
     "traceback": [
      "\u001b[1;31m---------------------------------------------------------------------------\u001b[0m",
      "\u001b[1;31mNameError\u001b[0m                                 Traceback (most recent call last)",
      "\u001b[1;32m<ipython-input-3-022bfa9b446d>\u001b[0m in \u001b[0;36m<module>\u001b[1;34m()\u001b[0m\n\u001b[0;32m      7\u001b[0m \u001b[0mtypeName\u001b[0m \u001b[1;33m=\u001b[0m \u001b[1;34m'W'\u001b[0m\u001b[1;33m\u001b[0m\u001b[0m\n\u001b[0;32m      8\u001b[0m \u001b[0mindex\u001b[0m \u001b[1;33m=\u001b[0m \u001b[1;36m0\u001b[0m\u001b[1;33m\u001b[0m\u001b[0m\n\u001b[1;32m----> 9\u001b[1;33m \u001b[0mclipgeotiff\u001b[0m\u001b[1;33m(\u001b[0m\u001b[0minputPath\u001b[0m\u001b[1;33m,\u001b[0m \u001b[0msavePath\u001b[0m\u001b[1;33m,\u001b[0m \u001b[0mpatchSize\u001b[0m\u001b[1;33m,\u001b[0m \u001b[0mpatchIntersection\u001b[0m\u001b[1;33m,\u001b[0m \u001b[0mstartCol\u001b[0m\u001b[1;33m,\u001b[0m \u001b[0mstartRow\u001b[0m\u001b[1;33m,\u001b[0m \u001b[0mtypeName\u001b[0m\u001b[1;33m,\u001b[0m \u001b[0mindex\u001b[0m\u001b[1;33m,\u001b[0m \u001b[0mTo8bit\u001b[0m\u001b[1;33m=\u001b[0m\u001b[1;32mTrue\u001b[0m\u001b[1;33m,\u001b[0m \u001b[0misSlope\u001b[0m\u001b[1;33m=\u001b[0m\u001b[1;32mFalse\u001b[0m\u001b[1;33m)\u001b[0m\u001b[1;33m\u001b[0m\u001b[0m\n\u001b[0m",
      "\u001b[1;31mNameError\u001b[0m: name 'clipgeotiff' is not defined"
     ]
    }
   ],
   "source": [
    "inputPath = \"E:/Dataset/202101_withDinghu/temp/subAreas/V2/test/label\"\n",
    "savePath = \"E:/Dataset/202101_withDinghu/temp/Dataset/202201datasetV2/size224/s2/test/dem8bit_crop\"\n",
    "patchSize = 224\n",
    "patchIntersection = 180\n",
    "startCol = 0\n",
    "startRow = 0\n",
    "typeName = 'W'\n",
    "index = 0\n",
    "clipgeotiff(inputPath, savePath, patchSize, patchIntersection, startCol, startRow, typeName, index, To8bit=True, isSlope=False)"
   ]
  },
  {
   "cell_type": "markdown",
   "metadata": {},
   "source": [
    "# Concatenate two samples\n",
    "## producing dataset for pix2pix"
   ]
  },
  {
   "cell_type": "code",
   "execution_count": 36,
   "metadata": {},
   "outputs": [],
   "source": [
    "# 暂时不成功 运行下一段可行\n",
    "from General.ConcatenateSamples import concate_samples\n",
    "# from General.TiffReadClipWrite import write_to_disk"
   ]
  },
  {
   "cell_type": "code",
   "execution_count": 40,
   "metadata": {},
   "outputs": [],
   "source": [
    "# in ConcatenateSamples.py\n",
    "def concate_samples(sample1, sample2, savepath, filename):\n",
    "    sample1 = sample1.reshape((1, sample1.shape[0], sample1.shape[1], sample1.shape[2]))\n",
    "    sample2 = sample2.reshape((1, sample2.shape[0], sample2.shape[1], sample2.shape[2]))\n",
    "\n",
    "    sample1band = sample1.shape[3]\n",
    "    sample2band = sample2.shape[3]\n",
    "    print(sample1band, sample2band)\n",
    "\n",
    "    # if two samples bands == 1, then firstly concatenating them and secondly repeating it\n",
    "    if sample1band == 1 and sample2band == 1:\n",
    "        temp = np.concatenate((sample1, sample2), axis=2)\n",
    "        temp = temp.repeat(3, axis=3)\n",
    "    # if two samples bands == 3, then concatenating them\n",
    "    elif sample1band == 3 and sample2band == 3:\n",
    "        temp = np.concatenate((sample1, sample2), axis=2)\n",
    "    elif sample1band == 3 and sample2band == 1:\n",
    "        sample2 = sample2.repeat(3, axis=3)\n",
    "        temp = np.concatenate((sample1, sample2), axis=2)\n",
    "        print('3')\n",
    "    elif sample1band == 1 and sample2band == 3:\n",
    "        sample1 = sample1.repeat(3, axis=3)\n",
    "        temp = np.concatenate((sample1, sample2), axis=2)\n",
    "    else:\n",
    "        print(\"The situation is not defined.\")\n",
    "\n",
    "    out_data = np.squeeze(temp, axis=0)\n",
    "    #        out_data = out_data.astype(np.uint8)  # data type\n",
    "    print(out_data.shape)\n",
    "    write_to_disk(savepath, out_data, filename)\n",
    "# in TiffReadClipWrite.py\n",
    "def write_to_disk(savePath, img_data, from_names, over_write=False):\n",
    "\n",
    "    os.makedirs(savePath, exist_ok=True)\n",
    "\n",
    "    full_name = from_names.replace(\".tif\", \".png\")\n",
    "    print(img_data.dtype)\n",
    "    save_filePath = os.path.join(savePath, full_name)\n",
    "    \n",
    "#    im = Image.fromarray(np.uint16(img_data))\n",
    "#    im.save(save_filePath) #--> 16bit\n",
    "    \n",
    "    print(save_filePath)\n",
    "    imageio.imwrite(save_filePath,img_data, 'PNG-FI') #(save_filePath, img_data)  #imageio.imwrite\n",
    "    print(\"Done!\")"
   ]
  },
  {
   "cell_type": "code",
   "execution_count": 41,
   "metadata": {},
   "outputs": [
    {
     "name": "stderr",
     "output_type": "stream",
     "text": [
      "WARNING:root:Lossy conversion from float32 to uint8. Range [0.0, 255.0]. Convert image to uint8 prior to saving to suppress this warning.\n"
     ]
    },
    {
     "name": "stdout",
     "output_type": "stream",
     "text": [
      "open tif file succeed\n",
      "open tif file succeed\n",
      "1 1\n",
      "(256, 512, 3)\n",
      "float32\n",
      "E:/Dataset/202101_withDinghu/temp/Dataset/202112datasetV1/dataset/size256/v1/test/GANpatchesT\\W1_0_0.png\n",
      "Done!\n"
     ]
    },
    {
     "name": "stderr",
     "output_type": "stream",
     "text": [
      "WARNING:root:Lossy conversion from float32 to uint8. Range [0.0, 255.0]. Convert image to uint8 prior to saving to suppress this warning.\n",
      "WARNING:root:Lossy conversion from float32 to uint8. Range [0.0, 255.0]. Convert image to uint8 prior to saving to suppress this warning.\n",
      "WARNING:root:Lossy conversion from float32 to uint8. Range [0.0, 255.0]. Convert image to uint8 prior to saving to suppress this warning.\n",
      "WARNING:root:Lossy conversion from float32 to uint8. Range [0.0, 255.0]. Convert image to uint8 prior to saving to suppress this warning.\n"
     ]
    },
    {
     "name": "stdout",
     "output_type": "stream",
     "text": [
      "open tif file succeed\n",
      "open tif file succeed\n",
      "1 1\n",
      "(256, 512, 3)\n",
      "float32\n",
      "E:/Dataset/202101_withDinghu/temp/Dataset/202112datasetV1/dataset/size256/v1/test/GANpatchesT\\W1_0_1115.png\n",
      "Done!\n",
      "open tif file succeed\n",
      "open tif file succeed\n",
      "1 1\n",
      "(256, 512, 3)\n",
      "float32\n",
      "E:/Dataset/202101_withDinghu/temp/Dataset/202112datasetV1/dataset/size256/v1/test/GANpatchesT\\W1_0_1338.png\n",
      "Done!\n",
      "open tif file succeed\n",
      "open tif file succeed\n",
      "1 1\n",
      "(256, 512, 3)\n",
      "float32\n",
      "E:/Dataset/202101_withDinghu/temp/Dataset/202112datasetV1/dataset/size256/v1/test/GANpatchesT\\W1_0_1561.png\n",
      "Done!\n",
      "open tif file succeed\n",
      "open tif file succeed\n",
      "1 1\n",
      "(256, 512, 3)\n",
      "float32\n",
      "E:/Dataset/202101_withDinghu/temp/Dataset/202112datasetV1/dataset/size256/v1/test/GANpatchesT\\W1_0_1784.png\n",
      "Done!\n"
     ]
    },
    {
     "name": "stderr",
     "output_type": "stream",
     "text": [
      "WARNING:root:Lossy conversion from float32 to uint8. Range [0.0, 255.0]. Convert image to uint8 prior to saving to suppress this warning.\n",
      "WARNING:root:Lossy conversion from float32 to uint8. Range [0.0, 255.0]. Convert image to uint8 prior to saving to suppress this warning.\n",
      "WARNING:root:Lossy conversion from float32 to uint8. Range [0.0, 255.0]. Convert image to uint8 prior to saving to suppress this warning.\n"
     ]
    },
    {
     "name": "stdout",
     "output_type": "stream",
     "text": [
      "open tif file succeed\n",
      "open tif file succeed\n",
      "1 1\n",
      "(256, 512, 3)\n",
      "float32\n",
      "E:/Dataset/202101_withDinghu/temp/Dataset/202112datasetV1/dataset/size256/v1/test/GANpatchesT\\W1_0_2007.png\n",
      "Done!\n",
      "open tif file succeed\n",
      "open tif file succeed\n",
      "1 1\n",
      "(256, 512, 3)\n",
      "float32\n",
      "E:/Dataset/202101_withDinghu/temp/Dataset/202112datasetV1/dataset/size256/v1/test/GANpatchesT\\W1_0_223.png\n",
      "Done!\n",
      "open tif file succeed\n",
      "open tif file succeed\n",
      "1 1\n",
      "(256, 512, 3)\n",
      "float32\n",
      "E:/Dataset/202101_withDinghu/temp/Dataset/202112datasetV1/dataset/size256/v1/test/GANpatchesT\\W1_0_2230.png\n",
      "Done!\n",
      "open tif file succeed\n",
      "open tif file succeed\n",
      "1 1\n",
      "(256, 512, 3)\n",
      "float32\n",
      "E:/Dataset/202101_withDinghu/temp/Dataset/202112datasetV1/dataset/size256/v1/test/GANpatchesT\\W1_0_2453.png\n"
     ]
    },
    {
     "name": "stderr",
     "output_type": "stream",
     "text": [
      "WARNING:root:Lossy conversion from float32 to uint8. Range [0.0, 255.0]. Convert image to uint8 prior to saving to suppress this warning.\n",
      "WARNING:root:Lossy conversion from float32 to uint8. Range [0.0, 255.0]. Convert image to uint8 prior to saving to suppress this warning.\n",
      "WARNING:root:Lossy conversion from float32 to uint8. Range [0.0, 255.0]. Convert image to uint8 prior to saving to suppress this warning.\n",
      "WARNING:root:Lossy conversion from float32 to uint8. Range [0.0, 255.0]. Convert image to uint8 prior to saving to suppress this warning.\n",
      "WARNING:root:Lossy conversion from float32 to uint8. Range [0.0, 255.0]. Convert image to uint8 prior to saving to suppress this warning.\n"
     ]
    },
    {
     "name": "stdout",
     "output_type": "stream",
     "text": [
      "Done!\n",
      "open tif file succeed\n",
      "open tif file succeed\n",
      "1 1\n",
      "(256, 512, 3)\n",
      "float32\n",
      "E:/Dataset/202101_withDinghu/temp/Dataset/202112datasetV1/dataset/size256/v1/test/GANpatchesT\\W1_0_2676.png\n",
      "Done!\n",
      "open tif file succeed\n",
      "open tif file succeed\n",
      "1 1\n",
      "(256, 512, 3)\n",
      "float32\n",
      "E:/Dataset/202101_withDinghu/temp/Dataset/202112datasetV1/dataset/size256/v1/test/GANpatchesT\\W1_0_2899.png\n",
      "Done!\n",
      "open tif file succeed\n",
      "open tif file succeed\n",
      "1 1\n",
      "(256, 512, 3)\n",
      "float32\n",
      "E:/Dataset/202101_withDinghu/temp/Dataset/202112datasetV1/dataset/size256/v1/test/GANpatchesT\\W1_0_3122.png\n",
      "Done!\n",
      "open tif file succeed\n",
      "open tif file succeed\n",
      "1 1\n",
      "(256, 512, 3)\n",
      "float32\n",
      "E:/Dataset/202101_withDinghu/temp/Dataset/202112datasetV1/dataset/size256/v1/test/GANpatchesT\\W1_0_446.png\n",
      "Done!\n"
     ]
    },
    {
     "name": "stderr",
     "output_type": "stream",
     "text": [
      "WARNING:root:Lossy conversion from float32 to uint8. Range [0.0, 255.0]. Convert image to uint8 prior to saving to suppress this warning.\n",
      "WARNING:root:Lossy conversion from float32 to uint8. Range [0.0, 255.0]. Convert image to uint8 prior to saving to suppress this warning.\n"
     ]
    },
    {
     "name": "stdout",
     "output_type": "stream",
     "text": [
      "open tif file succeed\n",
      "open tif file succeed\n",
      "1 1\n",
      "(256, 512, 3)\n",
      "float32\n",
      "E:/Dataset/202101_withDinghu/temp/Dataset/202112datasetV1/dataset/size256/v1/test/GANpatchesT\\W1_0_669.png\n",
      "Done!\n",
      "open tif file succeed\n",
      "open tif file succeed\n",
      "1 1\n",
      "(256, 512, 3)\n",
      "float32\n",
      "E:/Dataset/202101_withDinghu/temp/Dataset/202112datasetV1/dataset/size256/v1/test/GANpatchesT\\W1_0_892.png\n",
      "Done!\n"
     ]
    },
    {
     "name": "stderr",
     "output_type": "stream",
     "text": [
      "WARNING:root:Lossy conversion from float32 to uint8. Range [0.0, 255.0]. Convert image to uint8 prior to saving to suppress this warning.\n"
     ]
    },
    {
     "name": "stdout",
     "output_type": "stream",
     "text": [
      "open tif file succeed\n",
      "open tif file succeed\n",
      "1 1\n",
      "(256, 512, 3)\n",
      "float32\n",
      "E:/Dataset/202101_withDinghu/temp/Dataset/202112datasetV1/dataset/size256/v1/test/GANpatchesT\\W1_1115_0.png\n",
      "Done!\n",
      "open tif file succeed\n",
      "open tif file succeed\n"
     ]
    },
    {
     "name": "stderr",
     "output_type": "stream",
     "text": [
      "WARNING:root:Lossy conversion from float32 to uint8. Range [0.0, 222.0]. Convert image to uint8 prior to saving to suppress this warning.\n",
      "WARNING:root:Lossy conversion from float32 to uint8. Range [0.0, 232.0]. Convert image to uint8 prior to saving to suppress this warning.\n"
     ]
    },
    {
     "name": "stdout",
     "output_type": "stream",
     "text": [
      "1 1\n",
      "(256, 512, 3)\n",
      "float32\n",
      "E:/Dataset/202101_withDinghu/temp/Dataset/202112datasetV1/dataset/size256/v1/test/GANpatchesT\\W1_1115_1115.png\n",
      "Done!\n",
      "open tif file succeed\n",
      "open tif file succeed\n",
      "1 1\n",
      "(256, 512, 3)\n",
      "float32\n",
      "E:/Dataset/202101_withDinghu/temp/Dataset/202112datasetV1/dataset/size256/v1/test/GANpatchesT\\W1_1115_1338.png\n"
     ]
    },
    {
     "name": "stderr",
     "output_type": "stream",
     "text": [
      "WARNING:root:Lossy conversion from float32 to uint8. Range [0.0, 255.0]. Convert image to uint8 prior to saving to suppress this warning.\n",
      "WARNING:root:Lossy conversion from float32 to uint8. Range [0.0, 255.0]. Convert image to uint8 prior to saving to suppress this warning.\n"
     ]
    },
    {
     "name": "stdout",
     "output_type": "stream",
     "text": [
      "Done!\n",
      "open tif file succeed\n",
      "open tif file succeed\n",
      "1 1\n",
      "(256, 512, 3)\n",
      "float32\n",
      "E:/Dataset/202101_withDinghu/temp/Dataset/202112datasetV1/dataset/size256/v1/test/GANpatchesT\\W1_1115_1561.png\n",
      "Done!\n",
      "open tif file succeed\n",
      "open tif file succeed\n",
      "1 1\n",
      "(256, 512, 3)\n",
      "float32\n",
      "E:/Dataset/202101_withDinghu/temp/Dataset/202112datasetV1/dataset/size256/v1/test/GANpatchesT\\W1_1115_1784.png\n",
      "Done!\n",
      "open tif file succeed\n"
     ]
    },
    {
     "name": "stderr",
     "output_type": "stream",
     "text": [
      "WARNING:root:Lossy conversion from float32 to uint8. Range [0.0, 255.0]. Convert image to uint8 prior to saving to suppress this warning.\n",
      "WARNING:root:Lossy conversion from float32 to uint8. Range [0.0, 229.0]. Convert image to uint8 prior to saving to suppress this warning.\n"
     ]
    },
    {
     "name": "stdout",
     "output_type": "stream",
     "text": [
      "open tif file succeed\n",
      "1 1\n",
      "(256, 512, 3)\n",
      "float32\n",
      "E:/Dataset/202101_withDinghu/temp/Dataset/202112datasetV1/dataset/size256/v1/test/GANpatchesT\\W1_1115_2007.png\n",
      "Done!\n",
      "open tif file succeed\n",
      "open tif file succeed\n",
      "1 1\n",
      "(256, 512, 3)\n",
      "float32\n",
      "E:/Dataset/202101_withDinghu/temp/Dataset/202112datasetV1/dataset/size256/v1/test/GANpatchesT\\W1_1115_223.png\n"
     ]
    },
    {
     "name": "stderr",
     "output_type": "stream",
     "text": [
      "WARNING:root:Lossy conversion from float32 to uint8. Range [0.0, 255.0]. Convert image to uint8 prior to saving to suppress this warning.\n",
      "WARNING:root:Lossy conversion from float32 to uint8. Range [0.0, 255.0]. Convert image to uint8 prior to saving to suppress this warning.\n",
      "WARNING:root:Lossy conversion from float32 to uint8. Range [0.0, 255.0]. Convert image to uint8 prior to saving to suppress this warning.\n",
      "WARNING:root:Lossy conversion from float32 to uint8. Range [0.0, 255.0]. Convert image to uint8 prior to saving to suppress this warning.\n"
     ]
    },
    {
     "name": "stdout",
     "output_type": "stream",
     "text": [
      "Done!\n",
      "open tif file succeed\n",
      "open tif file succeed\n",
      "1 1\n",
      "(256, 512, 3)\n",
      "float32\n",
      "E:/Dataset/202101_withDinghu/temp/Dataset/202112datasetV1/dataset/size256/v1/test/GANpatchesT\\W1_1115_2230.png\n",
      "Done!\n",
      "open tif file succeed\n",
      "open tif file succeed\n",
      "1 1\n",
      "(256, 512, 3)\n",
      "float32\n",
      "E:/Dataset/202101_withDinghu/temp/Dataset/202112datasetV1/dataset/size256/v1/test/GANpatchesT\\W1_1115_2453.png\n",
      "Done!\n",
      "open tif file succeed\n",
      "open tif file succeed\n",
      "1 1\n",
      "(256, 512, 3)\n",
      "float32\n",
      "E:/Dataset/202101_withDinghu/temp/Dataset/202112datasetV1/dataset/size256/v1/test/GANpatchesT\\W1_1115_2676.png\n",
      "Done!\n",
      "open tif file succeed\n",
      "open tif file succeed\n",
      "1 1\n",
      "(256, 512, 3)\n",
      "float32\n",
      "E:/Dataset/202101_withDinghu/temp/Dataset/202112datasetV1/dataset/size256/v1/test/GANpatchesT\\W1_1115_2899.png\n",
      "Done!\n"
     ]
    },
    {
     "name": "stderr",
     "output_type": "stream",
     "text": [
      "WARNING:root:Lossy conversion from float32 to uint8. Range [0.0, 255.0]. Convert image to uint8 prior to saving to suppress this warning.\n",
      "WARNING:root:Lossy conversion from float32 to uint8. Range [0.0, 229.0]. Convert image to uint8 prior to saving to suppress this warning.\n"
     ]
    },
    {
     "name": "stdout",
     "output_type": "stream",
     "text": [
      "open tif file succeed\n",
      "open tif file succeed\n",
      "1 1\n",
      "(256, 512, 3)\n",
      "float32\n",
      "E:/Dataset/202101_withDinghu/temp/Dataset/202112datasetV1/dataset/size256/v1/test/GANpatchesT\\W1_1115_3122.png\n",
      "Done!\n",
      "open tif file succeed\n",
      "open tif file succeed\n",
      "1 1\n",
      "(256, 512, 3)\n",
      "float32\n",
      "E:/Dataset/202101_withDinghu/temp/Dataset/202112datasetV1/dataset/size256/v1/test/GANpatchesT\\W1_1115_446.png\n",
      "Done!\n",
      "open tif file succeed"
     ]
    },
    {
     "name": "stderr",
     "output_type": "stream",
     "text": [
      "WARNING:root:Lossy conversion from float32 to uint8. Range [0.0, 231.0]. Convert image to uint8 prior to saving to suppress this warning.\n",
      "WARNING:root:Lossy conversion from float32 to uint8. Range [0.0, 227.0]. Convert image to uint8 prior to saving to suppress this warning.\n"
     ]
    },
    {
     "name": "stdout",
     "output_type": "stream",
     "text": [
      "\n",
      "open tif file succeed\n",
      "1 1\n",
      "(256, 512, 3)\n",
      "float32\n",
      "E:/Dataset/202101_withDinghu/temp/Dataset/202112datasetV1/dataset/size256/v1/test/GANpatchesT\\W1_1115_669.png\n",
      "Done!\n",
      "open tif file succeed\n",
      "open tif file succeed\n",
      "1 1\n",
      "(256, 512, 3)\n",
      "float32\n",
      "E:/Dataset/202101_withDinghu/temp/Dataset/202112datasetV1/dataset/size256/v1/test/GANpatchesT\\W1_1115_892.png\n"
     ]
    },
    {
     "name": "stderr",
     "output_type": "stream",
     "text": [
      "WARNING:root:Lossy conversion from float32 to uint8. Range [0.0, 255.0]. Convert image to uint8 prior to saving to suppress this warning.\n",
      "WARNING:root:Lossy conversion from float32 to uint8. Range [0.0, 223.0]. Convert image to uint8 prior to saving to suppress this warning.\n"
     ]
    },
    {
     "name": "stdout",
     "output_type": "stream",
     "text": [
      "Done!\n",
      "open tif file succeed\n",
      "open tif file succeed\n",
      "1 1\n",
      "(256, 512, 3)\n",
      "float32\n",
      "E:/Dataset/202101_withDinghu/temp/Dataset/202112datasetV1/dataset/size256/v1/test/GANpatchesT\\W1_1338_0.png\n",
      "Done!\n",
      "open tif file succeed\n",
      "open tif file succeed\n",
      "1 1\n",
      "(256, 512, 3)\n",
      "float32\n",
      "E:/Dataset/202101_withDinghu/temp/Dataset/202112datasetV1/dataset/size256/v1/test/GANpatchesT\\W1_1338_1115.png\n",
      "Done!\n",
      "open tif file succeed\n"
     ]
    },
    {
     "name": "stderr",
     "output_type": "stream",
     "text": [
      "WARNING:root:Lossy conversion from float32 to uint8. Range [0.0, 232.0]. Convert image to uint8 prior to saving to suppress this warning.\n",
      "WARNING:root:Lossy conversion from float32 to uint8. Range [0.0, 238.0]. Convert image to uint8 prior to saving to suppress this warning.\n"
     ]
    },
    {
     "name": "stdout",
     "output_type": "stream",
     "text": [
      "open tif file succeed\n",
      "1 1\n",
      "(256, 512, 3)\n",
      "float32\n",
      "E:/Dataset/202101_withDinghu/temp/Dataset/202112datasetV1/dataset/size256/v1/test/GANpatchesT\\W1_1338_1338.png\n",
      "Done!\n",
      "open tif file succeed\n",
      "open tif file succeed\n",
      "1 1\n",
      "(256, 512, 3)\n",
      "float32\n",
      "E:/Dataset/202101_withDinghu/temp/Dataset/202112datasetV1/dataset/size256/v1/test/GANpatchesT\\W1_1338_1561.png\n"
     ]
    },
    {
     "name": "stderr",
     "output_type": "stream",
     "text": [
      "WARNING:root:Lossy conversion from float32 to uint8. Range [0.0, 255.0]. Convert image to uint8 prior to saving to suppress this warning.\n",
      "WARNING:root:Lossy conversion from float32 to uint8. Range [0.0, 255.0]. Convert image to uint8 prior to saving to suppress this warning.\n"
     ]
    },
    {
     "name": "stdout",
     "output_type": "stream",
     "text": [
      "Done!\n",
      "open tif file succeed\n",
      "open tif file succeed\n",
      "1 1\n",
      "(256, 512, 3)\n",
      "float32\n",
      "E:/Dataset/202101_withDinghu/temp/Dataset/202112datasetV1/dataset/size256/v1/test/GANpatchesT\\W1_1338_1784.png\n",
      "Done!\n",
      "open tif file succeed\n",
      "open tif file succeed\n",
      "1 1\n",
      "(256, 512, 3)\n",
      "float32\n",
      "E:/Dataset/202101_withDinghu/temp/Dataset/202112datasetV1/dataset/size256/v1/test/GANpatchesT\\W1_1338_2007.png\n"
     ]
    },
    {
     "name": "stderr",
     "output_type": "stream",
     "text": [
      "WARNING:root:Lossy conversion from float32 to uint8. Range [0.0, 255.0]. Convert image to uint8 prior to saving to suppress this warning.\n",
      "WARNING:root:Lossy conversion from float32 to uint8. Range [0.0, 255.0]. Convert image to uint8 prior to saving to suppress this warning.\n"
     ]
    },
    {
     "name": "stdout",
     "output_type": "stream",
     "text": [
      "Done!\n",
      "open tif file succeed\n",
      "open tif file succeed\n",
      "1 1\n",
      "(256, 512, 3)\n",
      "float32\n",
      "E:/Dataset/202101_withDinghu/temp/Dataset/202112datasetV1/dataset/size256/v1/test/GANpatchesT\\W1_1338_223.png\n",
      "Done!\n",
      "open tif file succeed\n",
      "open tif file succeed\n",
      "1 1\n",
      "(256, 512, 3)\n",
      "float32\n",
      "E:/Dataset/202101_withDinghu/temp/Dataset/202112datasetV1/dataset/size256/v1/test/GANpatchesT\\W1_1338_2230.png\n",
      "Done!\n",
      "open tif file succeed\n"
     ]
    },
    {
     "name": "stderr",
     "output_type": "stream",
     "text": [
      "WARNING:root:Lossy conversion from float32 to uint8. Range [0.0, 255.0]. Convert image to uint8 prior to saving to suppress this warning.\n",
      "WARNING:root:Lossy conversion from float32 to uint8. Range [0.0, 255.0]. Convert image to uint8 prior to saving to suppress this warning.\n",
      "WARNING:root:Lossy conversion from float32 to uint8. Range [0.0, 255.0]. Convert image to uint8 prior to saving to suppress this warning.\n",
      "WARNING:root:Lossy conversion from float32 to uint8. Range [0.0, 255.0]. Convert image to uint8 prior to saving to suppress this warning.\n"
     ]
    },
    {
     "name": "stdout",
     "output_type": "stream",
     "text": [
      "open tif file succeed\n",
      "1 1\n",
      "(256, 512, 3)\n",
      "float32\n",
      "E:/Dataset/202101_withDinghu/temp/Dataset/202112datasetV1/dataset/size256/v1/test/GANpatchesT\\W1_1338_2453.png\n",
      "Done!\n",
      "open tif file succeed\n",
      "open tif file succeed\n",
      "1 1\n",
      "(256, 512, 3)\n",
      "float32\n",
      "E:/Dataset/202101_withDinghu/temp/Dataset/202112datasetV1/dataset/size256/v1/test/GANpatchesT\\W1_1338_2676.png\n",
      "Done!\n",
      "open tif file succeed\n",
      "open tif file succeed\n",
      "1 1\n",
      "(256, 512, 3)\n",
      "float32\n",
      "E:/Dataset/202101_withDinghu/temp/Dataset/202112datasetV1/dataset/size256/v1/test/GANpatchesT\\W1_1338_2899.png\n",
      "Done!\n",
      "open tif file succeed\n",
      "open tif file succeed\n",
      "1 1\n",
      "(256, 512, 3)\n",
      "float32\n",
      "E:/Dataset/202101_withDinghu/temp/Dataset/202112datasetV1/dataset/size256/v1/test/GANpatchesT\\W1_1338_3122.png\n",
      "Done!\n"
     ]
    },
    {
     "name": "stderr",
     "output_type": "stream",
     "text": [
      "WARNING:root:Lossy conversion from float32 to uint8. Range [0.0, 233.0]. Convert image to uint8 prior to saving to suppress this warning.\n",
      "WARNING:root:Lossy conversion from float32 to uint8. Range [0.0, 235.0]. Convert image to uint8 prior to saving to suppress this warning.\n"
     ]
    },
    {
     "name": "stdout",
     "output_type": "stream",
     "text": [
      "open tif file succeed\n",
      "open tif file succeed\n",
      "1 1\n",
      "(256, 512, 3)\n",
      "float32\n",
      "E:/Dataset/202101_withDinghu/temp/Dataset/202112datasetV1/dataset/size256/v1/test/GANpatchesT\\W1_1338_446.png\n",
      "Done!\n",
      "open tif file succeed\n",
      "open tif file succeed\n",
      "1 1\n",
      "(256, 512, 3)\n",
      "float32\n",
      "E:/Dataset/202101_withDinghu/temp/Dataset/202112datasetV1/dataset/size256/v1/test/GANpatchesT\\W1_1338_669.png\n"
     ]
    },
    {
     "name": "stderr",
     "output_type": "stream",
     "text": [
      "WARNING:root:Lossy conversion from float32 to uint8. Range [0.0, 231.0]. Convert image to uint8 prior to saving to suppress this warning.\n",
      "WARNING:root:Lossy conversion from float32 to uint8. Range [0.0, 255.0]. Convert image to uint8 prior to saving to suppress this warning.\n"
     ]
    },
    {
     "name": "stdout",
     "output_type": "stream",
     "text": [
      "Done!\n",
      "open tif file succeed\n",
      "open tif file succeed\n",
      "1 1\n",
      "(256, 512, 3)\n",
      "float32\n",
      "E:/Dataset/202101_withDinghu/temp/Dataset/202112datasetV1/dataset/size256/v1/test/GANpatchesT\\W1_1338_892.png\n",
      "Done!\n",
      "open tif file succeed\n",
      "open tif file succeed\n",
      "1 1\n",
      "(256, 512, 3)\n",
      "float32\n",
      "E:/Dataset/202101_withDinghu/temp/Dataset/202112datasetV1/dataset/size256/v1/test/GANpatchesT\\W1_1561_0.png\n"
     ]
    },
    {
     "name": "stderr",
     "output_type": "stream",
     "text": [
      "WARNING:root:Lossy conversion from float32 to uint8. Range [0.0, 228.0]. Convert image to uint8 prior to saving to suppress this warning.\n"
     ]
    },
    {
     "name": "stdout",
     "output_type": "stream",
     "text": [
      "Done!\n",
      "open tif file succeed\n",
      "open tif file succeed\n",
      "1 1\n",
      "(256, 512, 3)\n",
      "float32\n",
      "E:/Dataset/202101_withDinghu/temp/Dataset/202112datasetV1/dataset/size256/v1/test/GANpatchesT\\W1_1561_1115.png\n",
      "Done!\n"
     ]
    },
    {
     "name": "stderr",
     "output_type": "stream",
     "text": [
      "WARNING:root:Lossy conversion from float32 to uint8. Range [0.0, 228.0]. Convert image to uint8 prior to saving to suppress this warning.\n"
     ]
    },
    {
     "name": "stdout",
     "output_type": "stream",
     "text": [
      "open tif file succeed\n",
      "open tif file succeed\n",
      "1 1\n",
      "(256, 512, 3)\n",
      "float32\n",
      "E:/Dataset/202101_withDinghu/temp/Dataset/202112datasetV1/dataset/size256/v1/test/GANpatchesT\\W1_1561_1338.png\n",
      "Done!\n",
      "open tif file succeed\n",
      "open tif file succeed\n",
      "1 1\n",
      "(256, 512, 3)\n"
     ]
    },
    {
     "name": "stderr",
     "output_type": "stream",
     "text": [
      "WARNING:root:Lossy conversion from float32 to uint8. Range [0.0, 240.0]. Convert image to uint8 prior to saving to suppress this warning.\n",
      "WARNING:root:Lossy conversion from float32 to uint8. Range [0.0, 240.0]. Convert image to uint8 prior to saving to suppress this warning.\n"
     ]
    },
    {
     "name": "stdout",
     "output_type": "stream",
     "text": [
      "float32\n",
      "E:/Dataset/202101_withDinghu/temp/Dataset/202112datasetV1/dataset/size256/v1/test/GANpatchesT\\W1_1561_1561.png\n",
      "Done!\n",
      "open tif file succeed\n",
      "open tif file succeed\n",
      "1 1\n",
      "(256, 512, 3)\n",
      "float32\n",
      "E:/Dataset/202101_withDinghu/temp/Dataset/202112datasetV1/dataset/size256/v1/test/GANpatchesT\\W1_1561_1784.png\n"
     ]
    },
    {
     "name": "stderr",
     "output_type": "stream",
     "text": [
      "WARNING:root:Lossy conversion from float32 to uint8. Range [0.0, 255.0]. Convert image to uint8 prior to saving to suppress this warning.\n"
     ]
    },
    {
     "name": "stdout",
     "output_type": "stream",
     "text": [
      "Done!\n",
      "open tif file succeed\n",
      "open tif file succeed\n",
      "1 1\n",
      "(256, 512, 3)\n",
      "float32\n",
      "E:/Dataset/202101_withDinghu/temp/Dataset/202112datasetV1/dataset/size256/v1/test/GANpatchesT\\W1_1561_2007.png\n",
      "Done!\n"
     ]
    },
    {
     "name": "stderr",
     "output_type": "stream",
     "text": [
      "WARNING:root:Lossy conversion from float32 to uint8. Range [0.0, 255.0]. Convert image to uint8 prior to saving to suppress this warning.\n",
      "WARNING:root:Lossy conversion from float32 to uint8. Range [0.0, 255.0]. Convert image to uint8 prior to saving to suppress this warning.\n"
     ]
    },
    {
     "name": "stdout",
     "output_type": "stream",
     "text": [
      "open tif file succeed\n",
      "open tif file succeed\n",
      "1 1\n",
      "(256, 512, 3)\n",
      "float32\n",
      "E:/Dataset/202101_withDinghu/temp/Dataset/202112datasetV1/dataset/size256/v1/test/GANpatchesT\\W1_1561_223.png\n",
      "Done!\n",
      "open tif file succeed\n",
      "open tif file succeed\n",
      "1 1\n",
      "(256, 512, 3)\n",
      "float32\n",
      "E:/Dataset/202101_withDinghu/temp/Dataset/202112datasetV1/dataset/size256/v1/test/GANpatchesT\\W1_1561_2230.png\n"
     ]
    },
    {
     "name": "stderr",
     "output_type": "stream",
     "text": [
      "WARNING:root:Lossy conversion from float32 to uint8. Range [0.0, 255.0]. Convert image to uint8 prior to saving to suppress this warning.\n",
      "WARNING:root:Lossy conversion from float32 to uint8. Range [0.0, 255.0]. Convert image to uint8 prior to saving to suppress this warning.\n",
      "WARNING:root:Lossy conversion from float32 to uint8. Range [0.0, 255.0]. Convert image to uint8 prior to saving to suppress this warning.\n"
     ]
    },
    {
     "name": "stdout",
     "output_type": "stream",
     "text": [
      "Done!\n",
      "open tif file succeed\n",
      "open tif file succeed\n",
      "1 1\n",
      "(256, 512, 3)\n",
      "float32\n",
      "E:/Dataset/202101_withDinghu/temp/Dataset/202112datasetV1/dataset/size256/v1/test/GANpatchesT\\W1_1561_2453.png\n",
      "Done!\n",
      "open tif file succeed\n",
      "open tif file succeed\n",
      "1 1\n",
      "(256, 512, 3)\n",
      "float32\n",
      "E:/Dataset/202101_withDinghu/temp/Dataset/202112datasetV1/dataset/size256/v1/test/GANpatchesT\\W1_1561_2676.png\n",
      "Done!\n",
      "open tif file succeed\n",
      "open tif file succeed\n",
      "1 1\n",
      "(256, 512, 3)\n",
      "float32\n",
      "E:/Dataset/202101_withDinghu/temp/Dataset/202112datasetV1/dataset/size256/v1/test/GANpatchesT\\W1_1561_2899.png\n",
      "Done!\n",
      "open tif file succeed\n",
      "open tif file succeed\n",
      "1"
     ]
    },
    {
     "name": "stderr",
     "output_type": "stream",
     "text": [
      "WARNING:root:Lossy conversion from float32 to uint8. Range [0.0, 255.0]. Convert image to uint8 prior to saving to suppress this warning.\n",
      "WARNING:root:Lossy conversion from float32 to uint8. Range [0.0, 229.0]. Convert image to uint8 prior to saving to suppress this warning.\n"
     ]
    },
    {
     "name": "stdout",
     "output_type": "stream",
     "text": [
      " 1\n",
      "(256, 512, 3)\n",
      "float32\n",
      "E:/Dataset/202101_withDinghu/temp/Dataset/202112datasetV1/dataset/size256/v1/test/GANpatchesT\\W1_1561_3122.png\n",
      "Done!\n",
      "open tif file succeed\n",
      "open tif file succeed\n",
      "1 1\n",
      "(256, 512, 3)\n",
      "float32\n",
      "E:/Dataset/202101_withDinghu/temp/Dataset/202112datasetV1/dataset/size256/v1/test/GANpatchesT\\W1_1561_446.png\n",
      "Done!\n",
      "open tif file succeed\n"
     ]
    },
    {
     "name": "stderr",
     "output_type": "stream",
     "text": [
      "WARNING:root:Lossy conversion from float32 to uint8. Range [0.0, 228.0]. Convert image to uint8 prior to saving to suppress this warning.\n",
      "WARNING:root:Lossy conversion from float32 to uint8. Range [0.0, 228.0]. Convert image to uint8 prior to saving to suppress this warning.\n"
     ]
    },
    {
     "name": "stdout",
     "output_type": "stream",
     "text": [
      "open tif file succeed\n",
      "1 1\n",
      "(256, 512, 3)\n",
      "float32\n",
      "E:/Dataset/202101_withDinghu/temp/Dataset/202112datasetV1/dataset/size256/v1/test/GANpatchesT\\W1_1561_669.png\n",
      "Done!\n",
      "open tif file succeed\n",
      "open tif file succeed\n",
      "1 1\n",
      "(256, 512, 3)\n",
      "float32\n",
      "E:/Dataset/202101_withDinghu/temp/Dataset/202112datasetV1/dataset/size256/v1/test/GANpatchesT\\W1_1561_892.png\n"
     ]
    },
    {
     "name": "stderr",
     "output_type": "stream",
     "text": [
      "WARNING:root:Lossy conversion from float32 to uint8. Range [0.0, 255.0]. Convert image to uint8 prior to saving to suppress this warning.\n",
      "WARNING:root:Lossy conversion from float32 to uint8. Range [0.0, 230.0]. Convert image to uint8 prior to saving to suppress this warning.\n"
     ]
    },
    {
     "name": "stdout",
     "output_type": "stream",
     "text": [
      "Done!\n",
      "open tif file succeed\n",
      "open tif file succeed\n",
      "1 1\n",
      "(256, 512, 3)\n",
      "float32\n",
      "E:/Dataset/202101_withDinghu/temp/Dataset/202112datasetV1/dataset/size256/v1/test/GANpatchesT\\W1_1784_0.png\n",
      "Done!\n",
      "open tif file succeed\n",
      "open tif file succeed\n",
      "1 1\n",
      "(256, 512, 3)\n",
      "float32\n",
      "E:/Dataset/202101_withDinghu/temp/Dataset/202112datasetV1/dataset/size256/v1/test/GANpatchesT\\W1_1784_1115.png\n",
      "Done!\n"
     ]
    },
    {
     "name": "stderr",
     "output_type": "stream",
     "text": [
      "WARNING:root:Lossy conversion from float32 to uint8. Range [0.0, 227.0]. Convert image to uint8 prior to saving to suppress this warning.\n",
      "WARNING:root:Lossy conversion from float32 to uint8. Range [0.0, 239.0]. Convert image to uint8 prior to saving to suppress this warning.\n"
     ]
    },
    {
     "name": "stdout",
     "output_type": "stream",
     "text": [
      "open tif file succeed\n",
      "open tif file succeed\n",
      "1 1\n",
      "(256, 512, 3)\n",
      "float32\n",
      "E:/Dataset/202101_withDinghu/temp/Dataset/202112datasetV1/dataset/size256/v1/test/GANpatchesT\\W1_1784_1338.png\n",
      "Done!\n",
      "open tif file succeed\n",
      "open tif file succeed\n",
      "1 1\n",
      "(256, 512, 3)\n",
      "float32\n",
      "E:/Dataset/202101_withDinghu/temp/Dataset/202112datasetV1/dataset/size256/v1/test/GANpatchesT\\W1_1784_1561.png\n"
     ]
    },
    {
     "name": "stderr",
     "output_type": "stream",
     "text": [
      "WARNING:root:Lossy conversion from float32 to uint8. Range [0.0, 240.0]. Convert image to uint8 prior to saving to suppress this warning.\n",
      "WARNING:root:Lossy conversion from float32 to uint8. Range [0.0, 255.0]. Convert image to uint8 prior to saving to suppress this warning.\n"
     ]
    },
    {
     "name": "stdout",
     "output_type": "stream",
     "text": [
      "Done!\n",
      "open tif file succeed\n",
      "open tif file succeed\n",
      "1 1\n",
      "(256, 512, 3)\n",
      "float32\n",
      "E:/Dataset/202101_withDinghu/temp/Dataset/202112datasetV1/dataset/size256/v1/test/GANpatchesT\\W1_1784_1784.png\n",
      "Done!\n",
      "open tif file succeed\n",
      "open tif file succeed\n",
      "1 1\n",
      "(256, 512, 3)\n",
      "float32\n",
      "E:/Dataset/202101_withDinghu/temp/Dataset/202112datasetV1/dataset/size256/v1/test/GANpatchesT\\W1_1784_2007.png\n"
     ]
    },
    {
     "name": "stderr",
     "output_type": "stream",
     "text": [
      "WARNING:root:Lossy conversion from float32 to uint8. Range [0.0, 255.0]. Convert image to uint8 prior to saving to suppress this warning.\n",
      "WARNING:root:Lossy conversion from float32 to uint8. Range [0.0, 255.0]. Convert image to uint8 prior to saving to suppress this warning.\n"
     ]
    },
    {
     "name": "stdout",
     "output_type": "stream",
     "text": [
      "Done!\n",
      "open tif file succeed\n",
      "open tif file succeed\n",
      "1 1\n",
      "(256, 512, 3)\n",
      "float32\n",
      "E:/Dataset/202101_withDinghu/temp/Dataset/202112datasetV1/dataset/size256/v1/test/GANpatchesT\\W1_1784_223.png\n",
      "Done!\n",
      "open tif file succeed\n",
      "open tif file succeed\n",
      "1 1\n",
      "(256, 512, 3)\n",
      "float32\n",
      "E:/Dataset/202101_withDinghu/temp/Dataset/202112datasetV1/dataset/size256/v1/test/GANpatchesT\\W1_1784_2230.png\n"
     ]
    },
    {
     "name": "stderr",
     "output_type": "stream",
     "text": [
      "WARNING:root:Lossy conversion from float32 to uint8. Range [0.0, 255.0]. Convert image to uint8 prior to saving to suppress this warning.\n",
      "WARNING:root:Lossy conversion from float32 to uint8. Range [0.0, 255.0]. Convert image to uint8 prior to saving to suppress this warning.\n",
      "WARNING:root:Lossy conversion from float32 to uint8. Range [0.0, 255.0]. Convert image to uint8 prior to saving to suppress this warning.\n",
      "WARNING:root:Lossy conversion from float32 to uint8. Range [0.0, 255.0]. Convert image to uint8 prior to saving to suppress this warning.\n"
     ]
    },
    {
     "name": "stdout",
     "output_type": "stream",
     "text": [
      "Done!\n",
      "open tif file succeed\n",
      "open tif file succeed\n",
      "1 1\n",
      "(256, 512, 3)\n",
      "float32\n",
      "E:/Dataset/202101_withDinghu/temp/Dataset/202112datasetV1/dataset/size256/v1/test/GANpatchesT\\W1_1784_2453.png\n",
      "Done!\n",
      "open tif file succeed\n",
      "open tif file succeed\n",
      "1 1\n",
      "(256, 512, 3)\n",
      "float32\n",
      "E:/Dataset/202101_withDinghu/temp/Dataset/202112datasetV1/dataset/size256/v1/test/GANpatchesT\\W1_1784_2676.png\n",
      "Done!\n",
      "open tif file succeed\n",
      "open tif file succeed\n",
      "1 1\n",
      "(256, 512, 3)\n",
      "float32\n",
      "E:/Dataset/202101_withDinghu/temp/Dataset/202112datasetV1/dataset/size256/v1/test/GANpatchesT\\W1_1784_2899.png\n",
      "Done!\n",
      "open tif file succeed\n",
      "open tif file succeed\n",
      "1 1\n",
      "(256, 512, 3)\n",
      "float32\n",
      "E:/Dataset/202101_withDinghu/temp/Dataset/202112datasetV1/dataset/size256/v1/test/GANpatchesT\\W1_1784_3122.png\n",
      "Done!\n",
      "open tif file succeed"
     ]
    },
    {
     "name": "stderr",
     "output_type": "stream",
     "text": [
      "WARNING:root:Lossy conversion from float32 to uint8. Range [0.0, 231.0]. Convert image to uint8 prior to saving to suppress this warning.\n",
      "WARNING:root:Lossy conversion from float32 to uint8. Range [0.0, 233.0]. Convert image to uint8 prior to saving to suppress this warning.\n"
     ]
    },
    {
     "name": "stdout",
     "output_type": "stream",
     "text": [
      "\n",
      "open tif file succeed\n",
      "1 1\n",
      "(256, 512, 3)\n",
      "float32\n",
      "E:/Dataset/202101_withDinghu/temp/Dataset/202112datasetV1/dataset/size256/v1/test/GANpatchesT\\W1_1784_446.png\n",
      "Done!\n",
      "open tif file succeed\n",
      "open tif file succeed\n",
      "1 1\n",
      "(256, 512, 3)\n",
      "float32\n",
      "E:/Dataset/202101_withDinghu/temp/Dataset/202112datasetV1/dataset/size256/v1/test/GANpatchesT\\W1_1784_669.png\n"
     ]
    },
    {
     "name": "stderr",
     "output_type": "stream",
     "text": [
      "WARNING:root:Lossy conversion from float32 to uint8. Range [0.0, 233.0]. Convert image to uint8 prior to saving to suppress this warning.\n",
      "WARNING:root:Lossy conversion from float32 to uint8. Range [0.0, 255.0]. Convert image to uint8 prior to saving to suppress this warning.\n"
     ]
    },
    {
     "name": "stdout",
     "output_type": "stream",
     "text": [
      "Done!\n",
      "open tif file succeed\n",
      "open tif file succeed\n",
      "1 1\n",
      "(256, 512, 3)\n",
      "float32\n",
      "E:/Dataset/202101_withDinghu/temp/Dataset/202112datasetV1/dataset/size256/v1/test/GANpatchesT\\W1_1784_892.png\n",
      "Done!\n",
      "open tif file succeed\n",
      "open tif file succeed\n",
      "1 1\n",
      "(256, 512, 3)\n",
      "float32\n",
      "E:/Dataset/202101_withDinghu/temp/Dataset/202112datasetV1/dataset/size256/v1/test/GANpatchesT\\W1_2007_0.png\n",
      "Done!"
     ]
    },
    {
     "name": "stderr",
     "output_type": "stream",
     "text": [
      "WARNING:root:Lossy conversion from float32 to uint8. Range [0.0, 237.0]. Convert image to uint8 prior to saving to suppress this warning.\n"
     ]
    },
    {
     "name": "stdout",
     "output_type": "stream",
     "text": [
      "\n",
      "open tif file succeed\n",
      "open tif file succeed\n",
      "1 1\n",
      "(256, 512, 3)\n",
      "float32\n",
      "E:/Dataset/202101_withDinghu/temp/Dataset/202112datasetV1/dataset/size256/v1/test/GANpatchesT\\W1_2007_1115.png\n",
      "Done!\n",
      "open tif file succeed\n",
      "open tif file succeed\n"
     ]
    },
    {
     "name": "stderr",
     "output_type": "stream",
     "text": [
      "WARNING:root:Lossy conversion from float32 to uint8. Range [0.0, 234.0]. Convert image to uint8 prior to saving to suppress this warning.\n",
      "WARNING:root:Lossy conversion from float32 to uint8. Range [0.0, 255.0]. Convert image to uint8 prior to saving to suppress this warning.\n"
     ]
    },
    {
     "name": "stdout",
     "output_type": "stream",
     "text": [
      "1 1\n",
      "(256, 512, 3)\n",
      "float32\n",
      "E:/Dataset/202101_withDinghu/temp/Dataset/202112datasetV1/dataset/size256/v1/test/GANpatchesT\\W1_2007_1338.png\n",
      "Done!\n",
      "open tif file succeed\n",
      "open tif file succeed\n",
      "1 1\n",
      "(256, 512, 3)\n",
      "float32\n",
      "E:/Dataset/202101_withDinghu/temp/Dataset/202112datasetV1/dataset/size256/v1/test/GANpatchesT\\W1_2007_1561.png\n"
     ]
    },
    {
     "name": "stderr",
     "output_type": "stream",
     "text": [
      "WARNING:root:Lossy conversion from float32 to uint8. Range [0.0, 255.0]. Convert image to uint8 prior to saving to suppress this warning.\n",
      "WARNING:root:Lossy conversion from float32 to uint8. Range [0.0, 255.0]. Convert image to uint8 prior to saving to suppress this warning.\n"
     ]
    },
    {
     "name": "stdout",
     "output_type": "stream",
     "text": [
      "Done!\n",
      "open tif file succeed\n",
      "open tif file succeed\n",
      "1 1\n",
      "(256, 512, 3)\n",
      "float32\n",
      "E:/Dataset/202101_withDinghu/temp/Dataset/202112datasetV1/dataset/size256/v1/test/GANpatchesT\\W1_2007_1784.png\n",
      "Done!\n",
      "open tif file succeed\n",
      "open tif file succeed\n",
      "1 1\n",
      "(256, 512, 3)\n",
      "float32\n",
      "E:/Dataset/202101_withDinghu/temp/Dataset/202112datasetV1/dataset/size256/v1/test/GANpatchesT\\W1_2007_2007.png\n",
      "Done!\n",
      "open tif file succeed\n",
      "open tif file succeed\n"
     ]
    },
    {
     "name": "stderr",
     "output_type": "stream",
     "text": [
      "WARNING:root:Lossy conversion from float32 to uint8. Range [0.0, 255.0]. Convert image to uint8 prior to saving to suppress this warning.\n",
      "WARNING:root:Lossy conversion from float32 to uint8. Range [0.0, 255.0]. Convert image to uint8 prior to saving to suppress this warning.\n"
     ]
    },
    {
     "name": "stdout",
     "output_type": "stream",
     "text": [
      "1 1\n",
      "(256, 512, 3)\n",
      "float32\n",
      "E:/Dataset/202101_withDinghu/temp/Dataset/202112datasetV1/dataset/size256/v1/test/GANpatchesT\\W1_2007_223.png\n",
      "Done!\n",
      "open tif file succeed\n",
      "open tif file succeed\n",
      "1 1\n",
      "(256, 512, 3)\n",
      "float32\n",
      "E:/Dataset/202101_withDinghu/temp/Dataset/202112datasetV1/dataset/size256/v1/test/GANpatchesT\\W1_2007_2230.png\n"
     ]
    },
    {
     "name": "stderr",
     "output_type": "stream",
     "text": [
      "WARNING:root:Lossy conversion from float32 to uint8. Range [0.0, 255.0]. Convert image to uint8 prior to saving to suppress this warning.\n",
      "WARNING:root:Lossy conversion from float32 to uint8. Range [0.0, 255.0]. Convert image to uint8 prior to saving to suppress this warning.\n",
      "WARNING:root:Lossy conversion from float32 to uint8. Range [0.0, 255.0]. Convert image to uint8 prior to saving to suppress this warning.\n",
      "WARNING:root:Lossy conversion from float32 to uint8. Range [0.0, 255.0]. Convert image to uint8 prior to saving to suppress this warning.\n"
     ]
    },
    {
     "name": "stdout",
     "output_type": "stream",
     "text": [
      "Done!\n",
      "open tif file succeed\n",
      "open tif file succeed\n",
      "1 1\n",
      "(256, 512, 3)\n",
      "float32\n",
      "E:/Dataset/202101_withDinghu/temp/Dataset/202112datasetV1/dataset/size256/v1/test/GANpatchesT\\W1_2007_2453.png\n",
      "Done!\n",
      "open tif file succeed\n",
      "open tif file succeed\n",
      "1 1\n",
      "(256, 512, 3)\n",
      "float32\n",
      "E:/Dataset/202101_withDinghu/temp/Dataset/202112datasetV1/dataset/size256/v1/test/GANpatchesT\\W1_2007_2676.png\n",
      "Done!\n",
      "open tif file succeed\n",
      "open tif file succeed\n",
      "1 1\n",
      "(256, 512, 3)\n",
      "float32\n",
      "E:/Dataset/202101_withDinghu/temp/Dataset/202112datasetV1/dataset/size256/v1/test/GANpatchesT\\W1_2007_2899.png\n",
      "Done!\n",
      "open tif file succeed\n",
      "open tif file succeed\n",
      "1 1\n",
      "(256, 512, 3)\n",
      "float32\n",
      "E:/Dataset/202101_withDinghu/temp/Dataset/202112datasetV1/dataset/size256/v1/test/GANpatchesT\\W1_2007_3122.png\n",
      "Done!\n",
      "open tif file succeed\n"
     ]
    },
    {
     "name": "stderr",
     "output_type": "stream",
     "text": [
      "WARNING:root:Lossy conversion from float32 to uint8. Range [0.0, 230.0]. Convert image to uint8 prior to saving to suppress this warning.\n",
      "WARNING:root:Lossy conversion from float32 to uint8. Range [0.0, 238.0]. Convert image to uint8 prior to saving to suppress this warning.\n"
     ]
    },
    {
     "name": "stdout",
     "output_type": "stream",
     "text": [
      "open tif file succeed\n",
      "1 1\n",
      "(256, 512, 3)\n",
      "float32\n",
      "E:/Dataset/202101_withDinghu/temp/Dataset/202112datasetV1/dataset/size256/v1/test/GANpatchesT\\W1_2007_446.png\n",
      "Done!\n",
      "open tif file succeed\n",
      "open tif file succeed\n",
      "1 1\n",
      "(256, 512, 3)\n",
      "float32\n",
      "E:/Dataset/202101_withDinghu/temp/Dataset/202112datasetV1/dataset/size256/v1/test/GANpatchesT\\W1_2007_669.png\n"
     ]
    },
    {
     "name": "stderr",
     "output_type": "stream",
     "text": [
      "WARNING:root:Lossy conversion from float32 to uint8. Range [0.0, 238.0]. Convert image to uint8 prior to saving to suppress this warning.\n",
      "WARNING:root:Lossy conversion from float32 to uint8. Range [0.0, 255.0]. Convert image to uint8 prior to saving to suppress this warning.\n"
     ]
    },
    {
     "name": "stdout",
     "output_type": "stream",
     "text": [
      "Done!\n",
      "open tif file succeed\n",
      "open tif file succeed\n",
      "1 1\n",
      "(256, 512, 3)\n",
      "float32\n",
      "E:/Dataset/202101_withDinghu/temp/Dataset/202112datasetV1/dataset/size256/v1/test/GANpatchesT\\W1_2007_892.png\n",
      "Done!\n",
      "open tif file succeed\n",
      "open tif file succeed\n",
      "1 1\n",
      "(256, 512, 3)\n",
      "float32\n",
      "E:/Dataset/202101_withDinghu/temp/Dataset/202112datasetV1/dataset/size256/v1/test/GANpatchesT\\W1_2230_0.png\n",
      "Done!\n"
     ]
    },
    {
     "name": "stderr",
     "output_type": "stream",
     "text": [
      "WARNING:root:Lossy conversion from float32 to uint8. Range [0.0, 240.0]. Convert image to uint8 prior to saving to suppress this warning.\n",
      "WARNING:root:Lossy conversion from float32 to uint8. Range [0.0, 235.0]. Convert image to uint8 prior to saving to suppress this warning.\n"
     ]
    },
    {
     "name": "stdout",
     "output_type": "stream",
     "text": [
      "open tif file succeed\n",
      "open tif file succeed\n",
      "1 1\n",
      "(256, 512, 3)\n",
      "float32\n",
      "E:/Dataset/202101_withDinghu/temp/Dataset/202112datasetV1/dataset/size256/v1/test/GANpatchesT\\W1_2230_1115.png\n",
      "Done!\n",
      "open tif file succeed\n",
      "open tif file succeed\n",
      "1 1\n",
      "(256, 512, 3)\n",
      "float32\n",
      "E:/Dataset/202101_withDinghu/temp/Dataset/202112datasetV1/dataset/size256/v1/test/GANpatchesT\\W1_2230_1338.png\n"
     ]
    },
    {
     "name": "stderr",
     "output_type": "stream",
     "text": [
      "WARNING:root:Lossy conversion from float32 to uint8. Range [0.0, 255.0]. Convert image to uint8 prior to saving to suppress this warning.\n"
     ]
    },
    {
     "name": "stdout",
     "output_type": "stream",
     "text": [
      "Done!\n",
      "open tif file succeed\n",
      "open tif file succeed\n",
      "1 1\n",
      "(256, 512, 3)\n",
      "float32\n",
      "E:/Dataset/202101_withDinghu/temp/Dataset/202112datasetV1/dataset/size256/v1/test/GANpatchesT\\W1_2230_1561.png\n",
      "Done!\n"
     ]
    },
    {
     "name": "stderr",
     "output_type": "stream",
     "text": [
      "WARNING:root:Lossy conversion from float32 to uint8. Range [0.0, 255.0]. Convert image to uint8 prior to saving to suppress this warning.\n",
      "WARNING:root:Lossy conversion from float32 to uint8. Range [0.0, 255.0]. Convert image to uint8 prior to saving to suppress this warning.\n",
      "WARNING:root:Lossy conversion from float32 to uint8. Range [0.0, 255.0]. Convert image to uint8 prior to saving to suppress this warning.\n"
     ]
    },
    {
     "name": "stdout",
     "output_type": "stream",
     "text": [
      "open tif file succeed\n",
      "open tif file succeed\n",
      "1 1\n",
      "(256, 512, 3)\n",
      "float32\n",
      "E:/Dataset/202101_withDinghu/temp/Dataset/202112datasetV1/dataset/size256/v1/test/GANpatchesT\\W1_2230_1784.png\n",
      "Done!\n",
      "open tif file succeed\n",
      "open tif file succeed\n",
      "1 1\n",
      "(256, 512, 3)\n",
      "float32\n",
      "E:/Dataset/202101_withDinghu/temp/Dataset/202112datasetV1/dataset/size256/v1/test/GANpatchesT\\W1_2230_2007.png\n",
      "Done!\n",
      "open tif file succeed\n",
      "open tif file succeed\n",
      "1 1\n",
      "(256, 512, 3)\n",
      "float32\n",
      "E:/Dataset/202101_withDinghu/temp/Dataset/202112datasetV1/dataset/size256/v1/test/GANpatchesT\\W1_2230_223.png\n",
      "Done!\n",
      "open tif file succeed"
     ]
    },
    {
     "name": "stderr",
     "output_type": "stream",
     "text": [
      "WARNING:root:Lossy conversion from float32 to uint8. Range [0.0, 255.0]. Convert image to uint8 prior to saving to suppress this warning.\n",
      "WARNING:root:Lossy conversion from float32 to uint8. Range [0.0, 255.0]. Convert image to uint8 prior to saving to suppress this warning.\n",
      "WARNING:root:Lossy conversion from float32 to uint8. Range [0.0, 255.0]. Convert image to uint8 prior to saving to suppress this warning.\n",
      "WARNING:root:Lossy conversion from float32 to uint8. Range [0.0, 255.0]. Convert image to uint8 prior to saving to suppress this warning.\n"
     ]
    },
    {
     "name": "stdout",
     "output_type": "stream",
     "text": [
      "\n",
      "open tif file succeed\n",
      "1 1\n",
      "(256, 512, 3)\n",
      "float32\n",
      "E:/Dataset/202101_withDinghu/temp/Dataset/202112datasetV1/dataset/size256/v1/test/GANpatchesT\\W1_2230_2230.png\n",
      "Done!\n",
      "open tif file succeed\n",
      "open tif file succeed\n",
      "1 1\n",
      "(256, 512, 3)\n",
      "float32\n",
      "E:/Dataset/202101_withDinghu/temp/Dataset/202112datasetV1/dataset/size256/v1/test/GANpatchesT\\W1_2230_2453.png\n",
      "Done!\n",
      "open tif file succeed\n",
      "open tif file succeed\n",
      "1 1\n",
      "(256, 512, 3)\n",
      "float32\n",
      "E:/Dataset/202101_withDinghu/temp/Dataset/202112datasetV1/dataset/size256/v1/test/GANpatchesT\\W1_2230_2676.png\n",
      "Done!\n",
      "open tif file succeed\n",
      "open tif file succeed\n",
      "1 1\n",
      "(256, 512, 3)\n",
      "float32\n",
      "E:/Dataset/202101_withDinghu/temp/Dataset/202112datasetV1/dataset/size256/v1/test/GANpatchesT\\W1_2230_2899.png\n",
      "Done!\n",
      "open tif file succeed\n",
      "open tif file succeed\n",
      "1 1\n"
     ]
    },
    {
     "name": "stderr",
     "output_type": "stream",
     "text": [
      "WARNING:root:Lossy conversion from float32 to uint8. Range [0.0, 255.0]. Convert image to uint8 prior to saving to suppress this warning.\n",
      "WARNING:root:Lossy conversion from float32 to uint8. Range [0.0, 238.0]. Convert image to uint8 prior to saving to suppress this warning.\n"
     ]
    },
    {
     "name": "stdout",
     "output_type": "stream",
     "text": [
      "(256, 512, 3)\n",
      "float32\n",
      "E:/Dataset/202101_withDinghu/temp/Dataset/202112datasetV1/dataset/size256/v1/test/GANpatchesT\\W1_2230_3122.png\n",
      "Done!\n",
      "open tif file succeed\n",
      "open tif file succeed\n",
      "1 1\n",
      "(256, 512, 3)\n",
      "float32\n",
      "E:/Dataset/202101_withDinghu/temp/Dataset/202112datasetV1/dataset/size256/v1/test/GANpatchesT\\W1_2230_446.png\n",
      "Done!\n",
      "open tif file succeed\n"
     ]
    },
    {
     "name": "stderr",
     "output_type": "stream",
     "text": [
      "WARNING:root:Lossy conversion from float32 to uint8. Range [0.0, 240.0]. Convert image to uint8 prior to saving to suppress this warning.\n",
      "WARNING:root:Lossy conversion from float32 to uint8. Range [0.0, 243.0]. Convert image to uint8 prior to saving to suppress this warning.\n"
     ]
    },
    {
     "name": "stdout",
     "output_type": "stream",
     "text": [
      "open tif file succeed\n",
      "1 1\n",
      "(256, 512, 3)\n",
      "float32\n",
      "E:/Dataset/202101_withDinghu/temp/Dataset/202112datasetV1/dataset/size256/v1/test/GANpatchesT\\W1_2230_669.png\n",
      "Done!\n",
      "open tif file succeed\n",
      "open tif file succeed\n",
      "1 1\n",
      "(256, 512, 3)\n",
      "float32\n",
      "E:/Dataset/202101_withDinghu/temp/Dataset/202112datasetV1/dataset/size256/v1/test/GANpatchesT\\W1_2230_892.png\n"
     ]
    },
    {
     "name": "stderr",
     "output_type": "stream",
     "text": [
      "WARNING:root:Lossy conversion from float32 to uint8. Range [0.0, 255.0]. Convert image to uint8 prior to saving to suppress this warning.\n",
      "WARNING:root:Lossy conversion from float32 to uint8. Range [0.0, 255.0]. Convert image to uint8 prior to saving to suppress this warning.\n",
      "WARNING:root:Lossy conversion from float32 to uint8. Range [0.0, 255.0]. Convert image to uint8 prior to saving to suppress this warning.\n"
     ]
    },
    {
     "name": "stdout",
     "output_type": "stream",
     "text": [
      "Done!\n",
      "open tif file succeed\n",
      "open tif file succeed\n",
      "1 1\n",
      "(256, 512, 3)\n",
      "float32\n",
      "E:/Dataset/202101_withDinghu/temp/Dataset/202112datasetV1/dataset/size256/v1/test/GANpatchesT\\W1_223_0.png\n",
      "Done!\n",
      "open tif file succeed\n",
      "open tif file succeed\n",
      "1 1\n",
      "(256, 512, 3)\n",
      "float32\n",
      "E:/Dataset/202101_withDinghu/temp/Dataset/202112datasetV1/dataset/size256/v1/test/GANpatchesT\\W1_223_1115.png\n",
      "Done!\n",
      "open tif file succeed\n",
      "open tif file succeed\n",
      "1 1\n",
      "(256, 512, 3)\n",
      "float32\n",
      "E:/Dataset/202101_withDinghu/temp/Dataset/202112datasetV1/dataset/size256/v1/test/GANpatchesT\\W1_223_1338.png\n",
      "Done!\n",
      "open tif file succeed\n"
     ]
    },
    {
     "name": "stderr",
     "output_type": "stream",
     "text": [
      "WARNING:root:Lossy conversion from float32 to uint8. Range [0.0, 255.0]. Convert image to uint8 prior to saving to suppress this warning.\n",
      "WARNING:root:Lossy conversion from float32 to uint8. Range [0.0, 255.0]. Convert image to uint8 prior to saving to suppress this warning.\n",
      "WARNING:root:Lossy conversion from float32 to uint8. Range [0.0, 255.0]. Convert image to uint8 prior to saving to suppress this warning.\n",
      "WARNING:root:Lossy conversion from float32 to uint8. Range [0.0, 255.0]. Convert image to uint8 prior to saving to suppress this warning.\n"
     ]
    },
    {
     "name": "stdout",
     "output_type": "stream",
     "text": [
      "open tif file succeed\n",
      "1 1\n",
      "(256, 512, 3)\n",
      "float32\n",
      "E:/Dataset/202101_withDinghu/temp/Dataset/202112datasetV1/dataset/size256/v1/test/GANpatchesT\\W1_223_1561.png\n",
      "Done!\n",
      "open tif file succeed\n",
      "open tif file succeed\n",
      "1 1\n",
      "(256, 512, 3)\n",
      "float32\n",
      "E:/Dataset/202101_withDinghu/temp/Dataset/202112datasetV1/dataset/size256/v1/test/GANpatchesT\\W1_223_1784.png\n",
      "Done!\n",
      "open tif file succeed\n",
      "open tif file succeed\n",
      "1 1\n",
      "(256, 512, 3)\n",
      "float32\n",
      "E:/Dataset/202101_withDinghu/temp/Dataset/202112datasetV1/dataset/size256/v1/test/GANpatchesT\\W1_223_2007.png\n",
      "Done!\n",
      "open tif file succeed\n",
      "open tif file succeed\n",
      "1 1\n",
      "(256, 512, 3)\n",
      "float32\n",
      "E:/Dataset/202101_withDinghu/temp/Dataset/202112datasetV1/dataset/size256/v1/test/GANpatchesT\\W1_223_223.png\n",
      "Done!\n",
      "open tif file succeed"
     ]
    },
    {
     "name": "stderr",
     "output_type": "stream",
     "text": [
      "WARNING:root:Lossy conversion from float32 to uint8. Range [0.0, 255.0]. Convert image to uint8 prior to saving to suppress this warning.\n",
      "WARNING:root:Lossy conversion from float32 to uint8. Range [0.0, 255.0]. Convert image to uint8 prior to saving to suppress this warning.\n",
      "WARNING:root:Lossy conversion from float32 to uint8. Range [0.0, 255.0]. Convert image to uint8 prior to saving to suppress this warning.\n",
      "WARNING:root:Lossy conversion from float32 to uint8. Range [0.0, 255.0]. Convert image to uint8 prior to saving to suppress this warning.\n"
     ]
    },
    {
     "name": "stdout",
     "output_type": "stream",
     "text": [
      "\n",
      "open tif file succeed\n",
      "1 1\n",
      "(256, 512, 3)\n",
      "float32\n",
      "E:/Dataset/202101_withDinghu/temp/Dataset/202112datasetV1/dataset/size256/v1/test/GANpatchesT\\W1_223_2230.png\n",
      "Done!\n",
      "open tif file succeed\n",
      "open tif file succeed\n",
      "1 1\n",
      "(256, 512, 3)\n",
      "float32\n",
      "E:/Dataset/202101_withDinghu/temp/Dataset/202112datasetV1/dataset/size256/v1/test/GANpatchesT\\W1_223_2453.png\n",
      "Done!\n",
      "open tif file succeed\n",
      "open tif file succeed\n",
      "1 1\n",
      "(256, 512, 3)\n",
      "float32\n",
      "E:/Dataset/202101_withDinghu/temp/Dataset/202112datasetV1/dataset/size256/v1/test/GANpatchesT\\W1_223_2676.png\n",
      "Done!\n",
      "open tif file succeed\n",
      "open tif file succeed\n",
      "1 1\n",
      "(256, 512, 3)\n",
      "float32\n",
      "E:/Dataset/202101_withDinghu/temp/Dataset/202112datasetV1/dataset/size256/v1/test/GANpatchesT\\W1_223_2899.png\n",
      "Done!"
     ]
    },
    {
     "name": "stderr",
     "output_type": "stream",
     "text": [
      "WARNING:root:Lossy conversion from float32 to uint8. Range [0.0, 255.0]. Convert image to uint8 prior to saving to suppress this warning.\n",
      "WARNING:root:Lossy conversion from float32 to uint8. Range [0.0, 255.0]. Convert image to uint8 prior to saving to suppress this warning.\n",
      "WARNING:root:Lossy conversion from float32 to uint8. Range [0.0, 255.0]. Convert image to uint8 prior to saving to suppress this warning.\n"
     ]
    },
    {
     "name": "stdout",
     "output_type": "stream",
     "text": [
      "\n",
      "open tif file succeed\n",
      "open tif file succeed\n",
      "1 1\n",
      "(256, 512, 3)\n",
      "float32\n",
      "E:/Dataset/202101_withDinghu/temp/Dataset/202112datasetV1/dataset/size256/v1/test/GANpatchesT\\W1_223_3122.png\n",
      "Done!\n",
      "open tif file succeed\n",
      "open tif file succeed\n",
      "1 1\n",
      "(256, 512, 3)\n",
      "float32\n",
      "E:/Dataset/202101_withDinghu/temp/Dataset/202112datasetV1/dataset/size256/v1/test/GANpatchesT\\W1_223_446.png\n",
      "Done!\n",
      "open tif file succeed\n",
      "open tif file succeed\n",
      "1 1\n",
      "(256, 512, 3)\n",
      "float32\n",
      "E:/Dataset/202101_withDinghu/temp/Dataset/202112datasetV1/dataset/size256/v1/test/GANpatchesT\\W1_223_669.png\n"
     ]
    },
    {
     "name": "stderr",
     "output_type": "stream",
     "text": [
      "WARNING:root:Lossy conversion from float32 to uint8. Range [0.0, 255.0]. Convert image to uint8 prior to saving to suppress this warning.\n",
      "WARNING:root:Lossy conversion from float32 to uint8. Range [0.0, 255.0]. Convert image to uint8 prior to saving to suppress this warning.\n"
     ]
    },
    {
     "name": "stdout",
     "output_type": "stream",
     "text": [
      "Done!\n",
      "open tif file succeed\n",
      "open tif file succeed\n",
      "1 1\n",
      "(256, 512, 3)\n",
      "float32\n",
      "E:/Dataset/202101_withDinghu/temp/Dataset/202112datasetV1/dataset/size256/v1/test/GANpatchesT\\W1_223_892.png\n",
      "Done!\n",
      "open tif file succeed\n",
      "open tif file succeed\n",
      "1 1\n",
      "(256, 512, 3)\n",
      "float32\n",
      "E:/Dataset/202101_withDinghu/temp/Dataset/202112datasetV1/dataset/size256/v1/test/GANpatchesT\\W1_2453_0.png\n",
      "Done!\n",
      "open tif file succeed"
     ]
    },
    {
     "name": "stderr",
     "output_type": "stream",
     "text": [
      "WARNING:root:Lossy conversion from float32 to uint8. Range [0.0, 243.0]. Convert image to uint8 prior to saving to suppress this warning.\n"
     ]
    },
    {
     "name": "stdout",
     "output_type": "stream",
     "text": [
      "\n",
      "open tif file succeed\n",
      "1 1\n",
      "(256, 512, 3)\n",
      "float32\n",
      "E:/Dataset/202101_withDinghu/temp/Dataset/202112datasetV1/dataset/size256/v1/test/GANpatchesT\\W1_2453_1115.png\n",
      "Done!\n",
      "open tif file succeed\n",
      "open tif file succeed\n"
     ]
    },
    {
     "name": "stderr",
     "output_type": "stream",
     "text": [
      "WARNING:root:Lossy conversion from float32 to uint8. Range [0.0, 236.0]. Convert image to uint8 prior to saving to suppress this warning.\n",
      "WARNING:root:Lossy conversion from float32 to uint8. Range [0.0, 255.0]. Convert image to uint8 prior to saving to suppress this warning.\n"
     ]
    },
    {
     "name": "stdout",
     "output_type": "stream",
     "text": [
      "1 1\n",
      "(256, 512, 3)\n",
      "float32\n",
      "E:/Dataset/202101_withDinghu/temp/Dataset/202112datasetV1/dataset/size256/v1/test/GANpatchesT\\W1_2453_1338.png\n",
      "Done!\n",
      "open tif file succeed\n",
      "open tif file succeed\n",
      "1 1\n",
      "(256, 512, 3)\n",
      "float32\n",
      "E:/Dataset/202101_withDinghu/temp/Dataset/202112datasetV1/dataset/size256/v1/test/GANpatchesT\\W1_2453_1561.png\n"
     ]
    },
    {
     "name": "stderr",
     "output_type": "stream",
     "text": [
      "WARNING:root:Lossy conversion from float32 to uint8. Range [0.0, 255.0]. Convert image to uint8 prior to saving to suppress this warning.\n",
      "WARNING:root:Lossy conversion from float32 to uint8. Range [0.0, 255.0]. Convert image to uint8 prior to saving to suppress this warning.\n",
      "WARNING:root:Lossy conversion from float32 to uint8. Range [0.0, 255.0]. Convert image to uint8 prior to saving to suppress this warning.\n"
     ]
    },
    {
     "name": "stdout",
     "output_type": "stream",
     "text": [
      "Done!\n",
      "open tif file succeed\n",
      "open tif file succeed\n",
      "1 1\n",
      "(256, 512, 3)\n",
      "float32\n",
      "E:/Dataset/202101_withDinghu/temp/Dataset/202112datasetV1/dataset/size256/v1/test/GANpatchesT\\W1_2453_1784.png\n",
      "Done!\n",
      "open tif file succeed\n",
      "open tif file succeed\n",
      "1 1\n",
      "(256, 512, 3)\n",
      "float32\n",
      "E:/Dataset/202101_withDinghu/temp/Dataset/202112datasetV1/dataset/size256/v1/test/GANpatchesT\\W1_2453_2007.png\n",
      "Done!\n",
      "open tif file succeed\n",
      "open tif file succeed\n",
      "1 1\n",
      "(256, 512, 3)\n",
      "float32\n",
      "E:/Dataset/202101_withDinghu/temp/Dataset/202112datasetV1/dataset/size256/v1/test/GANpatchesT\\W1_2453_223.png\n"
     ]
    },
    {
     "name": "stderr",
     "output_type": "stream",
     "text": [
      "WARNING:root:Lossy conversion from float32 to uint8. Range [0.0, 255.0]. Convert image to uint8 prior to saving to suppress this warning.\n",
      "WARNING:root:Lossy conversion from float32 to uint8. Range [0.0, 255.0]. Convert image to uint8 prior to saving to suppress this warning.\n",
      "WARNING:root:Lossy conversion from float32 to uint8. Range [0.0, 255.0]. Convert image to uint8 prior to saving to suppress this warning.\n"
     ]
    },
    {
     "name": "stdout",
     "output_type": "stream",
     "text": [
      "Done!\n",
      "open tif file succeed\n",
      "open tif file succeed\n",
      "1 1\n",
      "(256, 512, 3)\n",
      "float32\n",
      "E:/Dataset/202101_withDinghu/temp/Dataset/202112datasetV1/dataset/size256/v1/test/GANpatchesT\\W1_2453_2230.png\n",
      "Done!\n",
      "open tif file succeed\n",
      "open tif file succeed\n",
      "1 1\n",
      "(256, 512, 3)\n",
      "float32\n",
      "E:/Dataset/202101_withDinghu/temp/Dataset/202112datasetV1/dataset/size256/v1/test/GANpatchesT\\W1_2453_2453.png\n",
      "Done!\n",
      "open tif file succeed\n",
      "open tif file succeed\n",
      "1 1\n",
      "(256, 512, 3)\n",
      "float32\n",
      "E:/Dataset/202101_withDinghu/temp/Dataset/202112datasetV1/dataset/size256/v1/test/GANpatchesT\\W1_2453_2676.png\n",
      "Done!\n",
      "open tif file succeed\n"
     ]
    },
    {
     "name": "stderr",
     "output_type": "stream",
     "text": [
      "WARNING:root:Lossy conversion from float32 to uint8. Range [0.0, 255.0]. Convert image to uint8 prior to saving to suppress this warning.\n",
      "WARNING:root:Lossy conversion from float32 to uint8. Range [0.0, 255.0]. Convert image to uint8 prior to saving to suppress this warning.\n",
      "WARNING:root:Lossy conversion from float32 to uint8. Range [0.0, 245.0]. Convert image to uint8 prior to saving to suppress this warning.\n"
     ]
    },
    {
     "name": "stdout",
     "output_type": "stream",
     "text": [
      "open tif file succeed\n",
      "1 1\n",
      "(256, 512, 3)\n",
      "float32\n",
      "E:/Dataset/202101_withDinghu/temp/Dataset/202112datasetV1/dataset/size256/v1/test/GANpatchesT\\W1_2453_2899.png\n",
      "Done!\n",
      "open tif file succeed\n",
      "open tif file succeed\n",
      "1 1\n",
      "(256, 512, 3)\n",
      "float32\n",
      "E:/Dataset/202101_withDinghu/temp/Dataset/202112datasetV1/dataset/size256/v1/test/GANpatchesT\\W1_2453_3122.png\n",
      "Done!\n",
      "open tif file succeed\n",
      "open tif file succeed\n",
      "1 1\n",
      "(256, 512, 3)\n",
      "float32\n",
      "E:/Dataset/202101_withDinghu/temp/Dataset/202112datasetV1/dataset/size256/v1/test/GANpatchesT\\W1_2453_446.png\n"
     ]
    },
    {
     "name": "stderr",
     "output_type": "stream",
     "text": [
      "WARNING:root:Lossy conversion from float32 to uint8. Range [0.0, 245.0]. Convert image to uint8 prior to saving to suppress this warning.\n",
      "WARNING:root:Lossy conversion from float32 to uint8. Range [0.0, 245.0]. Convert image to uint8 prior to saving to suppress this warning.\n"
     ]
    },
    {
     "name": "stdout",
     "output_type": "stream",
     "text": [
      "Done!\n",
      "open tif file succeed\n",
      "open tif file succeed\n",
      "1 1\n",
      "(256, 512, 3)\n",
      "float32\n",
      "E:/Dataset/202101_withDinghu/temp/Dataset/202112datasetV1/dataset/size256/v1/test/GANpatchesT\\W1_2453_669.png\n",
      "Done!\n",
      "open tif file succeed\n",
      "open tif file succeed\n",
      "1 1\n",
      "(256, 512, 3)\n",
      "float32\n",
      "E:/Dataset/202101_withDinghu/temp/Dataset/202112datasetV1/dataset/size256/v1/test/GANpatchesT\\W1_2453_892.png\n"
     ]
    },
    {
     "name": "stderr",
     "output_type": "stream",
     "text": [
      "WARNING:root:Lossy conversion from float32 to uint8. Range [0.0, 255.0]. Convert image to uint8 prior to saving to suppress this warning.\n",
      "WARNING:root:Lossy conversion from float32 to uint8. Range [0.0, 235.0]. Convert image to uint8 prior to saving to suppress this warning.\n"
     ]
    },
    {
     "name": "stdout",
     "output_type": "stream",
     "text": [
      "Done!\n",
      "open tif file succeed\n",
      "open tif file succeed\n",
      "1 1\n",
      "(256, 512, 3)\n",
      "float32\n",
      "E:/Dataset/202101_withDinghu/temp/Dataset/202112datasetV1/dataset/size256/v1/test/GANpatchesT\\W1_2676_0.png\n",
      "Done!\n",
      "open tif file succeed\n",
      "open tif file succeed\n",
      "1 1\n",
      "(256, 512, 3)\n",
      "float32\n",
      "E:/Dataset/202101_withDinghu/temp/Dataset/202112datasetV1/dataset/size256/v1/test/GANpatchesT\\W1_2676_1115.png\n",
      "Done!\n"
     ]
    },
    {
     "name": "stderr",
     "output_type": "stream",
     "text": [
      "WARNING:root:Lossy conversion from float32 to uint8. Range [0.0, 240.0]. Convert image to uint8 prior to saving to suppress this warning.\n",
      "WARNING:root:Lossy conversion from float32 to uint8. Range [0.0, 241.0]. Convert image to uint8 prior to saving to suppress this warning.\n"
     ]
    },
    {
     "name": "stdout",
     "output_type": "stream",
     "text": [
      "open tif file succeed\n",
      "open tif file succeed\n",
      "1 1\n",
      "(256, 512, 3)\n",
      "float32\n",
      "E:/Dataset/202101_withDinghu/temp/Dataset/202112datasetV1/dataset/size256/v1/test/GANpatchesT\\W1_2676_1338.png\n",
      "Done!\n",
      "open tif file succeed\n",
      "open tif file succeed\n",
      "1 1\n",
      "(256, 512, 3)\n",
      "float32\n",
      "E:/Dataset/202101_withDinghu/temp/Dataset/202112datasetV1/dataset/size256/v1/test/GANpatchesT\\W1_2676_1561.png\n"
     ]
    },
    {
     "name": "stderr",
     "output_type": "stream",
     "text": [
      "WARNING:root:Lossy conversion from float32 to uint8. Range [0.0, 255.0]. Convert image to uint8 prior to saving to suppress this warning.\n"
     ]
    },
    {
     "name": "stdout",
     "output_type": "stream",
     "text": [
      "Done!\n",
      "open tif file succeed\n",
      "open tif file succeed\n",
      "1 1\n",
      "(256, 512, 3)\n",
      "float32\n",
      "E:/Dataset/202101_withDinghu/temp/Dataset/202112datasetV1/dataset/size256/v1/test/GANpatchesT\\W1_2676_1784.png\n",
      "Done!\n",
      "open tif file succeed\n"
     ]
    },
    {
     "name": "stderr",
     "output_type": "stream",
     "text": [
      "WARNING:root:Lossy conversion from float32 to uint8. Range [0.0, 255.0]. Convert image to uint8 prior to saving to suppress this warning.\n",
      "WARNING:root:Lossy conversion from float32 to uint8. Range [0.0, 255.0]. Convert image to uint8 prior to saving to suppress this warning.\n"
     ]
    },
    {
     "name": "stdout",
     "output_type": "stream",
     "text": [
      "open tif file succeed\n",
      "1 1\n",
      "(256, 512, 3)\n",
      "float32\n",
      "E:/Dataset/202101_withDinghu/temp/Dataset/202112datasetV1/dataset/size256/v1/test/GANpatchesT\\W1_2676_2007.png\n",
      "Done!\n",
      "open tif file succeed\n",
      "open tif file succeed\n",
      "1 1\n",
      "(256, 512, 3)\n",
      "float32\n",
      "E:/Dataset/202101_withDinghu/temp/Dataset/202112datasetV1/dataset/size256/v1/test/GANpatchesT\\W1_2676_223.png\n",
      "Done!\n",
      "open tif file succeed\n",
      "open tif file succeed\n"
     ]
    },
    {
     "name": "stderr",
     "output_type": "stream",
     "text": [
      "WARNING:root:Lossy conversion from float32 to uint8. Range [0.0, 255.0]. Convert image to uint8 prior to saving to suppress this warning.\n",
      "WARNING:root:Lossy conversion from float32 to uint8. Range [0.0, 255.0]. Convert image to uint8 prior to saving to suppress this warning.\n",
      "WARNING:root:Lossy conversion from float32 to uint8. Range [0.0, 255.0]. Convert image to uint8 prior to saving to suppress this warning.\n",
      "WARNING:root:Lossy conversion from float32 to uint8. Range [0.0, 255.0]. Convert image to uint8 prior to saving to suppress this warning.\n"
     ]
    },
    {
     "name": "stdout",
     "output_type": "stream",
     "text": [
      "1 1\n",
      "(256, 512, 3)\n",
      "float32\n",
      "E:/Dataset/202101_withDinghu/temp/Dataset/202112datasetV1/dataset/size256/v1/test/GANpatchesT\\W1_2676_2230.png\n",
      "Done!\n",
      "open tif file succeed\n",
      "open tif file succeed\n",
      "1 1\n",
      "(256, 512, 3)\n",
      "float32\n",
      "E:/Dataset/202101_withDinghu/temp/Dataset/202112datasetV1/dataset/size256/v1/test/GANpatchesT\\W1_2676_2453.png\n",
      "Done!\n",
      "open tif file succeed\n",
      "open tif file succeed\n",
      "1 1\n",
      "(256, 512, 3)\n",
      "float32\n",
      "E:/Dataset/202101_withDinghu/temp/Dataset/202112datasetV1/dataset/size256/v1/test/GANpatchesT\\W1_2676_2676.png\n",
      "Done!\n",
      "open tif file succeed\n",
      "open tif file succeed\n",
      "1 1\n",
      "(256, 512, 3)\n",
      "float32\n",
      "E:/Dataset/202101_withDinghu/temp/Dataset/202112datasetV1/dataset/size256/v1/test/GANpatchesT\\W1_2676_2899.png\n",
      "Done!\n"
     ]
    },
    {
     "name": "stderr",
     "output_type": "stream",
     "text": [
      "WARNING:root:Lossy conversion from float32 to uint8. Range [0.0, 255.0]. Convert image to uint8 prior to saving to suppress this warning.\n",
      "WARNING:root:Lossy conversion from float32 to uint8. Range [0.0, 255.0]. Convert image to uint8 prior to saving to suppress this warning.\n",
      "WARNING:root:Lossy conversion from float32 to uint8. Range [0.0, 255.0]. Convert image to uint8 prior to saving to suppress this warning.\n"
     ]
    },
    {
     "name": "stdout",
     "output_type": "stream",
     "text": [
      "open tif file succeed\n",
      "open tif file succeed\n",
      "1 1\n",
      "(256, 512, 3)\n",
      "float32\n",
      "E:/Dataset/202101_withDinghu/temp/Dataset/202112datasetV1/dataset/size256/v1/test/GANpatchesT\\W1_2676_3122.png\n",
      "Done!\n",
      "open tif file succeed\n",
      "open tif file succeed\n",
      "1 1\n",
      "(256, 512, 3)\n",
      "float32\n",
      "E:/Dataset/202101_withDinghu/temp/Dataset/202112datasetV1/dataset/size256/v1/test/GANpatchesT\\W1_2676_446.png\n",
      "Done!\n",
      "open tif file succeed\n",
      "open tif file succeed\n",
      "1 1\n",
      "(256, 512, 3)\n",
      "float32\n",
      "E:/Dataset/202101_withDinghu/temp/Dataset/202112datasetV1/dataset/size256/v1/test/GANpatchesT\\W1_2676_669.png\n"
     ]
    },
    {
     "name": "stderr",
     "output_type": "stream",
     "text": [
      "WARNING:root:Lossy conversion from float32 to uint8. Range [0.0, 245.0]. Convert image to uint8 prior to saving to suppress this warning.\n"
     ]
    },
    {
     "name": "stdout",
     "output_type": "stream",
     "text": [
      "Done!\n",
      "open tif file succeed\n",
      "open tif file succeed\n",
      "1 1\n",
      "(256, 512, 3)\n",
      "float32\n",
      "E:/Dataset/202101_withDinghu/temp/Dataset/202112datasetV1/dataset/size256/v1/test/GANpatchesT\\W1_2676_892.png\n",
      "Done!\n",
      "open tif file succeed\n",
      "open tif file succeed\n",
      "1 1\n",
      "(256, 512, 3)\n"
     ]
    },
    {
     "name": "stderr",
     "output_type": "stream",
     "text": [
      "WARNING:root:Lossy conversion from float32 to uint8. Range [0.0, 255.0]. Convert image to uint8 prior to saving to suppress this warning.\n",
      "WARNING:root:Lossy conversion from float32 to uint8. Range [0.0, 255.0]. Convert image to uint8 prior to saving to suppress this warning.\n"
     ]
    },
    {
     "name": "stdout",
     "output_type": "stream",
     "text": [
      "float32\n",
      "E:/Dataset/202101_withDinghu/temp/Dataset/202112datasetV1/dataset/size256/v1/test/GANpatchesT\\W1_2899_0.png\n",
      "Done!\n",
      "open tif file succeed\n",
      "open tif file succeed\n",
      "1 1\n",
      "(256, 512, 3)\n",
      "float32\n",
      "E:/Dataset/202101_withDinghu/temp/Dataset/202112datasetV1/dataset/size256/v1/test/GANpatchesT\\W1_2899_1115.png\n",
      "Done!\n"
     ]
    },
    {
     "name": "stderr",
     "output_type": "stream",
     "text": [
      "WARNING:root:Lossy conversion from float32 to uint8. Range [0.0, 247.0]. Convert image to uint8 prior to saving to suppress this warning.\n"
     ]
    },
    {
     "name": "stdout",
     "output_type": "stream",
     "text": [
      "open tif file succeed\n",
      "open tif file succeed\n",
      "1 1\n",
      "(256, 512, 3)\n",
      "float32\n",
      "E:/Dataset/202101_withDinghu/temp/Dataset/202112datasetV1/dataset/size256/v1/test/GANpatchesT\\W1_2899_1338.png\n",
      "Done!\n",
      "open tif file succeed\n",
      "open tif file succeed\n"
     ]
    },
    {
     "name": "stderr",
     "output_type": "stream",
     "text": [
      "WARNING:root:Lossy conversion from float32 to uint8. Range [0.0, 246.0]. Convert image to uint8 prior to saving to suppress this warning.\n",
      "WARNING:root:Lossy conversion from float32 to uint8. Range [0.0, 255.0]. Convert image to uint8 prior to saving to suppress this warning.\n"
     ]
    },
    {
     "name": "stdout",
     "output_type": "stream",
     "text": [
      "1 1\n",
      "(256, 512, 3)\n",
      "float32\n",
      "E:/Dataset/202101_withDinghu/temp/Dataset/202112datasetV1/dataset/size256/v1/test/GANpatchesT\\W1_2899_1561.png\n",
      "Done!\n",
      "open tif file succeed\n",
      "open tif file succeed\n",
      "1 1\n",
      "(256, 512, 3)\n",
      "float32\n",
      "E:/Dataset/202101_withDinghu/temp/Dataset/202112datasetV1/dataset/size256/v1/test/GANpatchesT\\W1_2899_1784.png\n"
     ]
    },
    {
     "name": "stderr",
     "output_type": "stream",
     "text": [
      "WARNING:root:Lossy conversion from float32 to uint8. Range [0.0, 255.0]. Convert image to uint8 prior to saving to suppress this warning.\n",
      "WARNING:root:Lossy conversion from float32 to uint8. Range [0.0, 255.0]. Convert image to uint8 prior to saving to suppress this warning.\n",
      "WARNING:root:Lossy conversion from float32 to uint8. Range [0.0, 255.0]. Convert image to uint8 prior to saving to suppress this warning.\n",
      "WARNING:root:Lossy conversion from float32 to uint8. Range [0.0, 255.0]. Convert image to uint8 prior to saving to suppress this warning.\n"
     ]
    },
    {
     "name": "stdout",
     "output_type": "stream",
     "text": [
      "Done!\n",
      "open tif file succeed\n",
      "open tif file succeed\n",
      "1 1\n",
      "(256, 512, 3)\n",
      "float32\n",
      "E:/Dataset/202101_withDinghu/temp/Dataset/202112datasetV1/dataset/size256/v1/test/GANpatchesT\\W1_2899_2007.png\n",
      "Done!\n",
      "open tif file succeed\n",
      "open tif file succeed\n",
      "1 1\n",
      "(256, 512, 3)\n",
      "float32\n",
      "E:/Dataset/202101_withDinghu/temp/Dataset/202112datasetV1/dataset/size256/v1/test/GANpatchesT\\W1_2899_223.png\n",
      "Done!\n",
      "open tif file succeed\n",
      "open tif file succeed\n",
      "1 1\n",
      "(256, 512, 3)\n",
      "float32\n",
      "E:/Dataset/202101_withDinghu/temp/Dataset/202112datasetV1/dataset/size256/v1/test/GANpatchesT\\W1_2899_2230.png\n",
      "Done!\n",
      "open tif file succeed\n",
      "open tif file succeed\n",
      "1 1\n",
      "(256, 512, 3)\n",
      "float32\n",
      "E:/Dataset/202101_withDinghu/temp/Dataset/202112datasetV1/dataset/size256/v1/test/GANpatchesT\\W1_2899_2453.png\n",
      "Done!\n",
      "open tif file succeed\n"
     ]
    },
    {
     "name": "stderr",
     "output_type": "stream",
     "text": [
      "WARNING:root:Lossy conversion from float32 to uint8. Range [0.0, 255.0]. Convert image to uint8 prior to saving to suppress this warning.\n",
      "WARNING:root:Lossy conversion from float32 to uint8. Range [0.0, 255.0]. Convert image to uint8 prior to saving to suppress this warning.\n",
      "WARNING:root:Lossy conversion from float32 to uint8. Range [0.0, 255.0]. Convert image to uint8 prior to saving to suppress this warning.\n",
      "WARNING:root:Lossy conversion from float32 to uint8. Range [0.0, 255.0]. Convert image to uint8 prior to saving to suppress this warning.\n"
     ]
    },
    {
     "name": "stdout",
     "output_type": "stream",
     "text": [
      "open tif file succeed\n",
      "1 1\n",
      "(256, 512, 3)\n",
      "float32\n",
      "E:/Dataset/202101_withDinghu/temp/Dataset/202112datasetV1/dataset/size256/v1/test/GANpatchesT\\W1_2899_2676.png\n",
      "Done!\n",
      "open tif file succeed\n",
      "open tif file succeed\n",
      "1 1\n",
      "(256, 512, 3)\n",
      "float32\n",
      "E:/Dataset/202101_withDinghu/temp/Dataset/202112datasetV1/dataset/size256/v1/test/GANpatchesT\\W1_2899_2899.png\n",
      "Done!\n",
      "open tif file succeed\n",
      "open tif file succeed\n",
      "1 1\n",
      "(256, 512, 3)\n",
      "float32\n",
      "E:/Dataset/202101_withDinghu/temp/Dataset/202112datasetV1/dataset/size256/v1/test/GANpatchesT\\W1_2899_3122.png\n",
      "Done!\n",
      "open tif file succeed\n",
      "open tif file succeed\n",
      "1 1\n",
      "(256, 512, 3)\n",
      "float32\n",
      "E:/Dataset/202101_withDinghu/temp/Dataset/202112datasetV1/dataset/size256/v1/test/GANpatchesT\\W1_2899_446.png\n",
      "Done!\n",
      "open tif file succeed\n",
      "open tif file succeed\n"
     ]
    },
    {
     "name": "stderr",
     "output_type": "stream",
     "text": [
      "WARNING:root:Lossy conversion from float32 to uint8. Range [0.0, 255.0]. Convert image to uint8 prior to saving to suppress this warning.\n",
      "WARNING:root:Lossy conversion from float32 to uint8. Range [0.0, 255.0]. Convert image to uint8 prior to saving to suppress this warning.\n"
     ]
    },
    {
     "name": "stdout",
     "output_type": "stream",
     "text": [
      "1 1\n",
      "(256, 512, 3)\n",
      "float32\n",
      "E:/Dataset/202101_withDinghu/temp/Dataset/202112datasetV1/dataset/size256/v1/test/GANpatchesT\\W1_2899_669.png\n",
      "Done!\n",
      "open tif file succeed\n",
      "open tif file succeed\n",
      "1 1\n",
      "(256, 512, 3)\n",
      "float32\n",
      "E:/Dataset/202101_withDinghu/temp/Dataset/202112datasetV1/dataset/size256/v1/test/GANpatchesT\\W1_2899_892.png\n"
     ]
    },
    {
     "name": "stderr",
     "output_type": "stream",
     "text": [
      "WARNING:root:Lossy conversion from float32 to uint8. Range [0.0, 255.0]. Convert image to uint8 prior to saving to suppress this warning.\n",
      "WARNING:root:Lossy conversion from float32 to uint8. Range [0.0, 255.0]. Convert image to uint8 prior to saving to suppress this warning.\n",
      "WARNING:root:Lossy conversion from float32 to uint8. Range [0.0, 255.0]. Convert image to uint8 prior to saving to suppress this warning.\n"
     ]
    },
    {
     "name": "stdout",
     "output_type": "stream",
     "text": [
      "Done!\n",
      "open tif file succeed\n",
      "open tif file succeed\n",
      "1 1\n",
      "(256, 512, 3)\n",
      "float32\n",
      "E:/Dataset/202101_withDinghu/temp/Dataset/202112datasetV1/dataset/size256/v1/test/GANpatchesT\\W1_446_0.png\n",
      "Done!\n",
      "open tif file succeed\n",
      "open tif file succeed\n",
      "1 1\n",
      "(256, 512, 3)\n",
      "float32\n",
      "E:/Dataset/202101_withDinghu/temp/Dataset/202112datasetV1/dataset/size256/v1/test/GANpatchesT\\W1_446_1115.png\n",
      "Done!\n",
      "open tif file succeed\n",
      "open tif file succeed\n",
      "1 1\n",
      "(256, 512, 3)\n",
      "float32\n",
      "E:/Dataset/202101_withDinghu/temp/Dataset/202112datasetV1/dataset/size256/v1/test/GANpatchesT\\W1_446_1338.png\n",
      "Done!\n"
     ]
    },
    {
     "name": "stderr",
     "output_type": "stream",
     "text": [
      "WARNING:root:Lossy conversion from float32 to uint8. Range [0.0, 255.0]. Convert image to uint8 prior to saving to suppress this warning.\n",
      "WARNING:root:Lossy conversion from float32 to uint8. Range [0.0, 255.0]. Convert image to uint8 prior to saving to suppress this warning.\n",
      "WARNING:root:Lossy conversion from float32 to uint8. Range [0.0, 255.0]. Convert image to uint8 prior to saving to suppress this warning.\n",
      "WARNING:root:Lossy conversion from float32 to uint8. Range [0.0, 255.0]. Convert image to uint8 prior to saving to suppress this warning.\n"
     ]
    },
    {
     "name": "stdout",
     "output_type": "stream",
     "text": [
      "open tif file succeed\n",
      "open tif file succeed\n",
      "1 1\n",
      "(256, 512, 3)\n",
      "float32\n",
      "E:/Dataset/202101_withDinghu/temp/Dataset/202112datasetV1/dataset/size256/v1/test/GANpatchesT\\W1_446_1561.png\n",
      "Done!\n",
      "open tif file succeed\n",
      "open tif file succeed\n",
      "1 1\n",
      "(256, 512, 3)\n",
      "float32\n",
      "E:/Dataset/202101_withDinghu/temp/Dataset/202112datasetV1/dataset/size256/v1/test/GANpatchesT\\W1_446_1784.png\n",
      "Done!\n",
      "open tif file succeed\n",
      "open tif file succeed\n",
      "1 1\n",
      "(256, 512, 3)\n",
      "float32\n",
      "E:/Dataset/202101_withDinghu/temp/Dataset/202112datasetV1/dataset/size256/v1/test/GANpatchesT\\W1_446_2007.png\n",
      "Done!\n",
      "open tif file succeed\n",
      "open tif file succeed\n",
      "1 1\n",
      "(256, 512, 3)\n",
      "float32\n",
      "E:/Dataset/202101_withDinghu/temp/Dataset/202112datasetV1/dataset/size256/v1/test/GANpatchesT\\W1_446_223.png\n",
      "Done!\n",
      "open tif file succeed\n"
     ]
    },
    {
     "name": "stderr",
     "output_type": "stream",
     "text": [
      "WARNING:root:Lossy conversion from float32 to uint8. Range [0.0, 255.0]. Convert image to uint8 prior to saving to suppress this warning.\n",
      "WARNING:root:Lossy conversion from float32 to uint8. Range [0.0, 255.0]. Convert image to uint8 prior to saving to suppress this warning.\n",
      "WARNING:root:Lossy conversion from float32 to uint8. Range [0.0, 255.0]. Convert image to uint8 prior to saving to suppress this warning.\n",
      "WARNING:root:Lossy conversion from float32 to uint8. Range [0.0, 255.0]. Convert image to uint8 prior to saving to suppress this warning.\n"
     ]
    },
    {
     "name": "stdout",
     "output_type": "stream",
     "text": [
      "open tif file succeed\n",
      "1 1\n",
      "(256, 512, 3)\n",
      "float32\n",
      "E:/Dataset/202101_withDinghu/temp/Dataset/202112datasetV1/dataset/size256/v1/test/GANpatchesT\\W1_446_2230.png\n",
      "Done!\n",
      "open tif file succeed\n",
      "open tif file succeed\n",
      "1 1\n",
      "(256, 512, 3)\n",
      "float32\n",
      "E:/Dataset/202101_withDinghu/temp/Dataset/202112datasetV1/dataset/size256/v1/test/GANpatchesT\\W1_446_2453.png\n",
      "Done!\n",
      "open tif file succeed\n",
      "open tif file succeed\n",
      "1 1\n",
      "(256, 512, 3)\n",
      "float32\n",
      "E:/Dataset/202101_withDinghu/temp/Dataset/202112datasetV1/dataset/size256/v1/test/GANpatchesT\\W1_446_2676.png\n",
      "Done!\n",
      "open tif file succeed\n",
      "open tif file succeed\n",
      "1 1\n",
      "(256, 512, 3)\n",
      "float32\n",
      "E:/Dataset/202101_withDinghu/temp/Dataset/202112datasetV1/dataset/size256/v1/test/GANpatchesT\\W1_446_2899.png\n",
      "Done!\n"
     ]
    },
    {
     "name": "stderr",
     "output_type": "stream",
     "text": [
      "WARNING:root:Lossy conversion from float32 to uint8. Range [0.0, 255.0]. Convert image to uint8 prior to saving to suppress this warning.\n",
      "WARNING:root:Lossy conversion from float32 to uint8. Range [0.0, 255.0]. Convert image to uint8 prior to saving to suppress this warning.\n"
     ]
    },
    {
     "name": "stdout",
     "output_type": "stream",
     "text": [
      "open tif file succeed\n",
      "open tif file succeed\n",
      "1 1\n",
      "(256, 512, 3)\n",
      "float32\n",
      "E:/Dataset/202101_withDinghu/temp/Dataset/202112datasetV1/dataset/size256/v1/test/GANpatchesT\\W1_446_3122.png\n",
      "Done!\n",
      "open tif file succeed\n",
      "open tif file succeed\n",
      "1 1\n",
      "(256, 512, 3)\n",
      "float32\n",
      "E:/Dataset/202101_withDinghu/temp/Dataset/202112datasetV1/dataset/size256/v1/test/GANpatchesT\\W1_446_446.png\n",
      "Done!\n"
     ]
    },
    {
     "name": "stderr",
     "output_type": "stream",
     "text": [
      "WARNING:root:Lossy conversion from float32 to uint8. Range [0.0, 224.0]. Convert image to uint8 prior to saving to suppress this warning.\n",
      "WARNING:root:Lossy conversion from float32 to uint8. Range [0.0, 255.0]. Convert image to uint8 prior to saving to suppress this warning.\n"
     ]
    },
    {
     "name": "stdout",
     "output_type": "stream",
     "text": [
      "open tif file succeed\n",
      "open tif file succeed\n",
      "1 1\n",
      "(256, 512, 3)\n",
      "float32\n",
      "E:/Dataset/202101_withDinghu/temp/Dataset/202112datasetV1/dataset/size256/v1/test/GANpatchesT\\W1_446_669.png\n",
      "Done!\n",
      "open tif file succeed\n",
      "open tif file succeed\n",
      "1 1\n",
      "(256, 512, 3)\n",
      "float32\n",
      "E:/Dataset/202101_withDinghu/temp/Dataset/202112datasetV1/dataset/size256/v1/test/GANpatchesT\\W1_446_892.png\n"
     ]
    },
    {
     "name": "stderr",
     "output_type": "stream",
     "text": [
      "WARNING:root:Lossy conversion from float32 to uint8. Range [0.0, 255.0]. Convert image to uint8 prior to saving to suppress this warning.\n",
      "WARNING:root:Lossy conversion from float32 to uint8. Range [0.0, 255.0]. Convert image to uint8 prior to saving to suppress this warning.\n"
     ]
    },
    {
     "name": "stdout",
     "output_type": "stream",
     "text": [
      "Done!\n",
      "open tif file succeed\n",
      "open tif file succeed\n",
      "1 1\n",
      "(256, 512, 3)\n",
      "float32\n",
      "E:/Dataset/202101_withDinghu/temp/Dataset/202112datasetV1/dataset/size256/v1/test/GANpatchesT\\W1_669_0.png\n",
      "Done!\n",
      "open tif file succeed\n",
      "open tif file succeed\n",
      "1 1\n",
      "(256, 512, 3)\n",
      "float32\n",
      "E:/Dataset/202101_withDinghu/temp/Dataset/202112datasetV1/dataset/size256/v1/test/GANpatchesT\\W1_669_1115.png\n"
     ]
    },
    {
     "name": "stderr",
     "output_type": "stream",
     "text": [
      "WARNING:root:Lossy conversion from float32 to uint8. Range [0.0, 255.0]. Convert image to uint8 prior to saving to suppress this warning.\n",
      "WARNING:root:Lossy conversion from float32 to uint8. Range [0.0, 255.0]. Convert image to uint8 prior to saving to suppress this warning.\n",
      "WARNING:root:Lossy conversion from float32 to uint8. Range [0.0, 255.0]. Convert image to uint8 prior to saving to suppress this warning.\n"
     ]
    },
    {
     "name": "stdout",
     "output_type": "stream",
     "text": [
      "Done!\n",
      "open tif file succeed\n",
      "open tif file succeed\n",
      "1 1\n",
      "(256, 512, 3)\n",
      "float32\n",
      "E:/Dataset/202101_withDinghu/temp/Dataset/202112datasetV1/dataset/size256/v1/test/GANpatchesT\\W1_669_1338.png\n",
      "Done!\n",
      "open tif file succeed\n",
      "open tif file succeed\n",
      "1 1\n",
      "(256, 512, 3)\n",
      "float32\n",
      "E:/Dataset/202101_withDinghu/temp/Dataset/202112datasetV1/dataset/size256/v1/test/GANpatchesT\\W1_669_1561.png\n",
      "Done!\n",
      "open tif file succeed\n",
      "open tif file succeed\n",
      "1 1\n",
      "(256, 512, 3)\n",
      "float32\n",
      "E:/Dataset/202101_withDinghu/temp/Dataset/202112datasetV1/dataset/size256/v1/test/GANpatchesT\\W1_669_1784.png\n",
      "Done!\n",
      "open tif file succeed\n",
      "open tif file succeed\n"
     ]
    },
    {
     "name": "stderr",
     "output_type": "stream",
     "text": [
      "WARNING:root:Lossy conversion from float32 to uint8. Range [0.0, 255.0]. Convert image to uint8 prior to saving to suppress this warning.\n",
      "WARNING:root:Lossy conversion from float32 to uint8. Range [0.0, 255.0]. Convert image to uint8 prior to saving to suppress this warning.\n",
      "WARNING:root:Lossy conversion from float32 to uint8. Range [0.0, 255.0]. Convert image to uint8 prior to saving to suppress this warning.\n"
     ]
    },
    {
     "name": "stdout",
     "output_type": "stream",
     "text": [
      "1 1\n",
      "(256, 512, 3)\n",
      "float32\n",
      "E:/Dataset/202101_withDinghu/temp/Dataset/202112datasetV1/dataset/size256/v1/test/GANpatchesT\\W1_669_2007.png\n",
      "Done!\n",
      "open tif file succeed\n",
      "open tif file succeed\n",
      "1 1\n",
      "(256, 512, 3)\n",
      "float32\n",
      "E:/Dataset/202101_withDinghu/temp/Dataset/202112datasetV1/dataset/size256/v1/test/GANpatchesT\\W1_669_223.png\n",
      "Done!\n",
      "open tif file succeed\n",
      "open tif file succeed\n",
      "1 1\n",
      "(256, 512, 3)\n",
      "float32\n",
      "E:/Dataset/202101_withDinghu/temp/Dataset/202112datasetV1/dataset/size256/v1/test/GANpatchesT\\W1_669_2230.png\n",
      "Done!\n"
     ]
    },
    {
     "name": "stderr",
     "output_type": "stream",
     "text": [
      "WARNING:root:Lossy conversion from float32 to uint8. Range [0.0, 255.0]. Convert image to uint8 prior to saving to suppress this warning.\n",
      "WARNING:root:Lossy conversion from float32 to uint8. Range [0.0, 255.0]. Convert image to uint8 prior to saving to suppress this warning.\n",
      "WARNING:root:Lossy conversion from float32 to uint8. Range [0.0, 255.0]. Convert image to uint8 prior to saving to suppress this warning.\n",
      "WARNING:root:Lossy conversion from float32 to uint8. Range [0.0, 255.0]. Convert image to uint8 prior to saving to suppress this warning.\n"
     ]
    },
    {
     "name": "stdout",
     "output_type": "stream",
     "text": [
      "open tif file succeed\n",
      "open tif file succeed\n",
      "1 1\n",
      "(256, 512, 3)\n",
      "float32\n",
      "E:/Dataset/202101_withDinghu/temp/Dataset/202112datasetV1/dataset/size256/v1/test/GANpatchesT\\W1_669_2453.png\n",
      "Done!\n",
      "open tif file succeed\n",
      "open tif file succeed\n",
      "1 1\n",
      "(256, 512, 3)\n",
      "float32\n",
      "E:/Dataset/202101_withDinghu/temp/Dataset/202112datasetV1/dataset/size256/v1/test/GANpatchesT\\W1_669_2676.png\n",
      "Done!\n",
      "open tif file succeed\n",
      "open tif file succeed\n",
      "1 1\n",
      "(256, 512, 3)\n",
      "float32\n",
      "E:/Dataset/202101_withDinghu/temp/Dataset/202112datasetV1/dataset/size256/v1/test/GANpatchesT\\W1_669_2899.png\n",
      "Done!\n",
      "open tif file succeed\n",
      "open tif file succeed\n",
      "1 1\n",
      "(256, 512, 3)\n",
      "float32\n",
      "E:/Dataset/202101_withDinghu/temp/Dataset/202112datasetV1/dataset/size256/v1/test/GANpatchesT\\W1_669_3122.png\n",
      "Done!\n",
      "open tif file succeed\n"
     ]
    },
    {
     "name": "stderr",
     "output_type": "stream",
     "text": [
      "WARNING:root:Lossy conversion from float32 to uint8. Range [0.0, 255.0]. Convert image to uint8 prior to saving to suppress this warning.\n",
      "WARNING:root:Lossy conversion from float32 to uint8. Range [0.0, 230.0]. Convert image to uint8 prior to saving to suppress this warning.\n"
     ]
    },
    {
     "name": "stdout",
     "output_type": "stream",
     "text": [
      "open tif file succeed\n",
      "1 1\n",
      "(256, 512, 3)\n",
      "float32\n",
      "E:/Dataset/202101_withDinghu/temp/Dataset/202112datasetV1/dataset/size256/v1/test/GANpatchesT\\W1_669_446.png\n",
      "Done!\n",
      "open tif file succeed\n",
      "open tif file succeed\n",
      "1 1\n",
      "(256, 512, 3)\n",
      "float32\n",
      "E:/Dataset/202101_withDinghu/temp/Dataset/202112datasetV1/dataset/size256/v1/test/GANpatchesT\\W1_669_669.png\n"
     ]
    },
    {
     "name": "stderr",
     "output_type": "stream",
     "text": [
      "WARNING:root:Lossy conversion from float32 to uint8. Range [0.0, 222.0]. Convert image to uint8 prior to saving to suppress this warning.\n",
      "WARNING:root:Lossy conversion from float32 to uint8. Range [0.0, 255.0]. Convert image to uint8 prior to saving to suppress this warning.\n"
     ]
    },
    {
     "name": "stdout",
     "output_type": "stream",
     "text": [
      "Done!\n",
      "open tif file succeed\n",
      "open tif file succeed\n",
      "1 1\n",
      "(256, 512, 3)\n",
      "float32\n",
      "E:/Dataset/202101_withDinghu/temp/Dataset/202112datasetV1/dataset/size256/v1/test/GANpatchesT\\W1_669_892.png\n",
      "Done!\n",
      "open tif file succeed\n",
      "open tif file succeed\n",
      "1 1\n",
      "(256, 512, 3)\n",
      "float32\n",
      "E:/Dataset/202101_withDinghu/temp/Dataset/202112datasetV1/dataset/size256/v1/test/GANpatchesT\\W1_892_0.png\n"
     ]
    },
    {
     "name": "stderr",
     "output_type": "stream",
     "text": [
      "WARNING:root:Lossy conversion from float32 to uint8. Range [0.0, 232.0]. Convert image to uint8 prior to saving to suppress this warning.\n"
     ]
    },
    {
     "name": "stdout",
     "output_type": "stream",
     "text": [
      "Done!\n",
      "open tif file succeed\n",
      "open tif file succeed\n",
      "1 1\n",
      "(256, 512, 3)\n",
      "float32\n",
      "E:/Dataset/202101_withDinghu/temp/Dataset/202112datasetV1/dataset/size256/v1/test/GANpatchesT\\W1_892_1115.png\n",
      "Done!\n",
      "open tif file succeed\n"
     ]
    },
    {
     "name": "stderr",
     "output_type": "stream",
     "text": [
      "WARNING:root:Lossy conversion from float32 to uint8. Range [0.0, 255.0]. Convert image to uint8 prior to saving to suppress this warning.\n",
      "WARNING:root:Lossy conversion from float32 to uint8. Range [0.0, 255.0]. Convert image to uint8 prior to saving to suppress this warning.\n"
     ]
    },
    {
     "name": "stdout",
     "output_type": "stream",
     "text": [
      "open tif file succeed\n",
      "1 1\n",
      "(256, 512, 3)\n",
      "float32\n",
      "E:/Dataset/202101_withDinghu/temp/Dataset/202112datasetV1/dataset/size256/v1/test/GANpatchesT\\W1_892_1338.png\n",
      "Done!\n",
      "open tif file succeed\n",
      "open tif file succeed\n",
      "1 1\n",
      "(256, 512, 3)\n",
      "float32\n",
      "E:/Dataset/202101_withDinghu/temp/Dataset/202112datasetV1/dataset/size256/v1/test/GANpatchesT\\W1_892_1561.png\n",
      "Done!\n",
      "open tif file succeed\n"
     ]
    },
    {
     "name": "stderr",
     "output_type": "stream",
     "text": [
      "WARNING:root:Lossy conversion from float32 to uint8. Range [0.0, 255.0]. Convert image to uint8 prior to saving to suppress this warning.\n",
      "WARNING:root:Lossy conversion from float32 to uint8. Range [0.0, 255.0]. Convert image to uint8 prior to saving to suppress this warning.\n",
      "WARNING:root:Lossy conversion from float32 to uint8. Range [0.0, 255.0]. Convert image to uint8 prior to saving to suppress this warning.\n"
     ]
    },
    {
     "name": "stdout",
     "output_type": "stream",
     "text": [
      "open tif file succeed\n",
      "1 1\n",
      "(256, 512, 3)\n",
      "float32\n",
      "E:/Dataset/202101_withDinghu/temp/Dataset/202112datasetV1/dataset/size256/v1/test/GANpatchesT\\W1_892_1784.png\n",
      "Done!\n",
      "open tif file succeed\n",
      "open tif file succeed\n",
      "1 1\n",
      "(256, 512, 3)\n",
      "float32\n",
      "E:/Dataset/202101_withDinghu/temp/Dataset/202112datasetV1/dataset/size256/v1/test/GANpatchesT\\W1_892_2007.png\n",
      "Done!\n",
      "open tif file succeed\n",
      "open tif file succeed\n",
      "1 1\n",
      "(256, 512, 3)\n",
      "float32\n",
      "E:/Dataset/202101_withDinghu/temp/Dataset/202112datasetV1/dataset/size256/v1/test/GANpatchesT\\W1_892_223.png\n"
     ]
    },
    {
     "name": "stderr",
     "output_type": "stream",
     "text": [
      "WARNING:root:Lossy conversion from float32 to uint8. Range [0.0, 255.0]. Convert image to uint8 prior to saving to suppress this warning.\n",
      "WARNING:root:Lossy conversion from float32 to uint8. Range [0.0, 255.0]. Convert image to uint8 prior to saving to suppress this warning.\n",
      "WARNING:root:Lossy conversion from float32 to uint8. Range [0.0, 255.0]. Convert image to uint8 prior to saving to suppress this warning.\n"
     ]
    },
    {
     "name": "stdout",
     "output_type": "stream",
     "text": [
      "Done!\n",
      "open tif file succeed\n",
      "open tif file succeed\n",
      "1 1\n",
      "(256, 512, 3)\n",
      "float32\n",
      "E:/Dataset/202101_withDinghu/temp/Dataset/202112datasetV1/dataset/size256/v1/test/GANpatchesT\\W1_892_2230.png\n",
      "Done!\n",
      "open tif file succeed\n",
      "open tif file succeed\n",
      "1 1\n",
      "(256, 512, 3)\n",
      "float32\n",
      "E:/Dataset/202101_withDinghu/temp/Dataset/202112datasetV1/dataset/size256/v1/test/GANpatchesT\\W1_892_2453.png\n",
      "Done!\n",
      "open tif file succeed\n",
      "open tif file succeed\n",
      "1 1\n",
      "(256, 512, 3)\n",
      "float32\n",
      "E:/Dataset/202101_withDinghu/temp/Dataset/202112datasetV1/dataset/size256/v1/test/GANpatchesT\\W1_892_2676.png\n",
      "Done!\n",
      "open tif file succeed\n",
      "open tif file succeed\n"
     ]
    },
    {
     "name": "stderr",
     "output_type": "stream",
     "text": [
      "WARNING:root:Lossy conversion from float32 to uint8. Range [0.0, 255.0]. Convert image to uint8 prior to saving to suppress this warning.\n",
      "WARNING:root:Lossy conversion from float32 to uint8. Range [0.0, 255.0]. Convert image to uint8 prior to saving to suppress this warning.\n",
      "WARNING:root:Lossy conversion from float32 to uint8. Range [0.0, 228.0]. Convert image to uint8 prior to saving to suppress this warning.\n"
     ]
    },
    {
     "name": "stdout",
     "output_type": "stream",
     "text": [
      "1 1\n",
      "(256, 512, 3)\n",
      "float32\n",
      "E:/Dataset/202101_withDinghu/temp/Dataset/202112datasetV1/dataset/size256/v1/test/GANpatchesT\\W1_892_2899.png\n",
      "Done!\n",
      "open tif file succeed\n",
      "open tif file succeed\n",
      "1 1\n",
      "(256, 512, 3)\n",
      "float32\n",
      "E:/Dataset/202101_withDinghu/temp/Dataset/202112datasetV1/dataset/size256/v1/test/GANpatchesT\\W1_892_3122.png\n",
      "Done!\n",
      "open tif file succeed\n",
      "open tif file succeed\n",
      "1 1\n",
      "(256, 512, 3)\n",
      "float32\n",
      "E:/Dataset/202101_withDinghu/temp/Dataset/202112datasetV1/dataset/size256/v1/test/GANpatchesT\\W1_892_446.png\n"
     ]
    },
    {
     "name": "stderr",
     "output_type": "stream",
     "text": [
      "WARNING:root:Lossy conversion from float32 to uint8. Range [0.0, 230.0]. Convert image to uint8 prior to saving to suppress this warning.\n"
     ]
    },
    {
     "name": "stdout",
     "output_type": "stream",
     "text": [
      "Done!\n",
      "open tif file succeed\n",
      "open tif file succeed\n",
      "1 1\n",
      "(256, 512, 3)\n",
      "float32\n",
      "E:/Dataset/202101_withDinghu/temp/Dataset/202112datasetV1/dataset/size256/v1/test/GANpatchesT\\W1_892_669.png\n",
      "Done!\n",
      "open tif file succeed\n",
      "open tif file succeed\n"
     ]
    },
    {
     "name": "stderr",
     "output_type": "stream",
     "text": [
      "WARNING:root:Lossy conversion from float32 to uint8. Range [0.0, 224.0]. Convert image to uint8 prior to saving to suppress this warning.\n"
     ]
    },
    {
     "name": "stdout",
     "output_type": "stream",
     "text": [
      "1 1\n",
      "(256, 512, 3)\n",
      "float32\n",
      "E:/Dataset/202101_withDinghu/temp/Dataset/202112datasetV1/dataset/size256/v1/test/GANpatchesT\\W1_892_892.png\n",
      "Done!\n"
     ]
    }
   ],
   "source": [
    "sample1Path = \"E:/Dataset/202101_withDinghu/temp/Dataset/202112datasetV1/dataset/size256/v1/test/dem_crop\"\n",
    "sample2Path = \"E:/Dataset/202101_withDinghu/temp/Dataset/202112datasetV1/dataset/size256/v1/test/slope_crop\"\n",
    "savePath = \"E:/Dataset/202101_withDinghu/temp/Dataset/202112datasetV1/dataset/size256/v1/test/GANpatchesT\"\n",
    "os.makedirs(savePath, exist_ok=True)\n",
    "\n",
    "# 遍历文件夹\n",
    "from_names = glob.glob(os.path.join(sample1Path, \"*.tif\"))\n",
    "for i in range(len(from_names)):\n",
    "    basename = os.path.basename(from_names[i])\n",
    "    \n",
    "    file1Path = os.path.join(sample1Path, basename)\n",
    "    # oriPara=[band, datatype, geoTrans, geoPro]\n",
    "    input1Data, oriPara = readtiff2array(file1Path)\n",
    "    \n",
    "    file2Path = os.path.join(sample2Path, basename)\n",
    "    # oriPara=[band, datatype, geoTrans, geoPro]\n",
    "    input2Data, oriPara = readtiff2array(file2Path)\n",
    "    \n",
    "    concate_samples(input1Data, input2Data, savePath, basename)"
   ]
  },
  {
   "cell_type": "markdown",
   "metadata": {},
   "source": [
    "# Move files that meet user requirements to new path\n",
    "## select files."
   ]
  },
  {
   "cell_type": "code",
   "execution_count": 2,
   "metadata": {},
   "outputs": [
    {
     "name": "stdout",
     "output_type": "stream",
     "text": [
      "open tif file succeed\n",
      "open tif file succeed\n",
      "open tif file succeed\n",
      "open tif file succeed\n",
      "11770\n",
      "open tif file succeed\n",
      "open tif file succeed\n",
      "18771\n",
      "open tif file succeed\n",
      "open tif file succeed\n",
      "open tif file succeed\n",
      "open tif file succeed\n",
      "open tif file succeed\n",
      "open tif file succeed\n",
      "open tif file succeed\n",
      "open tif file succeed\n",
      "open tif file succeed\n",
      "33572\n",
      "open tif file succeed\n",
      "open tif file succeed\n",
      "open tif file succeed\n",
      "open tif file succeed\n",
      "open tif file succeed\n",
      "45122\n",
      "open tif file succeed\n",
      "open tif file succeed\n",
      "open tif file succeed\n",
      "30335\n",
      "open tif file succeed\n",
      "open tif file succeed\n",
      "5615\n",
      "open tif file succeed\n",
      "open tif file succeed\n",
      "open tif file succeed\n",
      "open tif file succeed\n",
      "open tif file succeed\n",
      "open tif file succeed\n",
      "open tif file succeed\n",
      "open tif file succeed\n",
      "open tif file succeed\n",
      "open tif file succeed\n",
      "32596\n",
      "open tif file succeed\n",
      "open tif file succeed\n",
      "open tif file succeed\n",
      "open tif file succeed\n",
      "open tif file succeed\n",
      "open tif file succeed\n",
      "open tif file succeed\n",
      "open tif file succeed\n",
      "open tif file succeed\n",
      "open tif file succeed\n",
      "open tif file succeed\n",
      "36403\n",
      "open tif file succeed\n",
      "open tif file succeed\n",
      "24344\n",
      "open tif file succeed\n",
      "open tif file succeed\n",
      "open tif file succeed\n",
      "open tif file succeed\n",
      "open tif file succeed\n",
      "44878\n",
      "open tif file succeed\n",
      "3581\n",
      "open tif file succeed\n",
      "open tif file succeed\n",
      "open tif file succeed\n",
      "open tif file succeed\n",
      "12486\n",
      "open tif file succeed\n",
      "open tif file succeed\n",
      "open tif file succeed\n",
      "open tif file succeed\n",
      "open tif file succeed\n",
      "open tif file succeed\n",
      "open tif file succeed\n",
      "open tif file succeed\n",
      "open tif file succeed\n",
      "open tif file succeed\n",
      "open tif file succeed\n",
      "open tif file succeed\n",
      "open tif file succeed\n",
      "open tif file succeed\n",
      "25488\n",
      "open tif file succeed\n",
      "open tif file succeed\n",
      "open tif file succeed\n",
      "open tif file succeed\n",
      "open tif file succeed\n",
      "25727\n",
      "open tif file succeed\n",
      "open tif file succeed\n",
      "open tif file succeed\n",
      "open tif file succeed\n",
      "open tif file succeed\n",
      "open tif file succeed\n",
      "38891\n",
      "open tif file succeed\n",
      "open tif file succeed\n",
      "open tif file succeed\n",
      "open tif file succeed\n",
      "open tif file succeed\n",
      "open tif file succeed\n",
      "open tif file succeed\n",
      "open tif file succeed\n",
      "24201\n",
      "open tif file succeed\n",
      "open tif file succeed\n",
      "open tif file succeed\n",
      "open tif file succeed\n",
      "open tif file succeed\n",
      "open tif file succeed\n",
      "open tif file succeed\n",
      "43579\n",
      "open tif file succeed\n",
      "open tif file succeed\n",
      "open tif file succeed\n",
      "34006\n",
      "open tif file succeed\n",
      "open tif file succeed\n",
      "43603\n",
      "open tif file succeed\n",
      "open tif file succeed\n",
      "open tif file succeed\n",
      "open tif file succeed\n",
      "189\n",
      "open tif file succeed\n",
      "open tif file succeed\n",
      "open tif file succeed\n",
      "open tif file succeed\n",
      "open tif file succeed\n",
      "open tif file succeed\n",
      "open tif file succeed\n",
      "open tif file succeed\n",
      "open tif file succeed\n",
      "open tif file succeed\n",
      "open tif file succeed\n",
      "open tif file succeed\n",
      "open tif file succeed\n",
      "30196\n",
      "open tif file succeed\n",
      "open tif file succeed\n",
      "open tif file succeed\n",
      "open tif file succeed\n",
      "open tif file succeed\n",
      "8399\n",
      "open tif file succeed\n",
      "open tif file succeed\n",
      "open tif file succeed\n",
      "open tif file succeed\n",
      "open tif file succeed\n",
      "open tif file succeed\n",
      "open tif file succeed\n",
      "open tif file succeed\n",
      "open tif file succeed\n",
      "open tif file succeed\n",
      "open tif file succeed\n",
      "open tif file succeed\n",
      "open tif file succeed\n",
      "open tif file succeed\n",
      "open tif file succeed\n",
      "33700\n",
      "open tif file succeed\n",
      "open tif file succeed\n",
      "open tif file succeed\n",
      "open tif file succeed\n",
      "open tif file succeed\n",
      "open tif file succeed\n",
      "open tif file succeed\n",
      "open tif file succeed\n",
      "open tif file succeed\n",
      "open tif file succeed\n",
      "open tif file succeed\n",
      "open tif file succeed\n",
      "open tif file succeed\n",
      "open tif file succeed\n",
      "open tif file succeed\n",
      "open tif file succeed\n",
      "open tif file succeed\n",
      "open tif file succeed\n",
      "open tif file succeed\n",
      "open tif file succeed\n",
      "open tif file succeed\n",
      "open tif file succeed\n",
      "open tif file succeed\n",
      "open tif file succeed\n",
      "open tif file succeed\n",
      "open tif file succeed\n",
      "open tif file succeed\n",
      "open tif file succeed\n",
      "open tif file succeed\n",
      "open tif file succeed\n",
      "open tif file succeed\n",
      "open tif file succeed\n",
      "open tif file succeed\n",
      "27988\n",
      "open tif file succeed\n",
      "open tif file succeed\n",
      "open tif file succeed\n",
      "open tif file succeed\n",
      "open tif file succeed\n",
      "open tif file succeed\n",
      "open tif file succeed\n",
      "open tif file succeed\n",
      "open tif file succeed\n",
      "open tif file succeed\n",
      "1057\n",
      "open tif file succeed\n",
      "open tif file succeed\n",
      "open tif file succeed\n",
      "open tif file succeed\n",
      "open tif file succeed\n",
      "open tif file succeed\n",
      "40337\n",
      "open tif file succeed\n",
      "open tif file succeed\n",
      "open tif file succeed\n",
      "open tif file succeed\n",
      "open tif file succeed\n",
      "open tif file succeed\n",
      "open tif file succeed\n",
      "open tif file succeed\n",
      "46460\n",
      "open tif file succeed\n",
      "open tif file succeed\n",
      "open tif file succeed\n",
      "14713\n",
      "open tif file succeed\n",
      "open tif file succeed\n",
      "open tif file succeed\n",
      "1446\n",
      "open tif file succeed\n",
      "45118\n",
      "open tif file succeed\n",
      "29231\n",
      "open tif file succeed\n",
      "open tif file succeed\n",
      "open tif file succeed\n",
      "open tif file succeed\n",
      "open tif file succeed\n",
      "open tif file succeed\n",
      "36661\n",
      "open tif file succeed\n",
      "open tif file succeed\n",
      "open tif file succeed\n",
      "31098\n",
      "open tif file succeed\n",
      "40706\n",
      "open tif file succeed\n",
      "open tif file succeed\n",
      "open tif file succeed\n",
      "open tif file succeed\n",
      "open tif file succeed\n",
      "open tif file succeed\n",
      "open tif file succeed\n",
      "open tif file succeed\n",
      "open tif file succeed\n",
      "open tif file succeed\n",
      "41615\n",
      "open tif file succeed\n",
      "4911\n",
      "open tif file succeed\n",
      "open tif file succeed\n",
      "open tif file succeed\n",
      "open tif file succeed\n",
      "open tif file succeed\n",
      "36117\n",
      "open tif file succeed\n",
      "open tif file succeed\n",
      "open tif file succeed\n",
      "open tif file succeed\n",
      "open tif file succeed\n",
      "open tif file succeed\n",
      "open tif file succeed\n",
      "open tif file succeed\n",
      "open tif file succeed\n",
      "open tif file succeed\n",
      "open tif file succeed\n",
      "open tif file succeed\n",
      "open tif file succeed\n",
      "open tif file succeed\n",
      "13286\n",
      "open tif file succeed\n",
      "open tif file succeed\n",
      "open tif file succeed\n",
      "1692\n",
      "open tif file succeed\n",
      "open tif file succeed\n",
      "open tif file succeed\n",
      "open tif file succeed\n",
      "open tif file succeed\n",
      "open tif file succeed\n",
      "518\n",
      "open tif file succeed\n",
      "open tif file succeed\n",
      "open tif file succeed\n",
      "open tif file succeed\n",
      "open tif file succeed\n",
      "open tif file succeed\n",
      "492\n",
      "open tif file succeed\n",
      "open tif file succeed\n",
      "open tif file succeed\n",
      "open tif file succeed\n",
      "open tif file succeed\n",
      "30973\n",
      "open tif file succeed\n",
      "open tif file succeed\n",
      "open tif file succeed\n",
      "open tif file succeed\n",
      "open tif file succeed\n",
      "44562\n",
      "open tif file succeed\n",
      "open tif file succeed\n",
      "done\n"
     ]
    }
   ],
   "source": [
    "!python General/SelectPatch.py"
   ]
  }
 ],
 "metadata": {
  "kernelspec": {
   "display_name": "Python 3",
   "language": "python",
   "name": "python3"
  }
 },
 "nbformat": 4,
 "nbformat_minor": 2
}
