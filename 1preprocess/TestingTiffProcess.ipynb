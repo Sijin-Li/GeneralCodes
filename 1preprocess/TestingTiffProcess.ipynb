<<<<<<< HEAD
{
 "cells": [
  {
   "cell_type": "code",
   "execution_count": null,
   "metadata": {},
   "outputs": [],
   "source": [
    "# 需要修改的代码包括\n",
    "# 1 读写 裁剪TIFF （完成）\n",
    "# 2 随机移动 （完成）\n",
    "# 3 制作pix2pix样本（水平连接两个基本类型样本）（完成）"
   ]
  },
  {
   "cell_type": "markdown",
   "metadata": {},
   "source": [
    "# Read, Clip, and Write GeoTIFF\n",
    "## file path = E:\\Backup\\CodeBackup\\1AboutCNN\\1preprocess\\General\\1TiffReadClipWrite.py"
   ]
  },
  {
   "cell_type": "code",
   "execution_count": 7,
   "metadata": {},
   "outputs": [],
   "source": [
    "import numpy as np\n",
    "import gdal\n",
    "import os\n",
    "import imageio\n",
    "import glob\n",
    "import cv2"
   ]
  },
  {
   "cell_type": "code",
   "execution_count": 8,
   "metadata": {},
   "outputs": [],
   "source": [
    "# in 1TiffReadClipWrite.py\n",
    "'''\n",
    "readtiff2array: read tif file and output an numpy array\n",
    "calculateTransform: calculating 'geotrans' affine transformation \n",
    "clipgeotiff_topatch: clip the complete data to small patches. (nonrandom)\n",
    "'''\n",
    "def readtiff2array(oriPath):\n",
    "    in_ds = gdal.Open(oriPath)\n",
    "    print(\"open tif file succeed\")\n",
    "\n",
    "    # 读取原图中的每个波段\n",
    "    row = in_ds.RasterYSize  # 行\n",
    "    col = in_ds.RasterXSize  # 列\n",
    "    band = in_ds.RasterCount  # 波段\n",
    "    geoTrans = in_ds.GetGeoTransform()\n",
    "    geoPro = in_ds.GetProjection()\n",
    "\n",
    "    # specific datatype\n",
    "    #     datatype = np.int8  # gdal.GDT_UInt16;\n",
    "    #     data = np.zeros([row, col, band], datatype)  # 建立数组保存读取的tiff\n",
    "    # output datatype = input datatype (常用于裁剪DEM uint16）\n",
    "    datatype_index = in_ds.GetRasterBand(1).DataType\n",
    "    datatype = gdal.GetDataTypeName(datatype_index)\n",
    "    if 'GDT_Byte' in datatype:\n",
    "        newDataType = 'int8'\n",
    "    elif 'GDT_UInt16' in datatype:\n",
    "        newDataType = 'int16'\n",
    "    else:\n",
    "        newDataType = 'float32'\n",
    "    data = np.zeros([row, col, band], newDataType)  # 建立数组保存读取的tiff\n",
    "\n",
    "    for i in range(band):\n",
    "        dt = in_ds.GetRasterBand(i + 1)\n",
    "        # 从每个波段中裁剪需要的矩形框内的数据\n",
    "        data[:, :, i] = dt.ReadAsArray(0, 0, col, row)\n",
    "\n",
    "    del in_ds\n",
    "\n",
    "    return data, [band, datatype, geoTrans, geoPro]\n",
    "    # data shape = HWC\n",
    "'''\n",
    "16bit to 8bit\n",
    "'''\n",
    "def transfer_16bit_to_8bit(data):\n",
    "    # 将16bit转化为8bit\n",
    "    # 可用于dem裁剪\n",
    "    min_16bit = np.min(data)\n",
    "    max_16bit = np.max(data)\n",
    "\n",
    "    data_8bit = np.array(np.rint(255 * ((data - min_16bit) / (max_16bit - min_16bit))), dtype=np.uint8)\n",
    "    return data_8bit\n",
    "'''\n",
    "仿射变换\n",
    "'''\n",
    "def calculateTransform(ori_transform, offsetX, offsetY):\n",
    "    # 读取原图仿射变换参数值\n",
    "    top_left_x = ori_transform[0]  # 左上角x坐标\n",
    "    w_e_pixel_resolution = ori_transform[1]  # 东西方向像素分辨率\n",
    "    top_left_y = ori_transform[3]  # 左上角y坐标\n",
    "    n_s_pixel_resolution = ori_transform[5]  # 南北方向像素分辨率\n",
    "\n",
    "    # 根据反射变换参数计算新图的原点坐标\n",
    "    top_left_x = top_left_x + offsetX * w_e_pixel_resolution\n",
    "    top_left_y = top_left_y + offsetY * n_s_pixel_resolution\n",
    "\n",
    "    # 将计算后的值组装为一个元组，以方便设置\n",
    "    dst_transform = (top_left_x, ori_transform[1], ori_transform[2], top_left_y, ori_transform[4], ori_transform[5])\n",
    "\n",
    "    return dst_transform\n",
    "'''\n",
    "裁剪主函数 调用topatch\n",
    "typeName & index: 输入数据编号\n",
    "'''\n",
    "def clipgeotiff(inputPath, savePath, patchSize, patchIntersection, startCol, startRow, typeName, index, To8bit=False):\n",
    "    os.makedirs(savePath, exist_ok=True)\n",
    "    # 遍历文件夹\n",
    "    from_names = glob.glob(os.path.join(inputPath, \"*.tif\"))\n",
    "\n",
    "    # 左上角坐标移动步长\n",
    "    stride = patchSize - int((patchSize - patchIntersection) / 2)\n",
    "\n",
    "    for i in range(len(from_names)):\n",
    "        print(from_names[i])\n",
    "        filePath = os.path.join(inputPath, os.path.basename(from_names[i]))\n",
    "        # oriPara=[band, datatype, geoTrans, geoPro]\n",
    "        inputData, oriPara = readtiff2array(filePath)\n",
    "\n",
    "        # 16bit to 8bit\n",
    "        if To8bit is True:\n",
    "            inputData = transfer_16bit_to_8bit(inputData)\n",
    "\n",
    "        # 裁剪 起始坐标\n",
    "        # 原始代码的[offsetY, offsetX] = [offsetRow, offsetCol]\n",
    "        offsetCor = [startRow, startCol]\n",
    "        while offsetCor[1] < inputData.shape[1] - patchSize:\n",
    "            while offsetCor[0] < inputData.shape[0] - patchSize:\n",
    "                filename = typeName + str(index) + '_' + str(offsetCor[1]) + '_' + str(offsetCor[0]) + '.tif'\n",
    "                saveName = os.path.join(savePath, filename)\n",
    "                cliptopatch(inputData, oriPara[2], oriPara[3], saveName, offsetCor, patchSize)\n",
    "                offsetCor[0] = offsetCor[0] + stride\n",
    "            offsetCor[1] = offsetCor[1] + stride\n",
    "            offsetCor[0] = 0\n",
    "        index = index + 1\n",
    "\n",
    "'''\n",
    "裁剪至小块 并保存\n",
    "inputData: array\n",
    "offsetCor: patch的左上角位置 原始代码的[offsetY, offsetX] = [offsetRow, offsetCol]\n",
    "saveName\n",
    "patchSize\n",
    "'''\n",
    "def cliptopatch(inputData, ori_geoTrans, ori_geoPro, saveName, offsetCor, patchSize):\n",
    "    # 读取输入数据信息\n",
    "    ori_Datatype = inputData.dtype\n",
    "    # inputData\n",
    "    if len(inputData.shape) == 3:\n",
    "        in_bands = inputData.shape[2]\n",
    "    else:\n",
    "        in_bands = 1\n",
    "\n",
    "    # 读取要裁剪的原图\n",
    "    out_band = np.zeros([patchSize, patchSize, in_bands], ori_Datatype)\n",
    "    # print(out_band.shape)\n",
    "    for i in range(in_bands):\n",
    "        out_band[:, :, i] = inputData[offsetCor[0]:offsetCor[0] + patchSize, offsetCor[1]:offsetCor[1] + patchSize, i]\n",
    "\n",
    "    # 获取原图的原点坐标信息\n",
    "    ori_transform = ori_geoTrans\n",
    "    # 计算仿射变化参数\n",
    "    dst_transform = calculateTransform(ori_transform, offsetCor[1], offsetCor[0])\n",
    "\n",
    "    # 设置DataType\n",
    "    if 'int8' in out_band.dtype.name:\n",
    "        newDataType = gdal.GDT_Byte\n",
    "    elif 'int16' in out_band.dtype.name:\n",
    "        newDataType = gdal.GDT_UInt16\n",
    "    else:\n",
    "        newDataType = gdal.GDT_Float32\n",
    "\n",
    "    # 创建gtiff 并 写入\n",
    "    driver = gdal.GetDriverByName(\"GTiff\")\n",
    "    dataset = driver.Create(saveName, patchSize, patchSize, in_bands, newDataType)\n",
    "    if (dataset != None):\n",
    "        dataset.SetGeoTransform(dst_transform)  # 写入仿射变换参数\n",
    "        dataset.SetProjection(ori_geoPro)  # 写入投影\n",
    "    for i in range(in_bands):\n",
    "        dataset.GetRasterBand(i + 1).WriteArray(out_band[:, :, i])\n",
    "    del dataset\n",
    "\n",
    "    print(\"End!\")"
   ]
  },
  {
   "cell_type": "code",
   "execution_count": 27,
   "metadata": {},
   "outputs": [
    {
     "name": "stdout",
     "output_type": "stream",
     "text": [
      "E:/Dataset/202101_withDinghu/temp/subAreas/test/slope\\Wang_slope_fortest.tif\n",
      "open tif file succeed\n"
     ]
    },
    {
     "name": "stderr",
     "output_type": "stream",
     "text": [
      "C:\\Users\\HP\\Anaconda3\\lib\\site-packages\\ipykernel_launcher.py:31: DeprecationWarning: Numeric-style type codes are deprecated and will result in an error in the future.\n"
     ]
    },
    {
     "name": "stdout",
     "output_type": "stream",
     "text": [
      "End!\n",
      "End!\n",
      "End!\n",
      "End!\n",
      "End!\n",
      "End!\n",
      "End!\n",
      "End!\n",
      "End!\n",
      "End!\n",
      "End!\n",
      "End!\n",
      "End!\n",
      "End!\n",
      "End!\n",
      "End!\n",
      "End!\n",
      "End!\n",
      "End!\n",
      "End!\n",
      "End!\n",
      "End!\n",
      "End!\n",
      "End!\n",
      "End!\n",
      "End!\n",
      "End!\n",
      "End!\n",
      "End!\n",
      "End!\n",
      "End!\n",
      "End!\n",
      "End!\n",
      "End!\n",
      "End!\n",
      "End!\n",
      "End!\n",
      "End!\n",
      "End!\n",
      "End!\n",
      "End!\n",
      "End!\n",
      "End!\n",
      "End!\n",
      "End!\n",
      "End!\n",
      "End!\n",
      "End!\n",
      "End!\n",
      "End!\n",
      "End!\n",
      "End!\n",
      "End!\n",
      "End!\n",
      "End!\n",
      "End!\n",
      "End!\n",
      "End!\n",
      "End!\n",
      "End!\n",
      "End!\n",
      "End!\n",
      "End!\n",
      "End!\n",
      "End!\n",
      "End!\n",
      "End!\n",
      "End!\n",
      "End!\n",
      "End!\n",
      "End!\n",
      "End!\n",
      "End!\n",
      "End!\n",
      "End!\n",
      "End!\n",
      "End!\n",
      "End!\n",
      "End!\n",
      "End!\n",
      "End!\n",
      "End!\n",
      "End!\n",
      "End!\n",
      "End!\n",
      "End!\n",
      "End!\n",
      "End!\n",
      "End!\n",
      "End!\n",
      "End!\n",
      "End!\n",
      "End!\n",
      "End!\n",
      "End!\n",
      "End!\n",
      "End!\n",
      "End!\n",
      "End!\n",
      "End!\n",
      "End!\n",
      "End!\n",
      "End!\n",
      "End!\n",
      "End!\n",
      "End!\n",
      "End!\n",
      "End!\n",
      "End!\n",
      "End!\n",
      "End!\n",
      "End!\n",
      "End!\n",
      "End!\n",
      "End!\n",
      "End!\n",
      "End!\n",
      "End!\n",
      "End!\n",
      "End!\n",
      "End!\n",
      "End!\n",
      "End!\n",
      "End!\n",
      "End!\n",
      "End!\n",
      "End!\n",
      "End!\n",
      "End!\n",
      "End!\n",
      "End!\n",
      "End!\n",
      "End!\n",
      "End!\n",
      "End!\n",
      "End!\n",
      "End!\n",
      "End!\n",
      "End!\n",
      "End!\n",
      "End!\n",
      "End!\n",
      "End!\n",
      "End!\n",
      "End!\n",
      "End!\n",
      "End!\n",
      "End!\n",
      "End!\n",
      "End!\n",
      "End!\n",
      "End!\n",
      "End!\n",
      "End!\n",
      "End!\n",
      "End!\n",
      "End!\n",
      "End!\n",
      "End!\n",
      "End!\n",
      "End!\n",
      "End!\n",
      "End!\n",
      "End!\n",
      "End!\n",
      "End!\n",
      "End!\n",
      "End!\n",
      "End!\n",
      "End!\n",
      "End!\n",
      "End!\n",
      "End!\n",
      "End!\n",
      "End!\n",
      "End!\n",
      "End!\n",
      "End!\n",
      "End!\n",
      "End!\n",
      "End!\n",
      "End!\n"
     ]
    }
   ],
   "source": [
    "inputPath = \"E:/Dataset/202101_withDinghu/temp/subAreas/test/slope\"\n",
    "savePath = \"E:/Dataset/202101_withDinghu/temp/dataset/size256/v1/test/test\"\n",
    "patchSize = 256\n",
    "patchIntersection = 224\n",
    "startCol = 0\n",
    "startRow = 0\n",
    "typeName = 'W'\n",
    "index = 0\n",
    "clipgeotiff(inputPath, savePath, patchSize, patchIntersection, startCol, startRow, typeName, index, To8bit=True)"
   ]
  },
  {
   "cell_type": "markdown",
   "metadata": {},
   "source": [
    "# Concatenate two samples\n",
    "## producing dataset for pix2pix"
   ]
  },
  {
   "cell_type": "code",
   "execution_count": 9,
   "metadata": {},
   "outputs": [],
   "source": [
    "# in 3concatenateSamples.py\n",
    "def concate_samples(sample1, sample2, savepath, filename):\n",
    "    sample1 = sample1.reshape((1, sample1.shape[0], sample1.shape[1], sample1.shape[2]))\n",
    "    sample2 = sample2.reshape((1, sample2.shape[0], sample2.shape[1], sample2.shape[2]))\n",
    "\n",
    "    sample1band = sample1.shape[3]\n",
    "    sample2band = sample2.shape[3]\n",
    "    print(sample1band, sample2band)\n",
    "\n",
    "    # if two samples bands == 1, then firstly concatenating them and secondly repeating it\n",
    "    if sample1band == 1 and sample2band == 1:\n",
    "        temp = np.concatenate((sample1, sample2), axis=2)\n",
    "        temp = temp.repeat(3, axis=3)\n",
    "    # if two samples bands == 3, then concatenating them\n",
    "    elif sample1band == 3 and sample2band == 3:\n",
    "        temp = np.concatenate((sample1, sample2), axis=2)\n",
    "    elif sample1band == 3 and sample2band == 1:\n",
    "        sample2 = sample2.repeat(3, axis=3)\n",
    "        temp = np.concatenate((sample1, sample2), axis=2)\n",
    "        print('3')\n",
    "    elif sample1band == 1 and sample2band == 3:\n",
    "        sample1 = sample1.repeat(3, axis=3)\n",
    "        temp = np.concatenate((sample1, sample2), axis=2)\n",
    "    else:\n",
    "        print(\"The situation is not defined.\")\n",
    "\n",
    "    out_data = np.squeeze(temp, axis=0)\n",
    "    #        out_data = out_data.astype(np.uint8)  # data type\n",
    "    print(out_data.shape)\n",
    "    write_to_disk(savepath, out_data, filename)\n",
    "# in 1TiffReadClipWrite.py\n",
    "def write_to_disk(savePath, img_data, from_names, over_write=False):\n",
    "\n",
    "    os.makedirs(savePath, exist_ok=True)\n",
    "\n",
    "    full_name = from_names.replace(\".tif\", \".png\")\n",
    "    print(img_data.dtype)\n",
    "    save_filePath = os.path.join(savePath, full_name)\n",
    "    \n",
    "#    im = Image.fromarray(np.uint16(img_data))\n",
    "#    im.save(save_filePath) #--> 16bit\n",
    "    \n",
    "    print(save_filePath)\n",
    "    imageio.imwrite(save_filePath,img_data, 'PNG-FI') #(save_filePath, img_data)  #imageio.imwrite\n",
    "    print(\"Done!\")"
   ]
  },
  {
   "cell_type": "code",
   "execution_count": 11,
   "metadata": {},
   "outputs": [
    {
     "name": "stderr",
     "output_type": "stream",
     "text": [
      "WARNING:root:Lossy conversion from float32 to uint8. Range [0.0, 255.0]. Convert image to uint8 prior to saving to suppress this warning.\n"
     ]
    },
    {
     "name": "stdout",
     "output_type": "stream",
     "text": [
      "open tif file succeed\n",
      "open tif file succeed\n",
      "1 1\n",
      "(256, 512, 3)\n",
      "float32\n",
      "E:/Dataset/202101_withDinghu/temp/dataset/size256/v1/test/test2\\W1_0_0.png\n",
      "Done!\n",
      "open tif file succeed\n",
      "open tif file succeed\n",
      "1 1\n",
      "(256, 512, 3)\n"
     ]
    },
    {
     "name": "stderr",
     "output_type": "stream",
     "text": [
      "WARNING:root:Lossy conversion from float32 to uint8. Range [0.0, 255.0]. Convert image to uint8 prior to saving to suppress this warning.\n",
      "WARNING:root:Lossy conversion from float32 to uint8. Range [0.0, 255.0]. Convert image to uint8 prior to saving to suppress this warning.\n",
      "WARNING:root:Lossy conversion from float32 to uint8. Range [0.0, 255.0]. Convert image to uint8 prior to saving to suppress this warning.\n",
      "WARNING:root:Lossy conversion from float32 to uint8. Range [0.0, 255.0]. Convert image to uint8 prior to saving to suppress this warning.\n",
      "WARNING:root:Lossy conversion from float32 to uint8. Range [0.0, 255.0]. Convert image to uint8 prior to saving to suppress this warning.\n",
      "WARNING:root:Lossy conversion from float32 to uint8. Range [0.0, 255.0]. Convert image to uint8 prior to saving to suppress this warning.\n"
     ]
    },
    {
     "name": "stdout",
     "output_type": "stream",
     "text": [
      "float32\n",
      "E:/Dataset/202101_withDinghu/temp/dataset/size256/v1/test/test2\\W1_0_1115.png\n",
      "Done!\n",
      "open tif file succeed\n",
      "open tif file succeed\n",
      "1 1\n",
      "(256, 512, 3)\n",
      "float32\n",
      "E:/Dataset/202101_withDinghu/temp/dataset/size256/v1/test/test2\\W1_0_1338.png\n",
      "Done!\n",
      "open tif file succeed\n",
      "open tif file succeed\n",
      "1 1\n",
      "(256, 512, 3)\n",
      "float32\n",
      "E:/Dataset/202101_withDinghu/temp/dataset/size256/v1/test/test2\\W1_0_1561.png\n",
      "Done!\n",
      "open tif file succeed\n",
      "open tif file succeed\n",
      "1 1\n",
      "(256, 512, 3)\n",
      "float32\n",
      "E:/Dataset/202101_withDinghu/temp/dataset/size256/v1/test/test2\\W1_0_1784.png\n",
      "Done!\n",
      "open tif file succeed\n",
      "open tif file succeed\n",
      "1 1\n",
      "(256, 512, 3)\n",
      "float32\n",
      "E:/Dataset/202101_withDinghu/temp/dataset/size256/v1/test/test2\\W1_0_2007.png\n",
      "Done!\n",
      "open tif file succeed\n",
      "open tif file succeed\n",
      "1 1\n",
      "(256, 512, 3)\n",
      "float32\n",
      "E:/Dataset/202101_withDinghu/temp/dataset/size256/v1/test/test2\\W1_0_223.png\n",
      "Done!\n",
      "open tif file succeed\n"
     ]
    },
    {
     "name": "stderr",
     "output_type": "stream",
     "text": [
      "WARNING:root:Lossy conversion from float32 to uint8. Range [0.0, 255.0]. Convert image to uint8 prior to saving to suppress this warning.\n"
     ]
    },
    {
     "name": "stdout",
     "output_type": "stream",
     "text": [
      "open tif file succeed\n",
      "1 1\n",
      "(256, 512, 3)\n",
      "float32\n",
      "E:/Dataset/202101_withDinghu/temp/dataset/size256/v1/test/test2\\W1_0_2230.png\n",
      "Done!\n",
      "open tif file succeed\n",
      "open tif file succeed\n"
     ]
    },
    {
     "name": "stderr",
     "output_type": "stream",
     "text": [
      "WARNING:root:Lossy conversion from float32 to uint8. Range [0.0, 255.0]. Convert image to uint8 prior to saving to suppress this warning.\n",
      "WARNING:root:Lossy conversion from float32 to uint8. Range [0.0, 255.0]. Convert image to uint8 prior to saving to suppress this warning.\n",
      "WARNING:root:Lossy conversion from float32 to uint8. Range [0.0, 255.0]. Convert image to uint8 prior to saving to suppress this warning.\n",
      "WARNING:root:Lossy conversion from float32 to uint8. Range [0.0, 255.0]. Convert image to uint8 prior to saving to suppress this warning.\n",
      "WARNING:root:Lossy conversion from float32 to uint8. Range [0.0, 255.0]. Convert image to uint8 prior to saving to suppress this warning.\n",
      "WARNING:root:Lossy conversion from float32 to uint8. Range [0.0, 255.0]. Convert image to uint8 prior to saving to suppress this warning.\n"
     ]
    },
    {
     "name": "stdout",
     "output_type": "stream",
     "text": [
      "1 1\n",
      "(256, 512, 3)\n",
      "float32\n",
      "E:/Dataset/202101_withDinghu/temp/dataset/size256/v1/test/test2\\W1_0_2453.png\n",
      "Done!\n",
      "open tif file succeed\n",
      "open tif file succeed\n",
      "1 1\n",
      "(256, 512, 3)\n",
      "float32\n",
      "E:/Dataset/202101_withDinghu/temp/dataset/size256/v1/test/test2\\W1_0_2676.png\n",
      "Done!\n",
      "open tif file succeed\n",
      "open tif file succeed\n",
      "1 1\n",
      "(256, 512, 3)\n",
      "float32\n",
      "E:/Dataset/202101_withDinghu/temp/dataset/size256/v1/test/test2\\W1_0_2899.png\n",
      "Done!\n",
      "open tif file succeed\n",
      "open tif file succeed\n",
      "1 1\n",
      "(256, 512, 3)\n",
      "float32\n",
      "E:/Dataset/202101_withDinghu/temp/dataset/size256/v1/test/test2\\W1_0_3122.png\n",
      "Done!\n",
      "open tif file succeed\n",
      "open tif file succeed\n",
      "1 1\n",
      "(256, 512, 3)\n",
      "float32\n",
      "E:/Dataset/202101_withDinghu/temp/dataset/size256/v1/test/test2\\W1_0_446.png\n",
      "Done!\n",
      "open tif file succeed\n",
      "open tif file succeed\n",
      "1 1\n",
      "(256, 512, 3)\n",
      "float32\n",
      "E:/Dataset/202101_withDinghu/temp/dataset/size256/v1/test/test2\\W1_0_669.png\n",
      "Done!\n",
      "open tif file succeed\n",
      "open tif file succeed\n",
      "1 1\n"
     ]
    },
    {
     "name": "stderr",
     "output_type": "stream",
     "text": [
      "WARNING:root:Lossy conversion from float32 to uint8. Range [0.0, 255.0]. Convert image to uint8 prior to saving to suppress this warning.\n",
      "WARNING:root:Lossy conversion from float32 to uint8. Range [0.0, 255.0]. Convert image to uint8 prior to saving to suppress this warning.\n"
     ]
    },
    {
     "name": "stdout",
     "output_type": "stream",
     "text": [
      "(256, 512, 3)\n",
      "float32\n",
      "E:/Dataset/202101_withDinghu/temp/dataset/size256/v1/test/test2\\W1_0_892.png\n",
      "Done!\n",
      "open tif file succeed\n",
      "open tif file succeed\n",
      "1 1\n",
      "(256, 512, 3)\n",
      "float32\n",
      "E:/Dataset/202101_withDinghu/temp/dataset/size256/v1/test/test2\\W1_1115_0.png\n",
      "Done!\n",
      "open tif file succeed\n",
      "open tif file succeed\n",
      "1 1\n",
      "(256, 512, 3)\n"
     ]
    },
    {
     "name": "stderr",
     "output_type": "stream",
     "text": [
      "WARNING:root:Lossy conversion from float32 to uint8. Range [0.0, 222.0]. Convert image to uint8 prior to saving to suppress this warning.\n",
      "WARNING:root:Lossy conversion from float32 to uint8. Range [0.0, 232.0]. Convert image to uint8 prior to saving to suppress this warning.\n"
     ]
    },
    {
     "name": "stdout",
     "output_type": "stream",
     "text": [
      "float32\n",
      "E:/Dataset/202101_withDinghu/temp/dataset/size256/v1/test/test2\\W1_1115_1115.png\n",
      "Done!\n",
      "open tif file succeed\n",
      "open tif file succeed\n",
      "1 1\n",
      "(256, 512, 3)\n",
      "float32\n",
      "E:/Dataset/202101_withDinghu/temp/dataset/size256/v1/test/test2\\W1_1115_1338.png\n"
     ]
    },
    {
     "name": "stderr",
     "output_type": "stream",
     "text": [
      "WARNING:root:Lossy conversion from float32 to uint8. Range [0.0, 255.0]. Convert image to uint8 prior to saving to suppress this warning.\n"
     ]
    },
    {
     "name": "stdout",
     "output_type": "stream",
     "text": [
      "Done!\n",
      "open tif file succeed\n",
      "open tif file succeed\n",
      "1 1\n",
      "(256, 512, 3)\n",
      "float32\n",
      "E:/Dataset/202101_withDinghu/temp/dataset/size256/v1/test/test2\\W1_1115_1561.png\n",
      "Done!\n",
      "open tif file succeed\n"
     ]
    },
    {
     "name": "stderr",
     "output_type": "stream",
     "text": [
      "WARNING:root:Lossy conversion from float32 to uint8. Range [0.0, 255.0]. Convert image to uint8 prior to saving to suppress this warning.\n",
      "WARNING:root:Lossy conversion from float32 to uint8. Range [0.0, 255.0]. Convert image to uint8 prior to saving to suppress this warning.\n"
     ]
    },
    {
     "name": "stdout",
     "output_type": "stream",
     "text": [
      "open tif file succeed\n",
      "1 1\n",
      "(256, 512, 3)\n",
      "float32\n",
      "E:/Dataset/202101_withDinghu/temp/dataset/size256/v1/test/test2\\W1_1115_1784.png\n",
      "Done!\n",
      "open tif file succeed\n",
      "open tif file succeed\n",
      "1 1\n",
      "(256, 512, 3)\n",
      "float32\n",
      "E:/Dataset/202101_withDinghu/temp/dataset/size256/v1/test/test2\\W1_1115_2007.png\n",
      "Done!\n",
      "open tif file succeed\n",
      "open tif file succeed\n",
      "1 1\n",
      "(256, 512, 3)"
     ]
    },
    {
     "name": "stderr",
     "output_type": "stream",
     "text": [
      "WARNING:root:Lossy conversion from float32 to uint8. Range [0.0, 229.0]. Convert image to uint8 prior to saving to suppress this warning.\n"
     ]
    },
    {
     "name": "stdout",
     "output_type": "stream",
     "text": [
      "\n",
      "float32\n",
      "E:/Dataset/202101_withDinghu/temp/dataset/size256/v1/test/test2\\W1_1115_223.png\n",
      "Done!\n",
      "open tif file succeed\n"
     ]
    },
    {
     "name": "stderr",
     "output_type": "stream",
     "text": [
      "WARNING:root:Lossy conversion from float32 to uint8. Range [0.0, 255.0]. Convert image to uint8 prior to saving to suppress this warning.\n"
     ]
    },
    {
     "name": "stdout",
     "output_type": "stream",
     "text": [
      "open tif file succeed\n",
      "1 1\n",
      "(256, 512, 3)\n",
      "float32\n",
      "E:/Dataset/202101_withDinghu/temp/dataset/size256/v1/test/test2\\W1_1115_2230.png\n"
     ]
    },
    {
     "name": "stderr",
     "output_type": "stream",
     "text": [
      "WARNING:root:Lossy conversion from float32 to uint8. Range [0.0, 255.0]. Convert image to uint8 prior to saving to suppress this warning.\n",
      "WARNING:root:Lossy conversion from float32 to uint8. Range [0.0, 255.0]. Convert image to uint8 prior to saving to suppress this warning.\n"
     ]
    },
    {
     "name": "stdout",
     "output_type": "stream",
     "text": [
      "Done!\n",
      "open tif file succeed\n",
      "open tif file succeed\n",
      "1 1\n",
      "(256, 512, 3)\n",
      "float32\n",
      "E:/Dataset/202101_withDinghu/temp/dataset/size256/v1/test/test2\\W1_1115_2453.png\n",
      "Done!\n",
      "open tif file succeed\n",
      "open tif file succeed\n",
      "1 1\n",
      "(256, 512, 3)\n",
      "float32\n",
      "E:/Dataset/202101_withDinghu/temp/dataset/size256/v1/test/test2\\W1_1115_2676.png\n",
      "Done!\n",
      "open tif file succeed\n"
     ]
    },
    {
     "name": "stderr",
     "output_type": "stream",
     "text": [
      "WARNING:root:Lossy conversion from float32 to uint8. Range [0.0, 255.0]. Convert image to uint8 prior to saving to suppress this warning.\n",
      "WARNING:root:Lossy conversion from float32 to uint8. Range [0.0, 255.0]. Convert image to uint8 prior to saving to suppress this warning.\n",
      "WARNING:root:Lossy conversion from float32 to uint8. Range [0.0, 229.0]. Convert image to uint8 prior to saving to suppress this warning.\n"
     ]
    },
    {
     "name": "stdout",
     "output_type": "stream",
     "text": [
      "open tif file succeed\n",
      "1 1\n",
      "(256, 512, 3)\n",
      "float32\n",
      "E:/Dataset/202101_withDinghu/temp/dataset/size256/v1/test/test2\\W1_1115_2899.png\n",
      "Done!\n",
      "open tif file succeed\n",
      "open tif file succeed\n",
      "1 1\n",
      "(256, 512, 3)\n",
      "float32\n",
      "E:/Dataset/202101_withDinghu/temp/dataset/size256/v1/test/test2\\W1_1115_3122.png\n",
      "Done!\n",
      "open tif file succeed\n",
      "open tif file succeed\n",
      "1 1\n",
      "(256, 512, 3)\n",
      "float32\n",
      "E:/Dataset/202101_withDinghu/temp/dataset/size256/v1/test/test2\\W1_1115_446.png\n",
      "Done!\n",
      "open tif file succeed\n"
     ]
    },
    {
     "name": "stderr",
     "output_type": "stream",
     "text": [
      "WARNING:root:Lossy conversion from float32 to uint8. Range [0.0, 231.0]. Convert image to uint8 prior to saving to suppress this warning.\n"
     ]
    },
    {
     "name": "stdout",
     "output_type": "stream",
     "text": [
      "open tif file succeed\n",
      "1 1\n",
      "(256, 512, 3)\n",
      "float32\n",
      "E:/Dataset/202101_withDinghu/temp/dataset/size256/v1/test/test2\\W1_1115_669.png\n"
     ]
    },
    {
     "name": "stderr",
     "output_type": "stream",
     "text": [
      "WARNING:root:Lossy conversion from float32 to uint8. Range [0.0, 227.0]. Convert image to uint8 prior to saving to suppress this warning.\n",
      "WARNING:root:Lossy conversion from float32 to uint8. Range [0.0, 255.0]. Convert image to uint8 prior to saving to suppress this warning.\n"
     ]
    },
    {
     "name": "stdout",
     "output_type": "stream",
     "text": [
      "Done!\n",
      "open tif file succeed\n",
      "open tif file succeed\n",
      "1 1\n",
      "(256, 512, 3)\n",
      "float32\n",
      "E:/Dataset/202101_withDinghu/temp/dataset/size256/v1/test/test2\\W1_1115_892.png\n",
      "Done!\n",
      "open tif file succeed\n",
      "open tif file succeed\n",
      "1 1\n",
      "(256, 512, 3)\n",
      "float32\n",
      "E:/Dataset/202101_withDinghu/temp/dataset/size256/v1/test/test2\\W1_1338_0.png\n"
     ]
    },
    {
     "name": "stderr",
     "output_type": "stream",
     "text": [
      "WARNING:root:Lossy conversion from float32 to uint8. Range [0.0, 223.0]. Convert image to uint8 prior to saving to suppress this warning.\n"
     ]
    },
    {
     "name": "stdout",
     "output_type": "stream",
     "text": [
      "Done!\n",
      "open tif file succeed\n",
      "open tif file succeed\n",
      "1 1\n",
      "(256, 512, 3)\n",
      "float32\n",
      "E:/Dataset/202101_withDinghu/temp/dataset/size256/v1/test/test2\\W1_1338_1115.png\n"
     ]
    },
    {
     "name": "stderr",
     "output_type": "stream",
     "text": [
      "WARNING:root:Lossy conversion from float32 to uint8. Range [0.0, 232.0]. Convert image to uint8 prior to saving to suppress this warning.\n"
     ]
    },
    {
     "name": "stdout",
     "output_type": "stream",
     "text": [
      "Done!\n",
      "open tif file succeed\n",
      "open tif file succeed\n",
      "1 1\n",
      "(256, 512, 3)\n",
      "float32\n",
      "E:/Dataset/202101_withDinghu/temp/dataset/size256/v1/test/test2\\W1_1338_1338.png\n",
      "Done!\n",
      "open tif file succeed\n"
     ]
    },
    {
     "name": "stderr",
     "output_type": "stream",
     "text": [
      "WARNING:root:Lossy conversion from float32 to uint8. Range [0.0, 238.0]. Convert image to uint8 prior to saving to suppress this warning.\n"
     ]
    },
    {
     "name": "stdout",
     "output_type": "stream",
     "text": [
      "open tif file succeed\n",
      "1 1\n",
      "(256, 512, 3)\n",
      "float32\n",
      "E:/Dataset/202101_withDinghu/temp/dataset/size256/v1/test/test2\\W1_1338_1561.png\n",
      "Done!\n",
      "open tif file succeed\n"
     ]
    },
    {
     "name": "stderr",
     "output_type": "stream",
     "text": [
      "WARNING:root:Lossy conversion from float32 to uint8. Range [0.0, 255.0]. Convert image to uint8 prior to saving to suppress this warning.\n"
     ]
    },
    {
     "name": "stdout",
     "output_type": "stream",
     "text": [
      "open tif file succeed\n",
      "1 1\n",
      "(256, 512, 3)\n",
      "float32\n",
      "E:/Dataset/202101_withDinghu/temp/dataset/size256/v1/test/test2\\W1_1338_1784.png\n"
     ]
    },
    {
     "name": "stderr",
     "output_type": "stream",
     "text": [
      "WARNING:root:Lossy conversion from float32 to uint8. Range [0.0, 255.0]. Convert image to uint8 prior to saving to suppress this warning.\n"
     ]
    },
    {
     "name": "stdout",
     "output_type": "stream",
     "text": [
      "Done!\n",
      "open tif file succeed\n",
      "open tif file succeed\n",
      "1 1\n",
      "(256, 512, 3)\n",
      "float32\n",
      "E:/Dataset/202101_withDinghu/temp/dataset/size256/v1/test/test2\\W1_1338_2007.png\n",
      "Done!\n",
      "open tif file succeed\n"
     ]
    },
    {
     "name": "stderr",
     "output_type": "stream",
     "text": [
      "WARNING:root:Lossy conversion from float32 to uint8. Range [0.0, 255.0]. Convert image to uint8 prior to saving to suppress this warning.\n"
     ]
    },
    {
     "name": "stdout",
     "output_type": "stream",
     "text": [
      "open tif file succeed\n",
      "1 1\n",
      "(256, 512, 3)\n",
      "float32\n",
      "E:/Dataset/202101_withDinghu/temp/dataset/size256/v1/test/test2\\W1_1338_223.png\n",
      "Done!\n",
      "open tif file succeed\n",
      "open tif file succeed\n",
      "1 1\n",
      "(256, 512, 3)\n"
     ]
    },
    {
     "name": "stderr",
     "output_type": "stream",
     "text": [
      "WARNING:root:Lossy conversion from float32 to uint8. Range [0.0, 255.0]. Convert image to uint8 prior to saving to suppress this warning.\n",
      "WARNING:root:Lossy conversion from float32 to uint8. Range [0.0, 255.0]. Convert image to uint8 prior to saving to suppress this warning.\n",
      "WARNING:root:Lossy conversion from float32 to uint8. Range [0.0, 255.0]. Convert image to uint8 prior to saving to suppress this warning.\n"
     ]
    },
    {
     "name": "stdout",
     "output_type": "stream",
     "text": [
      "float32\n",
      "E:/Dataset/202101_withDinghu/temp/dataset/size256/v1/test/test2\\W1_1338_2230.png\n",
      "Done!\n",
      "open tif file succeed\n",
      "open tif file succeed\n",
      "1 1\n",
      "(256, 512, 3)\n",
      "float32\n",
      "E:/Dataset/202101_withDinghu/temp/dataset/size256/v1/test/test2\\W1_1338_2453.png\n",
      "Done!\n",
      "open tif file succeed\n",
      "open tif file succeed\n",
      "1 1\n",
      "(256, 512, 3)\n",
      "float32\n",
      "E:/Dataset/202101_withDinghu/temp/dataset/size256/v1/test/test2\\W1_1338_2676.png\n",
      "Done!\n",
      "open tif file succeed\n"
     ]
    },
    {
     "name": "stderr",
     "output_type": "stream",
     "text": [
      "WARNING:root:Lossy conversion from float32 to uint8. Range [0.0, 255.0]. Convert image to uint8 prior to saving to suppress this warning.\n",
      "WARNING:root:Lossy conversion from float32 to uint8. Range [0.0, 255.0]. Convert image to uint8 prior to saving to suppress this warning.\n",
      "WARNING:root:Lossy conversion from float32 to uint8. Range [0.0, 233.0]. Convert image to uint8 prior to saving to suppress this warning.\n"
     ]
    },
    {
     "name": "stdout",
     "output_type": "stream",
     "text": [
      "open tif file succeed\n",
      "1 1\n",
      "(256, 512, 3)\n",
      "float32\n",
      "E:/Dataset/202101_withDinghu/temp/dataset/size256/v1/test/test2\\W1_1338_2899.png\n",
      "Done!\n",
      "open tif file succeed\n",
      "open tif file succeed\n",
      "1 1\n",
      "(256, 512, 3)\n",
      "float32\n",
      "E:/Dataset/202101_withDinghu/temp/dataset/size256/v1/test/test2\\W1_1338_3122.png\n",
      "Done!\n",
      "open tif file succeed\n",
      "open tif file succeed\n",
      "1 1\n",
      "(256, 512, 3)\n",
      "float32\n",
      "E:/Dataset/202101_withDinghu/temp/dataset/size256/v1/test/test2\\W1_1338_446.png\n"
     ]
    },
    {
     "name": "stderr",
     "output_type": "stream",
     "text": [
      "WARNING:root:Lossy conversion from float32 to uint8. Range [0.0, 235.0]. Convert image to uint8 prior to saving to suppress this warning.\n"
     ]
    },
    {
     "name": "stdout",
     "output_type": "stream",
     "text": [
      "Done!\n",
      "open tif file succeed\n",
      "open tif file succeed\n",
      "1 1\n",
      "(256, 512, 3)\n",
      "float32\n",
      "E:/Dataset/202101_withDinghu/temp/dataset/size256/v1/test/test2\\W1_1338_669.png\n"
     ]
    },
    {
     "name": "stderr",
     "output_type": "stream",
     "text": [
      "WARNING:root:Lossy conversion from float32 to uint8. Range [0.0, 231.0]. Convert image to uint8 prior to saving to suppress this warning.\n"
     ]
    },
    {
     "name": "stdout",
     "output_type": "stream",
     "text": [
      "Done!\n",
      "open tif file succeed\n",
      "open tif file succeed\n",
      "1 1\n",
      "(256, 512, 3)\n",
      "float32\n",
      "E:/Dataset/202101_withDinghu/temp/dataset/size256/v1/test/test2\\W1_1338_892.png\n",
      "Done!\n",
      "open tif file succeed\n"
     ]
    },
    {
     "name": "stderr",
     "output_type": "stream",
     "text": [
      "WARNING:root:Lossy conversion from float32 to uint8. Range [0.0, 255.0]. Convert image to uint8 prior to saving to suppress this warning.\n",
      "WARNING:root:Lossy conversion from float32 to uint8. Range [0.0, 228.0]. Convert image to uint8 prior to saving to suppress this warning.\n"
     ]
    },
    {
     "name": "stdout",
     "output_type": "stream",
     "text": [
      "open tif file succeed\n",
      "1 1\n",
      "(256, 512, 3)\n",
      "float32\n",
      "E:/Dataset/202101_withDinghu/temp/dataset/size256/v1/test/test2\\W1_1561_0.png\n",
      "Done!\n",
      "open tif file succeed\n",
      "open tif file succeed\n",
      "1 1\n",
      "(256, 512, 3)\n",
      "float32\n",
      "E:/Dataset/202101_withDinghu/temp/dataset/size256/v1/test/test2\\W1_1561_1115.png\n"
     ]
    },
    {
     "name": "stderr",
     "output_type": "stream",
     "text": [
      "WARNING:root:Lossy conversion from float32 to uint8. Range [0.0, 228.0]. Convert image to uint8 prior to saving to suppress this warning.\n"
     ]
    },
    {
     "name": "stdout",
     "output_type": "stream",
     "text": [
      "Done!\n",
      "open tif file succeed\n",
      "open tif file succeed\n",
      "1 1\n",
      "(256, 512, 3)\n",
      "float32\n",
      "E:/Dataset/202101_withDinghu/temp/dataset/size256/v1/test/test2\\W1_1561_1338.png\n"
     ]
    },
    {
     "name": "stderr",
     "output_type": "stream",
     "text": [
      "WARNING:root:Lossy conversion from float32 to uint8. Range [0.0, 240.0]. Convert image to uint8 prior to saving to suppress this warning.\n"
     ]
    },
    {
     "name": "stdout",
     "output_type": "stream",
     "text": [
      "Done!\n",
      "open tif file succeed\n",
      "open tif file succeed\n",
      "1 1\n",
      "(256, 512, 3)\n",
      "float32\n",
      "E:/Dataset/202101_withDinghu/temp/dataset/size256/v1/test/test2\\W1_1561_1561.png\n",
      "Done!\n",
      "open tif file succeed\n"
     ]
    },
    {
     "name": "stderr",
     "output_type": "stream",
     "text": [
      "WARNING:root:Lossy conversion from float32 to uint8. Range [0.0, 240.0]. Convert image to uint8 prior to saving to suppress this warning.\n"
     ]
    },
    {
     "name": "stdout",
     "output_type": "stream",
     "text": [
      "open tif file succeed\n",
      "1 1\n",
      "(256, 512, 3)\n",
      "float32\n",
      "E:/Dataset/202101_withDinghu/temp/dataset/size256/v1/test/test2\\W1_1561_1784.png\n"
     ]
    },
    {
     "name": "stderr",
     "output_type": "stream",
     "text": [
      "WARNING:root:Lossy conversion from float32 to uint8. Range [0.0, 255.0]. Convert image to uint8 prior to saving to suppress this warning.\n"
     ]
    },
    {
     "name": "stdout",
     "output_type": "stream",
     "text": [
      "Done!\n",
      "open tif file succeed\n",
      "open tif file succeed\n",
      "1 1\n",
      "(256, 512, 3)\n",
      "float32\n",
      "E:/Dataset/202101_withDinghu/temp/dataset/size256/v1/test/test2\\W1_1561_2007.png\n"
     ]
    },
    {
     "name": "stderr",
     "output_type": "stream",
     "text": [
      "WARNING:root:Lossy conversion from float32 to uint8. Range [0.0, 255.0]. Convert image to uint8 prior to saving to suppress this warning.\n"
     ]
    },
    {
     "name": "stdout",
     "output_type": "stream",
     "text": [
      "Done!\n",
      "open tif file succeed\n",
      "open tif file succeed\n",
      "1 1\n",
      "(256, 512, 3)\n",
      "float32\n",
      "E:/Dataset/202101_withDinghu/temp/dataset/size256/v1/test/test2\\W1_1561_223.png\n"
     ]
    },
    {
     "name": "stderr",
     "output_type": "stream",
     "text": [
      "WARNING:root:Lossy conversion from float32 to uint8. Range [0.0, 255.0]. Convert image to uint8 prior to saving to suppress this warning.\n"
     ]
    },
    {
     "name": "stdout",
     "output_type": "stream",
     "text": [
      "Done!\n",
      "open tif file succeed\n",
      "open tif file succeed\n",
      "1 1\n",
      "(256, 512, 3)\n",
      "float32\n",
      "E:/Dataset/202101_withDinghu/temp/dataset/size256/v1/test/test2\\W1_1561_2230.png\n",
      "Done!\n",
      "open tif file succeed\n"
     ]
    },
    {
     "name": "stderr",
     "output_type": "stream",
     "text": [
      "WARNING:root:Lossy conversion from float32 to uint8. Range [0.0, 255.0]. Convert image to uint8 prior to saving to suppress this warning.\n",
      "WARNING:root:Lossy conversion from float32 to uint8. Range [0.0, 255.0]. Convert image to uint8 prior to saving to suppress this warning.\n",
      "WARNING:root:Lossy conversion from float32 to uint8. Range [0.0, 255.0]. Convert image to uint8 prior to saving to suppress this warning.\n"
     ]
    },
    {
     "name": "stdout",
     "output_type": "stream",
     "text": [
      "open tif file succeed\n",
      "1 1\n",
      "(256, 512, 3)\n",
      "float32\n",
      "E:/Dataset/202101_withDinghu/temp/dataset/size256/v1/test/test2\\W1_1561_2453.png\n",
      "Done!\n",
      "open tif file succeed\n",
      "open tif file succeed\n",
      "1 1\n",
      "(256, 512, 3)\n",
      "float32\n",
      "E:/Dataset/202101_withDinghu/temp/dataset/size256/v1/test/test2\\W1_1561_2676.png\n",
      "Done!\n",
      "open tif file succeed\n",
      "open tif file succeed\n",
      "1 1\n",
      "(256, 512, 3)\n",
      "float32\n",
      "E:/Dataset/202101_withDinghu/temp/dataset/size256/v1/test/test2\\W1_1561_2899.png\n",
      "Done!\n",
      "open tif file succeed\n"
     ]
    },
    {
     "name": "stderr",
     "output_type": "stream",
     "text": [
      "WARNING:root:Lossy conversion from float32 to uint8. Range [0.0, 255.0]. Convert image to uint8 prior to saving to suppress this warning.\n",
      "WARNING:root:Lossy conversion from float32 to uint8. Range [0.0, 229.0]. Convert image to uint8 prior to saving to suppress this warning.\n"
     ]
    },
    {
     "name": "stdout",
     "output_type": "stream",
     "text": [
      "open tif file succeed\n",
      "1 1\n",
      "(256, 512, 3)\n",
      "float32\n",
      "E:/Dataset/202101_withDinghu/temp/dataset/size256/v1/test/test2\\W1_1561_3122.png\n",
      "Done!\n",
      "open tif file succeed\n",
      "open tif file succeed\n",
      "1 1\n",
      "(256, 512, 3)\n",
      "float32\n",
      "E:/Dataset/202101_withDinghu/temp/dataset/size256/v1/test/test2\\W1_1561_446.png\n"
     ]
    },
    {
     "name": "stderr",
     "output_type": "stream",
     "text": [
      "WARNING:root:Lossy conversion from float32 to uint8. Range [0.0, 228.0]. Convert image to uint8 prior to saving to suppress this warning.\n"
     ]
    },
    {
     "name": "stdout",
     "output_type": "stream",
     "text": [
      "Done!\n",
      "open tif file succeed\n",
      "open tif file succeed\n",
      "1 1\n",
      "(256, 512, 3)\n",
      "float32\n",
      "E:/Dataset/202101_withDinghu/temp/dataset/size256/v1/test/test2\\W1_1561_669.png\n"
     ]
    },
    {
     "name": "stderr",
     "output_type": "stream",
     "text": [
      "WARNING:root:Lossy conversion from float32 to uint8. Range [0.0, 228.0]. Convert image to uint8 prior to saving to suppress this warning.\n"
     ]
    },
    {
     "name": "stdout",
     "output_type": "stream",
     "text": [
      "Done!\n",
      "open tif file succeed\n",
      "open tif file succeed\n",
      "1 1\n",
      "(256, 512, 3)\n",
      "float32\n",
      "E:/Dataset/202101_withDinghu/temp/dataset/size256/v1/test/test2\\W1_1561_892.png\n",
      "Done!\n",
      "open tif file succeed\n"
     ]
    },
    {
     "name": "stderr",
     "output_type": "stream",
     "text": [
      "WARNING:root:Lossy conversion from float32 to uint8. Range [0.0, 255.0]. Convert image to uint8 prior to saving to suppress this warning.\n",
      "WARNING:root:Lossy conversion from float32 to uint8. Range [0.0, 230.0]. Convert image to uint8 prior to saving to suppress this warning.\n"
     ]
    },
    {
     "name": "stdout",
     "output_type": "stream",
     "text": [
      "open tif file succeed\n",
      "1 1\n",
      "(256, 512, 3)\n",
      "float32\n",
      "E:/Dataset/202101_withDinghu/temp/dataset/size256/v1/test/test2\\W1_1784_0.png\n",
      "Done!\n",
      "open tif file succeed\n",
      "open tif file succeed\n",
      "1 1\n",
      "(256, 512, 3)\n",
      "float32\n",
      "E:/Dataset/202101_withDinghu/temp/dataset/size256/v1/test/test2\\W1_1784_1115.png\n"
     ]
    },
    {
     "name": "stderr",
     "output_type": "stream",
     "text": [
      "WARNING:root:Lossy conversion from float32 to uint8. Range [0.0, 227.0]. Convert image to uint8 prior to saving to suppress this warning.\n"
     ]
    },
    {
     "name": "stdout",
     "output_type": "stream",
     "text": [
      "Done!\n",
      "open tif file succeed\n",
      "open tif file succeed\n",
      "1 1\n",
      "(256, 512, 3)\n",
      "float32\n",
      "E:/Dataset/202101_withDinghu/temp/dataset/size256/v1/test/test2\\W1_1784_1338.png\n"
     ]
    },
    {
     "name": "stderr",
     "output_type": "stream",
     "text": [
      "WARNING:root:Lossy conversion from float32 to uint8. Range [0.0, 239.0]. Convert image to uint8 prior to saving to suppress this warning.\n"
     ]
    },
    {
     "name": "stdout",
     "output_type": "stream",
     "text": [
      "Done!\n",
      "open tif file succeed\n",
      "open tif file succeed\n",
      "1 1\n",
      "(256, 512, 3)\n",
      "float32\n",
      "E:/Dataset/202101_withDinghu/temp/dataset/size256/v1/test/test2\\W1_1784_1561.png\n",
      "Done!\n",
      "open tif file succeed\n"
     ]
    },
    {
     "name": "stderr",
     "output_type": "stream",
     "text": [
      "WARNING:root:Lossy conversion from float32 to uint8. Range [0.0, 240.0]. Convert image to uint8 prior to saving to suppress this warning.\n"
     ]
    },
    {
     "name": "stdout",
     "output_type": "stream",
     "text": [
      "open tif file succeed\n",
      "1 1\n",
      "(256, 512, 3)\n",
      "float32\n",
      "E:/Dataset/202101_withDinghu/temp/dataset/size256/v1/test/test2\\W1_1784_1784.png\n",
      "Done!\n",
      "open tif file succeed\n"
     ]
    },
    {
     "name": "stderr",
     "output_type": "stream",
     "text": [
      "WARNING:root:Lossy conversion from float32 to uint8. Range [0.0, 255.0]. Convert image to uint8 prior to saving to suppress this warning.\n"
     ]
    },
    {
     "name": "stdout",
     "output_type": "stream",
     "text": [
      "open tif file succeed\n",
      "1 1\n",
      "(256, 512, 3)\n",
      "float32\n",
      "E:/Dataset/202101_withDinghu/temp/dataset/size256/v1/test/test2\\W1_1784_2007.png\n",
      "Done!\n",
      "open tif file succeed\n"
     ]
    },
    {
     "name": "stderr",
     "output_type": "stream",
     "text": [
      "WARNING:root:Lossy conversion from float32 to uint8. Range [0.0, 255.0]. Convert image to uint8 prior to saving to suppress this warning.\n"
     ]
    },
    {
     "name": "stdout",
     "output_type": "stream",
     "text": [
      "open tif file succeed\n",
      "1 1\n",
      "(256, 512, 3)\n",
      "float32\n",
      "E:/Dataset/202101_withDinghu/temp/dataset/size256/v1/test/test2\\W1_1784_223.png\n",
      "Done!\n",
      "open tif file succeed\n"
     ]
    },
    {
     "name": "stderr",
     "output_type": "stream",
     "text": [
      "WARNING:root:Lossy conversion from float32 to uint8. Range [0.0, 255.0]. Convert image to uint8 prior to saving to suppress this warning.\n",
      "WARNING:root:Lossy conversion from float32 to uint8. Range [0.0, 255.0]. Convert image to uint8 prior to saving to suppress this warning.\n"
     ]
    },
    {
     "name": "stdout",
     "output_type": "stream",
     "text": [
      "open tif file succeed\n",
      "1 1\n",
      "(256, 512, 3)\n",
      "float32\n",
      "E:/Dataset/202101_withDinghu/temp/dataset/size256/v1/test/test2\\W1_1784_2230.png\n",
      "Done!\n",
      "open tif file succeed\n",
      "open tif file succeed\n",
      "1 1\n",
      "(256, 512, 3)\n",
      "float32\n",
      "E:/Dataset/202101_withDinghu/temp/dataset/size256/v1/test/test2\\W1_1784_2453.png\n",
      "Done!\n",
      "open tif file succeed\n"
     ]
    },
    {
     "name": "stderr",
     "output_type": "stream",
     "text": [
      "WARNING:root:Lossy conversion from float32 to uint8. Range [0.0, 255.0]. Convert image to uint8 prior to saving to suppress this warning.\n",
      "WARNING:root:Lossy conversion from float32 to uint8. Range [0.0, 255.0]. Convert image to uint8 prior to saving to suppress this warning.\n",
      "WARNING:root:Lossy conversion from float32 to uint8. Range [0.0, 255.0]. Convert image to uint8 prior to saving to suppress this warning.\n",
      "WARNING:root:Lossy conversion from float32 to uint8. Range [0.0, 231.0]. Convert image to uint8 prior to saving to suppress this warning.\n"
     ]
    },
    {
     "name": "stdout",
     "output_type": "stream",
     "text": [
      "open tif file succeed\n",
      "1 1\n",
      "(256, 512, 3)\n",
      "float32\n",
      "E:/Dataset/202101_withDinghu/temp/dataset/size256/v1/test/test2\\W1_1784_2676.png\n",
      "Done!\n",
      "open tif file succeed\n",
      "open tif file succeed\n",
      "1 1\n",
      "(256, 512, 3)\n",
      "float32\n",
      "E:/Dataset/202101_withDinghu/temp/dataset/size256/v1/test/test2\\W1_1784_2899.png\n",
      "Done!\n",
      "open tif file succeed\n",
      "open tif file succeed\n",
      "1 1\n",
      "(256, 512, 3)\n",
      "float32\n",
      "E:/Dataset/202101_withDinghu/temp/dataset/size256/v1/test/test2\\W1_1784_3122.png\n",
      "Done!\n",
      "open tif file succeed\n",
      "open tif file succeed\n",
      "1 1\n",
      "(256, 512, 3)\n",
      "float32\n",
      "E:/Dataset/202101_withDinghu/temp/dataset/size256/v1/test/test2\\W1_1784_446.png\n",
      "Done!\n",
      "open tif file succeed\n"
     ]
    },
    {
     "name": "stderr",
     "output_type": "stream",
     "text": [
      "WARNING:root:Lossy conversion from float32 to uint8. Range [0.0, 233.0]. Convert image to uint8 prior to saving to suppress this warning.\n",
      "WARNING:root:Lossy conversion from float32 to uint8. Range [0.0, 233.0]. Convert image to uint8 prior to saving to suppress this warning.\n",
      "WARNING:root:Lossy conversion from float32 to uint8. Range [0.0, 255.0]. Convert image to uint8 prior to saving to suppress this warning.\n"
     ]
    },
    {
     "name": "stdout",
     "output_type": "stream",
     "text": [
      "open tif file succeed\n",
      "1 1\n",
      "(256, 512, 3)\n",
      "float32\n",
      "E:/Dataset/202101_withDinghu/temp/dataset/size256/v1/test/test2\\W1_1784_669.png\n",
      "Done!\n",
      "open tif file succeed\n",
      "open tif file succeed\n",
      "1 1\n",
      "(256, 512, 3)\n",
      "float32\n",
      "E:/Dataset/202101_withDinghu/temp/dataset/size256/v1/test/test2\\W1_1784_892.png\n",
      "Done!\n",
      "open tif file succeed\n",
      "open tif file succeed\n",
      "1 1\n",
      "(256, 512, 3)\n",
      "float32\n",
      "E:/Dataset/202101_withDinghu/temp/dataset/size256/v1/test/test2\\W1_2007_0.png\n",
      "Done!\n",
      "open tif file succeed\n"
     ]
    },
    {
     "name": "stderr",
     "output_type": "stream",
     "text": [
      "WARNING:root:Lossy conversion from float32 to uint8. Range [0.0, 237.0]. Convert image to uint8 prior to saving to suppress this warning.\n",
      "WARNING:root:Lossy conversion from float32 to uint8. Range [0.0, 234.0]. Convert image to uint8 prior to saving to suppress this warning.\n"
     ]
    },
    {
     "name": "stdout",
     "output_type": "stream",
     "text": [
      "open tif file succeed\n",
      "1 1\n",
      "(256, 512, 3)\n",
      "float32\n",
      "E:/Dataset/202101_withDinghu/temp/dataset/size256/v1/test/test2\\W1_2007_1115.png\n",
      "Done!\n",
      "open tif file succeed\n",
      "open tif file succeed\n",
      "1 1\n",
      "(256, 512, 3)\n",
      "float32\n",
      "E:/Dataset/202101_withDinghu/temp/dataset/size256/v1/test/test2\\W1_2007_1338.png\n",
      "Done!\n",
      "open tif file succeed\n"
     ]
    },
    {
     "name": "stderr",
     "output_type": "stream",
     "text": [
      "WARNING:root:Lossy conversion from float32 to uint8. Range [0.0, 255.0]. Convert image to uint8 prior to saving to suppress this warning.\n",
      "WARNING:root:Lossy conversion from float32 to uint8. Range [0.0, 255.0]. Convert image to uint8 prior to saving to suppress this warning.\n",
      "WARNING:root:Lossy conversion from float32 to uint8. Range [0.0, 255.0]. Convert image to uint8 prior to saving to suppress this warning.\n",
      "WARNING:root:Lossy conversion from float32 to uint8. Range [0.0, 255.0]. Convert image to uint8 prior to saving to suppress this warning.\n"
     ]
    },
    {
     "name": "stdout",
     "output_type": "stream",
     "text": [
      "open tif file succeed\n",
      "1 1\n",
      "(256, 512, 3)\n",
      "float32\n",
      "E:/Dataset/202101_withDinghu/temp/dataset/size256/v1/test/test2\\W1_2007_1561.png\n",
      "Done!\n",
      "open tif file succeed\n",
      "open tif file succeed\n",
      "1 1\n",
      "(256, 512, 3)\n",
      "float32\n",
      "E:/Dataset/202101_withDinghu/temp/dataset/size256/v1/test/test2\\W1_2007_1784.png\n",
      "Done!\n",
      "open tif file succeed\n",
      "open tif file succeed\n",
      "1 1\n",
      "(256, 512, 3)\n",
      "float32\n",
      "E:/Dataset/202101_withDinghu/temp/dataset/size256/v1/test/test2\\W1_2007_2007.png\n",
      "Done!\n",
      "open tif file succeed\n",
      "open tif file succeed\n",
      "1 1\n",
      "(256, 512, 3)\n",
      "float32\n",
      "E:/Dataset/202101_withDinghu/temp/dataset/size256/v1/test/test2\\W1_2007_223.png\n"
     ]
    },
    {
     "name": "stderr",
     "output_type": "stream",
     "text": [
      "WARNING:root:Lossy conversion from float32 to uint8. Range [0.0, 255.0]. Convert image to uint8 prior to saving to suppress this warning.\n",
      "WARNING:root:Lossy conversion from float32 to uint8. Range [0.0, 255.0]. Convert image to uint8 prior to saving to suppress this warning.\n",
      "WARNING:root:Lossy conversion from float32 to uint8. Range [0.0, 255.0]. Convert image to uint8 prior to saving to suppress this warning.\n",
      "WARNING:root:Lossy conversion from float32 to uint8. Range [0.0, 255.0]. Convert image to uint8 prior to saving to suppress this warning.\n",
      "WARNING:root:Lossy conversion from float32 to uint8. Range [0.0, 255.0]. Convert image to uint8 prior to saving to suppress this warning.\n",
      "WARNING:root:Lossy conversion from float32 to uint8. Range [0.0, 230.0]. Convert image to uint8 prior to saving to suppress this warning.\n"
     ]
    },
    {
     "name": "stdout",
     "output_type": "stream",
     "text": [
      "Done!\n",
      "open tif file succeed\n",
      "open tif file succeed\n",
      "1 1\n",
      "(256, 512, 3)\n",
      "float32\n",
      "E:/Dataset/202101_withDinghu/temp/dataset/size256/v1/test/test2\\W1_2007_2230.png\n",
      "Done!\n",
      "open tif file succeed\n",
      "open tif file succeed\n",
      "1 1\n",
      "(256, 512, 3)\n",
      "float32\n",
      "E:/Dataset/202101_withDinghu/temp/dataset/size256/v1/test/test2\\W1_2007_2453.png\n",
      "Done!\n",
      "open tif file succeed\n",
      "open tif file succeed\n",
      "1 1\n",
      "(256, 512, 3)\n",
      "float32\n",
      "E:/Dataset/202101_withDinghu/temp/dataset/size256/v1/test/test2\\W1_2007_2676.png\n",
      "Done!\n",
      "open tif file succeed\n",
      "open tif file succeed\n",
      "1 1\n",
      "(256, 512, 3)\n",
      "float32\n",
      "E:/Dataset/202101_withDinghu/temp/dataset/size256/v1/test/test2\\W1_2007_2899.png\n",
      "Done!\n",
      "open tif file succeed\n",
      "open tif file succeed\n",
      "1 1\n",
      "(256, 512, 3)\n",
      "float32\n",
      "E:/Dataset/202101_withDinghu/temp/dataset/size256/v1/test/test2\\W1_2007_3122.png\n",
      "Done!\n",
      "open tif file succeed\n",
      "open tif file succeed\n",
      "1 1\n",
      "(256, 512, 3)\n",
      "float32\n",
      "E:/Dataset/202101_withDinghu/temp/dataset/size256/v1/test/test2\\W1_2007_446.png\n"
     ]
    },
    {
     "name": "stderr",
     "output_type": "stream",
     "text": [
      "WARNING:root:Lossy conversion from float32 to uint8. Range [0.0, 238.0]. Convert image to uint8 prior to saving to suppress this warning.\n",
      "WARNING:root:Lossy conversion from float32 to uint8. Range [0.0, 238.0]. Convert image to uint8 prior to saving to suppress this warning.\n"
     ]
    },
    {
     "name": "stdout",
     "output_type": "stream",
     "text": [
      "Done!\n",
      "open tif file succeed\n",
      "open tif file succeed\n",
      "1 1\n",
      "(256, 512, 3)\n",
      "float32\n",
      "E:/Dataset/202101_withDinghu/temp/dataset/size256/v1/test/test2\\W1_2007_669.png\n",
      "Done!\n",
      "open tif file succeed\n",
      "open tif file succeed\n",
      "1 1\n",
      "(256, 512, 3)\n",
      "float32\n",
      "E:/Dataset/202101_withDinghu/temp/dataset/size256/v1/test/test2\\W1_2007_892.png\n"
     ]
    },
    {
     "name": "stderr",
     "output_type": "stream",
     "text": [
      "WARNING:root:Lossy conversion from float32 to uint8. Range [0.0, 255.0]. Convert image to uint8 prior to saving to suppress this warning.\n",
      "WARNING:root:Lossy conversion from float32 to uint8. Range [0.0, 240.0]. Convert image to uint8 prior to saving to suppress this warning.\n",
      "WARNING:root:Lossy conversion from float32 to uint8. Range [0.0, 235.0]. Convert image to uint8 prior to saving to suppress this warning.\n"
     ]
    },
    {
     "name": "stdout",
     "output_type": "stream",
     "text": [
      "Done!\n",
      "open tif file succeed\n",
      "open tif file succeed\n",
      "1 1\n",
      "(256, 512, 3)\n",
      "float32\n",
      "E:/Dataset/202101_withDinghu/temp/dataset/size256/v1/test/test2\\W1_2230_0.png\n",
      "Done!\n",
      "open tif file succeed\n",
      "open tif file succeed\n",
      "1 1\n",
      "(256, 512, 3)\n",
      "float32\n",
      "E:/Dataset/202101_withDinghu/temp/dataset/size256/v1/test/test2\\W1_2230_1115.png\n",
      "Done!\n",
      "open tif file succeed\n",
      "open tif file succeed\n",
      "1 1\n",
      "(256, 512, 3)\n",
      "float32\n",
      "E:/Dataset/202101_withDinghu/temp/dataset/size256/v1/test/test2\\W1_2230_1338.png\n"
     ]
    },
    {
     "name": "stderr",
     "output_type": "stream",
     "text": [
      "WARNING:root:Lossy conversion from float32 to uint8. Range [0.0, 255.0]. Convert image to uint8 prior to saving to suppress this warning.\n",
      "WARNING:root:Lossy conversion from float32 to uint8. Range [0.0, 255.0]. Convert image to uint8 prior to saving to suppress this warning.\n",
      "WARNING:root:Lossy conversion from float32 to uint8. Range [0.0, 255.0]. Convert image to uint8 prior to saving to suppress this warning.\n",
      "WARNING:root:Lossy conversion from float32 to uint8. Range [0.0, 255.0]. Convert image to uint8 prior to saving to suppress this warning.\n"
     ]
    },
    {
     "name": "stdout",
     "output_type": "stream",
     "text": [
      "Done!\n",
      "open tif file succeed\n",
      "open tif file succeed\n",
      "1 1\n",
      "(256, 512, 3)\n",
      "float32\n",
      "E:/Dataset/202101_withDinghu/temp/dataset/size256/v1/test/test2\\W1_2230_1561.png\n",
      "Done!\n",
      "open tif file succeed\n",
      "open tif file succeed\n",
      "1 1\n",
      "(256, 512, 3)\n",
      "float32\n",
      "E:/Dataset/202101_withDinghu/temp/dataset/size256/v1/test/test2\\W1_2230_1784.png\n",
      "Done!\n",
      "open tif file succeed\n",
      "open tif file succeed\n",
      "1 1\n",
      "(256, 512, 3)\n",
      "float32\n",
      "E:/Dataset/202101_withDinghu/temp/dataset/size256/v1/test/test2\\W1_2230_2007.png\n",
      "Done!\n",
      "open tif file succeed\n",
      "open tif file succeed\n",
      "1 1\n",
      "(256, 512, 3)\n",
      "float32\n",
      "E:/Dataset/202101_withDinghu/temp/dataset/size256/v1/test/test2\\W1_2230_223.png\n"
     ]
    },
    {
     "name": "stderr",
     "output_type": "stream",
     "text": [
      "WARNING:root:Lossy conversion from float32 to uint8. Range [0.0, 255.0]. Convert image to uint8 prior to saving to suppress this warning.\n",
      "WARNING:root:Lossy conversion from float32 to uint8. Range [0.0, 255.0]. Convert image to uint8 prior to saving to suppress this warning.\n",
      "WARNING:root:Lossy conversion from float32 to uint8. Range [0.0, 255.0]. Convert image to uint8 prior to saving to suppress this warning.\n",
      "WARNING:root:Lossy conversion from float32 to uint8. Range [0.0, 255.0]. Convert image to uint8 prior to saving to suppress this warning.\n",
      "WARNING:root:Lossy conversion from float32 to uint8. Range [0.0, 255.0]. Convert image to uint8 prior to saving to suppress this warning.\n",
      "WARNING:root:Lossy conversion from float32 to uint8. Range [0.0, 238.0]. Convert image to uint8 prior to saving to suppress this warning.\n"
     ]
    },
    {
     "name": "stdout",
     "output_type": "stream",
     "text": [
      "Done!\n",
      "open tif file succeed\n",
      "open tif file succeed\n",
      "1 1\n",
      "(256, 512, 3)\n",
      "float32\n",
      "E:/Dataset/202101_withDinghu/temp/dataset/size256/v1/test/test2\\W1_2230_2230.png\n",
      "Done!\n",
      "open tif file succeed\n",
      "open tif file succeed\n",
      "1 1\n",
      "(256, 512, 3)\n",
      "float32\n",
      "E:/Dataset/202101_withDinghu/temp/dataset/size256/v1/test/test2\\W1_2230_2453.png\n",
      "Done!\n",
      "open tif file succeed\n",
      "open tif file succeed\n",
      "1 1\n",
      "(256, 512, 3)\n",
      "float32\n",
      "E:/Dataset/202101_withDinghu/temp/dataset/size256/v1/test/test2\\W1_2230_2676.png\n",
      "Done!\n",
      "open tif file succeed\n",
      "open tif file succeed\n",
      "1 1\n",
      "(256, 512, 3)\n",
      "float32\n",
      "E:/Dataset/202101_withDinghu/temp/dataset/size256/v1/test/test2\\W1_2230_2899.png\n",
      "Done!\n",
      "open tif file succeed\n",
      "open tif file succeed\n",
      "1 1\n",
      "(256, 512, 3)\n",
      "float32\n",
      "E:/Dataset/202101_withDinghu/temp/dataset/size256/v1/test/test2\\W1_2230_3122.png\n",
      "Done!\n",
      "open tif file succeed\n",
      "open tif file succeed\n",
      "1 1\n",
      "(256, 512, 3)\n",
      "float32\n",
      "E:/Dataset/202101_withDinghu/temp/dataset/size256/v1/test/test2\\W1_2230_446.png\n"
     ]
    },
    {
     "name": "stderr",
     "output_type": "stream",
     "text": [
      "WARNING:root:Lossy conversion from float32 to uint8. Range [0.0, 240.0]. Convert image to uint8 prior to saving to suppress this warning.\n",
      "WARNING:root:Lossy conversion from float32 to uint8. Range [0.0, 243.0]. Convert image to uint8 prior to saving to suppress this warning.\n"
     ]
    },
    {
     "name": "stdout",
     "output_type": "stream",
     "text": [
      "Done!\n",
      "open tif file succeed\n",
      "open tif file succeed\n",
      "1 1\n",
      "(256, 512, 3)\n",
      "float32\n",
      "E:/Dataset/202101_withDinghu/temp/dataset/size256/v1/test/test2\\W1_2230_669.png\n",
      "Done!\n",
      "open tif file succeed\n",
      "open tif file succeed\n",
      "1 1\n",
      "(256, 512, 3)\n",
      "float32\n",
      "E:/Dataset/202101_withDinghu/temp/dataset/size256/v1/test/test2\\W1_2230_892.png\n"
     ]
    },
    {
     "name": "stderr",
     "output_type": "stream",
     "text": [
      "WARNING:root:Lossy conversion from float32 to uint8. Range [0.0, 255.0]. Convert image to uint8 prior to saving to suppress this warning.\n",
      "WARNING:root:Lossy conversion from float32 to uint8. Range [0.0, 255.0]. Convert image to uint8 prior to saving to suppress this warning.\n",
      "WARNING:root:Lossy conversion from float32 to uint8. Range [0.0, 255.0]. Convert image to uint8 prior to saving to suppress this warning.\n"
     ]
    },
    {
     "name": "stdout",
     "output_type": "stream",
     "text": [
      "Done!\n",
      "open tif file succeed\n",
      "open tif file succeed\n",
      "1 1\n",
      "(256, 512, 3)\n",
      "float32\n",
      "E:/Dataset/202101_withDinghu/temp/dataset/size256/v1/test/test2\\W1_223_0.png\n",
      "Done!\n",
      "open tif file succeed\n",
      "open tif file succeed\n",
      "1 1\n",
      "(256, 512, 3)\n",
      "float32\n",
      "E:/Dataset/202101_withDinghu/temp/dataset/size256/v1/test/test2\\W1_223_1115.png\n",
      "Done!\n",
      "open tif file succeed\n",
      "open tif file succeed\n",
      "1 1\n",
      "(256, 512, 3)\n",
      "float32\n",
      "E:/Dataset/202101_withDinghu/temp/dataset/size256/v1/test/test2\\W1_223_1338.png\n"
     ]
    },
    {
     "name": "stderr",
     "output_type": "stream",
     "text": [
      "WARNING:root:Lossy conversion from float32 to uint8. Range [0.0, 255.0]. Convert image to uint8 prior to saving to suppress this warning.\n",
      "WARNING:root:Lossy conversion from float32 to uint8. Range [0.0, 255.0]. Convert image to uint8 prior to saving to suppress this warning.\n",
      "WARNING:root:Lossy conversion from float32 to uint8. Range [0.0, 255.0]. Convert image to uint8 prior to saving to suppress this warning.\n",
      "WARNING:root:Lossy conversion from float32 to uint8. Range [0.0, 255.0]. Convert image to uint8 prior to saving to suppress this warning.\n",
      "WARNING:root:Lossy conversion from float32 to uint8. Range [0.0, 255.0]. Convert image to uint8 prior to saving to suppress this warning.\n",
      "WARNING:root:Lossy conversion from float32 to uint8. Range [0.0, 255.0]. Convert image to uint8 prior to saving to suppress this warning.\n",
      "WARNING:root:Lossy conversion from float32 to uint8. Range [0.0, 255.0]. Convert image to uint8 prior to saving to suppress this warning.\n"
     ]
    },
    {
     "name": "stdout",
     "output_type": "stream",
     "text": [
      "Done!\n",
      "open tif file succeed\n",
      "open tif file succeed\n",
      "1 1\n",
      "(256, 512, 3)\n",
      "float32\n",
      "E:/Dataset/202101_withDinghu/temp/dataset/size256/v1/test/test2\\W1_223_1561.png\n",
      "Done!\n",
      "open tif file succeed\n",
      "open tif file succeed\n",
      "1 1\n",
      "(256, 512, 3)\n",
      "float32\n",
      "E:/Dataset/202101_withDinghu/temp/dataset/size256/v1/test/test2\\W1_223_1784.png\n",
      "Done!\n",
      "open tif file succeed\n",
      "open tif file succeed\n",
      "1 1\n",
      "(256, 512, 3)\n",
      "float32\n",
      "E:/Dataset/202101_withDinghu/temp/dataset/size256/v1/test/test2\\W1_223_2007.png\n",
      "Done!\n",
      "open tif file succeed\n",
      "open tif file succeed\n",
      "1 1\n",
      "(256, 512, 3)\n",
      "float32\n",
      "E:/Dataset/202101_withDinghu/temp/dataset/size256/v1/test/test2\\W1_223_223.png\n",
      "Done!\n",
      "open tif file succeed\n",
      "open tif file succeed\n",
      "1 1\n",
      "(256, 512, 3)\n",
      "float32\n",
      "E:/Dataset/202101_withDinghu/temp/dataset/size256/v1/test/test2\\W1_223_2230.png\n",
      "Done!\n",
      "open tif file succeed\n",
      "open tif file succeed\n",
      "1 1\n",
      "(256, 512, 3)\n",
      "float32\n",
      "E:/Dataset/202101_withDinghu/temp/dataset/size256/v1/test/test2\\W1_223_2453.png\n",
      "Done!\n",
      "open tif file succeed\n",
      "open tif file succeed\n",
      "1 1\n",
      "(256, 512, 3)\n",
      "float32\n",
      "E:/Dataset/202101_withDinghu/temp/dataset/size256/v1/test/test2\\W1_223_2676.png\n",
      "Done!\n",
      "open tif file succeed\n"
     ]
    },
    {
     "name": "stderr",
     "output_type": "stream",
     "text": [
      "WARNING:root:Lossy conversion from float32 to uint8. Range [0.0, 255.0]. Convert image to uint8 prior to saving to suppress this warning.\n",
      "WARNING:root:Lossy conversion from float32 to uint8. Range [0.0, 255.0]. Convert image to uint8 prior to saving to suppress this warning.\n",
      "WARNING:root:Lossy conversion from float32 to uint8. Range [0.0, 255.0]. Convert image to uint8 prior to saving to suppress this warning.\n",
      "WARNING:root:Lossy conversion from float32 to uint8. Range [0.0, 255.0]. Convert image to uint8 prior to saving to suppress this warning.\n"
     ]
    },
    {
     "name": "stdout",
     "output_type": "stream",
     "text": [
      "open tif file succeed\n",
      "1 1\n",
      "(256, 512, 3)\n",
      "float32\n",
      "E:/Dataset/202101_withDinghu/temp/dataset/size256/v1/test/test2\\W1_223_2899.png\n",
      "Done!\n",
      "open tif file succeed\n",
      "open tif file succeed\n",
      "1 1\n",
      "(256, 512, 3)\n",
      "float32\n",
      "E:/Dataset/202101_withDinghu/temp/dataset/size256/v1/test/test2\\W1_223_3122.png\n",
      "Done!\n",
      "open tif file succeed\n",
      "open tif file succeed\n",
      "1 1\n",
      "(256, 512, 3)\n",
      "float32\n",
      "E:/Dataset/202101_withDinghu/temp/dataset/size256/v1/test/test2\\W1_223_446.png\n",
      "Done!\n",
      "open tif file succeed\n",
      "open tif file succeed\n",
      "1 1\n",
      "(256, 512, 3)\n",
      "float32\n",
      "E:/Dataset/202101_withDinghu/temp/dataset/size256/v1/test/test2\\W1_223_669.png\n"
     ]
    },
    {
     "name": "stderr",
     "output_type": "stream",
     "text": [
      "WARNING:root:Lossy conversion from float32 to uint8. Range [0.0, 255.0]. Convert image to uint8 prior to saving to suppress this warning.\n",
      "WARNING:root:Lossy conversion from float32 to uint8. Range [0.0, 255.0]. Convert image to uint8 prior to saving to suppress this warning.\n",
      "WARNING:root:Lossy conversion from float32 to uint8. Range [0.0, 243.0]. Convert image to uint8 prior to saving to suppress this warning.\n"
     ]
    },
    {
     "name": "stdout",
     "output_type": "stream",
     "text": [
      "Done!\n",
      "open tif file succeed\n",
      "open tif file succeed\n",
      "1 1\n",
      "(256, 512, 3)\n",
      "float32\n",
      "E:/Dataset/202101_withDinghu/temp/dataset/size256/v1/test/test2\\W1_223_892.png\n",
      "Done!\n",
      "open tif file succeed\n",
      "open tif file succeed\n",
      "1 1\n",
      "(256, 512, 3)\n",
      "float32\n",
      "E:/Dataset/202101_withDinghu/temp/dataset/size256/v1/test/test2\\W1_2453_0.png\n",
      "Done!\n",
      "open tif file succeed\n",
      "open tif file succeed\n",
      "1 1\n",
      "(256, 512, 3)\n",
      "float32\n",
      "E:/Dataset/202101_withDinghu/temp/dataset/size256/v1/test/test2\\W1_2453_1115.png\n"
     ]
    },
    {
     "name": "stderr",
     "output_type": "stream",
     "text": [
      "WARNING:root:Lossy conversion from float32 to uint8. Range [0.0, 236.0]. Convert image to uint8 prior to saving to suppress this warning.\n",
      "WARNING:root:Lossy conversion from float32 to uint8. Range [0.0, 255.0]. Convert image to uint8 prior to saving to suppress this warning.\n"
     ]
    },
    {
     "name": "stdout",
     "output_type": "stream",
     "text": [
      "Done!\n",
      "open tif file succeed\n",
      "open tif file succeed\n",
      "1 1\n",
      "(256, 512, 3)\n",
      "float32\n",
      "E:/Dataset/202101_withDinghu/temp/dataset/size256/v1/test/test2\\W1_2453_1338.png\n",
      "Done!\n",
      "open tif file succeed\n",
      "open tif file succeed\n",
      "1 1\n",
      "(256, 512, 3)\n",
      "float32\n",
      "E:/Dataset/202101_withDinghu/temp/dataset/size256/v1/test/test2\\W1_2453_1561.png\n"
     ]
    },
    {
     "name": "stderr",
     "output_type": "stream",
     "text": [
      "WARNING:root:Lossy conversion from float32 to uint8. Range [0.0, 255.0]. Convert image to uint8 prior to saving to suppress this warning.\n",
      "WARNING:root:Lossy conversion from float32 to uint8. Range [0.0, 255.0]. Convert image to uint8 prior to saving to suppress this warning.\n",
      "WARNING:root:Lossy conversion from float32 to uint8. Range [0.0, 255.0]. Convert image to uint8 prior to saving to suppress this warning.\n",
      "WARNING:root:Lossy conversion from float32 to uint8. Range [0.0, 255.0]. Convert image to uint8 prior to saving to suppress this warning.\n"
     ]
    },
    {
     "name": "stdout",
     "output_type": "stream",
     "text": [
      "Done!\n",
      "open tif file succeed\n",
      "open tif file succeed\n",
      "1 1\n",
      "(256, 512, 3)\n",
      "float32\n",
      "E:/Dataset/202101_withDinghu/temp/dataset/size256/v1/test/test2\\W1_2453_1784.png\n",
      "Done!\n",
      "open tif file succeed\n",
      "open tif file succeed\n",
      "1 1\n",
      "(256, 512, 3)\n",
      "float32\n",
      "E:/Dataset/202101_withDinghu/temp/dataset/size256/v1/test/test2\\W1_2453_2007.png\n",
      "Done!\n",
      "open tif file succeed\n",
      "open tif file succeed\n",
      "1 1\n",
      "(256, 512, 3)\n",
      "float32\n",
      "E:/Dataset/202101_withDinghu/temp/dataset/size256/v1/test/test2\\W1_2453_223.png\n",
      "Done!\n",
      "open tif file succeed\n",
      "open tif file succeed\n",
      "1 1\n",
      "(256, 512, 3)\n",
      "float32\n",
      "E:/Dataset/202101_withDinghu/temp/dataset/size256/v1/test/test2\\W1_2453_2230.png\n",
      "Done!\n",
      "open tif file succeed\n"
     ]
    },
    {
     "name": "stderr",
     "output_type": "stream",
     "text": [
      "WARNING:root:Lossy conversion from float32 to uint8. Range [0.0, 255.0]. Convert image to uint8 prior to saving to suppress this warning.\n",
      "WARNING:root:Lossy conversion from float32 to uint8. Range [0.0, 255.0]. Convert image to uint8 prior to saving to suppress this warning.\n",
      "WARNING:root:Lossy conversion from float32 to uint8. Range [0.0, 255.0]. Convert image to uint8 prior to saving to suppress this warning.\n",
      "WARNING:root:Lossy conversion from float32 to uint8. Range [0.0, 255.0]. Convert image to uint8 prior to saving to suppress this warning.\n",
      "WARNING:root:Lossy conversion from float32 to uint8. Range [0.0, 245.0]. Convert image to uint8 prior to saving to suppress this warning.\n"
     ]
    },
    {
     "name": "stdout",
     "output_type": "stream",
     "text": [
      "open tif file succeed\n",
      "1 1\n",
      "(256, 512, 3)\n",
      "float32\n",
      "E:/Dataset/202101_withDinghu/temp/dataset/size256/v1/test/test2\\W1_2453_2453.png\n",
      "Done!\n",
      "open tif file succeed\n",
      "open tif file succeed\n",
      "1 1\n",
      "(256, 512, 3)\n",
      "float32\n",
      "E:/Dataset/202101_withDinghu/temp/dataset/size256/v1/test/test2\\W1_2453_2676.png\n",
      "Done!\n",
      "open tif file succeed\n",
      "open tif file succeed\n",
      "1 1\n",
      "(256, 512, 3)\n",
      "float32\n",
      "E:/Dataset/202101_withDinghu/temp/dataset/size256/v1/test/test2\\W1_2453_2899.png\n",
      "Done!\n",
      "open tif file succeed\n",
      "open tif file succeed\n",
      "1 1\n",
      "(256, 512, 3)\n",
      "float32\n",
      "E:/Dataset/202101_withDinghu/temp/dataset/size256/v1/test/test2\\W1_2453_3122.png\n",
      "Done!\n",
      "open tif file succeed\n",
      "open tif file succeed\n",
      "1 1\n",
      "(256, 512, 3)\n",
      "float32\n",
      "E:/Dataset/202101_withDinghu/temp/dataset/size256/v1/test/test2\\W1_2453_446.png\n"
     ]
    },
    {
     "name": "stderr",
     "output_type": "stream",
     "text": [
      "WARNING:root:Lossy conversion from float32 to uint8. Range [0.0, 245.0]. Convert image to uint8 prior to saving to suppress this warning.\n",
      "WARNING:root:Lossy conversion from float32 to uint8. Range [0.0, 245.0]. Convert image to uint8 prior to saving to suppress this warning.\n"
     ]
    },
    {
     "name": "stdout",
     "output_type": "stream",
     "text": [
      "Done!\n",
      "open tif file succeed\n",
      "open tif file succeed\n",
      "1 1\n",
      "(256, 512, 3)\n",
      "float32\n",
      "E:/Dataset/202101_withDinghu/temp/dataset/size256/v1/test/test2\\W1_2453_669.png\n",
      "Done!\n",
      "open tif file succeed\n",
      "open tif file succeed\n",
      "1 1\n",
      "(256, 512, 3)\n",
      "float32\n",
      "E:/Dataset/202101_withDinghu/temp/dataset/size256/v1/test/test2\\W1_2453_892.png\n"
     ]
    },
    {
     "name": "stderr",
     "output_type": "stream",
     "text": [
      "WARNING:root:Lossy conversion from float32 to uint8. Range [0.0, 255.0]. Convert image to uint8 prior to saving to suppress this warning.\n",
      "WARNING:root:Lossy conversion from float32 to uint8. Range [0.0, 235.0]. Convert image to uint8 prior to saving to suppress this warning.\n",
      "WARNING:root:Lossy conversion from float32 to uint8. Range [0.0, 240.0]. Convert image to uint8 prior to saving to suppress this warning.\n"
     ]
    },
    {
     "name": "stdout",
     "output_type": "stream",
     "text": [
      "Done!\n",
      "open tif file succeed\n",
      "open tif file succeed\n",
      "1 1\n",
      "(256, 512, 3)\n",
      "float32\n",
      "E:/Dataset/202101_withDinghu/temp/dataset/size256/v1/test/test2\\W1_2676_0.png\n",
      "Done!\n",
      "open tif file succeed\n",
      "open tif file succeed\n",
      "1 1\n",
      "(256, 512, 3)\n",
      "float32\n",
      "E:/Dataset/202101_withDinghu/temp/dataset/size256/v1/test/test2\\W1_2676_1115.png\n",
      "Done!\n",
      "open tif file succeed\n",
      "open tif file succeed\n",
      "1 1\n",
      "(256, 512, 3)\n",
      "float32\n",
      "E:/Dataset/202101_withDinghu/temp/dataset/size256/v1/test/test2\\W1_2676_1338.png\n"
     ]
    },
    {
     "name": "stderr",
     "output_type": "stream",
     "text": [
      "WARNING:root:Lossy conversion from float32 to uint8. Range [0.0, 241.0]. Convert image to uint8 prior to saving to suppress this warning.\n",
      "WARNING:root:Lossy conversion from float32 to uint8. Range [0.0, 255.0]. Convert image to uint8 prior to saving to suppress this warning.\n"
     ]
    },
    {
     "name": "stdout",
     "output_type": "stream",
     "text": [
      "Done!\n",
      "open tif file succeed\n",
      "open tif file succeed\n",
      "1 1\n",
      "(256, 512, 3)\n",
      "float32\n",
      "E:/Dataset/202101_withDinghu/temp/dataset/size256/v1/test/test2\\W1_2676_1561.png\n",
      "Done!\n",
      "open tif file succeed\n",
      "open tif file succeed\n",
      "1 1\n",
      "(256, 512, 3)\n",
      "float32\n",
      "E:/Dataset/202101_withDinghu/temp/dataset/size256/v1/test/test2\\W1_2676_1784.png\n"
     ]
    },
    {
     "name": "stderr",
     "output_type": "stream",
     "text": [
      "WARNING:root:Lossy conversion from float32 to uint8. Range [0.0, 255.0]. Convert image to uint8 prior to saving to suppress this warning.\n",
      "WARNING:root:Lossy conversion from float32 to uint8. Range [0.0, 255.0]. Convert image to uint8 prior to saving to suppress this warning.\n",
      "WARNING:root:Lossy conversion from float32 to uint8. Range [0.0, 255.0]. Convert image to uint8 prior to saving to suppress this warning.\n",
      "WARNING:root:Lossy conversion from float32 to uint8. Range [0.0, 255.0]. Convert image to uint8 prior to saving to suppress this warning.\n",
      "WARNING:root:Lossy conversion from float32 to uint8. Range [0.0, 255.0]. Convert image to uint8 prior to saving to suppress this warning.\n",
      "WARNING:root:Lossy conversion from float32 to uint8. Range [0.0, 255.0]. Convert image to uint8 prior to saving to suppress this warning.\n"
     ]
    },
    {
     "name": "stdout",
     "output_type": "stream",
     "text": [
      "Done!\n",
      "open tif file succeed\n",
      "open tif file succeed\n",
      "1 1\n",
      "(256, 512, 3)\n",
      "float32\n",
      "E:/Dataset/202101_withDinghu/temp/dataset/size256/v1/test/test2\\W1_2676_2007.png\n",
      "Done!\n",
      "open tif file succeed\n",
      "open tif file succeed\n",
      "1 1\n",
      "(256, 512, 3)\n",
      "float32\n",
      "E:/Dataset/202101_withDinghu/temp/dataset/size256/v1/test/test2\\W1_2676_223.png\n",
      "Done!\n",
      "open tif file succeed\n",
      "open tif file succeed\n",
      "1 1\n",
      "(256, 512, 3)\n",
      "float32\n",
      "E:/Dataset/202101_withDinghu/temp/dataset/size256/v1/test/test2\\W1_2676_2230.png\n",
      "Done!\n",
      "open tif file succeed\n",
      "open tif file succeed\n",
      "1 1\n",
      "(256, 512, 3)\n",
      "float32\n",
      "E:/Dataset/202101_withDinghu/temp/dataset/size256/v1/test/test2\\W1_2676_2453.png\n",
      "Done!\n",
      "open tif file succeed\n",
      "open tif file succeed\n",
      "1 1\n",
      "(256, 512, 3)\n",
      "float32\n",
      "E:/Dataset/202101_withDinghu/temp/dataset/size256/v1/test/test2\\W1_2676_2676.png\n",
      "Done!\n",
      "open tif file succeed\n",
      "open tif file succeed\n",
      "1 1\n",
      "(256, 512, 3)\n",
      "float32\n",
      "E:/Dataset/202101_withDinghu/temp/dataset/size256/v1/test/test2\\W1_2676_2899.png\n",
      "Done!\n",
      "open tif file succeed\n"
     ]
    },
    {
     "name": "stderr",
     "output_type": "stream",
     "text": [
      "WARNING:root:Lossy conversion from float32 to uint8. Range [0.0, 255.0]. Convert image to uint8 prior to saving to suppress this warning.\n",
      "WARNING:root:Lossy conversion from float32 to uint8. Range [0.0, 255.0]. Convert image to uint8 prior to saving to suppress this warning.\n",
      "WARNING:root:Lossy conversion from float32 to uint8. Range [0.0, 255.0]. Convert image to uint8 prior to saving to suppress this warning.\n"
     ]
    },
    {
     "name": "stdout",
     "output_type": "stream",
     "text": [
      "open tif file succeed\n",
      "1 1\n",
      "(256, 512, 3)\n",
      "float32\n",
      "E:/Dataset/202101_withDinghu/temp/dataset/size256/v1/test/test2\\W1_2676_3122.png\n",
      "Done!\n",
      "open tif file succeed\n",
      "open tif file succeed\n",
      "1 1\n",
      "(256, 512, 3)\n",
      "float32\n",
      "E:/Dataset/202101_withDinghu/temp/dataset/size256/v1/test/test2\\W1_2676_446.png\n",
      "Done!\n",
      "open tif file succeed\n",
      "open tif file succeed\n",
      "1 1\n",
      "(256, 512, 3)\n",
      "float32\n",
      "E:/Dataset/202101_withDinghu/temp/dataset/size256/v1/test/test2\\W1_2676_669.png\n"
     ]
    },
    {
     "name": "stderr",
     "output_type": "stream",
     "text": [
      "WARNING:root:Lossy conversion from float32 to uint8. Range [0.0, 245.0]. Convert image to uint8 prior to saving to suppress this warning.\n",
      "WARNING:root:Lossy conversion from float32 to uint8. Range [0.0, 255.0]. Convert image to uint8 prior to saving to suppress this warning.\n",
      "WARNING:root:Lossy conversion from float32 to uint8. Range [0.0, 255.0]. Convert image to uint8 prior to saving to suppress this warning.\n"
     ]
    },
    {
     "name": "stdout",
     "output_type": "stream",
     "text": [
      "Done!\n",
      "open tif file succeed\n",
      "open tif file succeed\n",
      "1 1\n",
      "(256, 512, 3)\n",
      "float32\n",
      "E:/Dataset/202101_withDinghu/temp/dataset/size256/v1/test/test2\\W1_2676_892.png\n",
      "Done!\n",
      "open tif file succeed\n",
      "open tif file succeed\n",
      "1 1\n",
      "(256, 512, 3)\n",
      "float32\n",
      "E:/Dataset/202101_withDinghu/temp/dataset/size256/v1/test/test2\\W1_2899_0.png\n",
      "Done!\n",
      "open tif file succeed\n",
      "open tif file succeed\n",
      "1 1\n",
      "(256, 512, 3)\n",
      "float32\n",
      "E:/Dataset/202101_withDinghu/temp/dataset/size256/v1/test/test2\\W1_2899_1115.png\n"
     ]
    },
    {
     "name": "stderr",
     "output_type": "stream",
     "text": [
      "WARNING:root:Lossy conversion from float32 to uint8. Range [0.0, 247.0]. Convert image to uint8 prior to saving to suppress this warning.\n",
      "WARNING:root:Lossy conversion from float32 to uint8. Range [0.0, 246.0]. Convert image to uint8 prior to saving to suppress this warning.\n"
     ]
    },
    {
     "name": "stdout",
     "output_type": "stream",
     "text": [
      "Done!\n",
      "open tif file succeed\n",
      "open tif file succeed\n",
      "1 1\n",
      "(256, 512, 3)\n",
      "float32\n",
      "E:/Dataset/202101_withDinghu/temp/dataset/size256/v1/test/test2\\W1_2899_1338.png\n",
      "Done!\n",
      "open tif file succeed\n",
      "open tif file succeed\n",
      "1 1\n",
      "(256, 512, 3)\n",
      "float32\n",
      "E:/Dataset/202101_withDinghu/temp/dataset/size256/v1/test/test2\\W1_2899_1561.png\n"
     ]
    },
    {
     "name": "stderr",
     "output_type": "stream",
     "text": [
      "WARNING:root:Lossy conversion from float32 to uint8. Range [0.0, 255.0]. Convert image to uint8 prior to saving to suppress this warning.\n",
      "WARNING:root:Lossy conversion from float32 to uint8. Range [0.0, 255.0]. Convert image to uint8 prior to saving to suppress this warning.\n",
      "WARNING:root:Lossy conversion from float32 to uint8. Range [0.0, 255.0]. Convert image to uint8 prior to saving to suppress this warning.\n"
     ]
    },
    {
     "name": "stdout",
     "output_type": "stream",
     "text": [
      "Done!\n",
      "open tif file succeed\n",
      "open tif file succeed\n",
      "1 1\n",
      "(256, 512, 3)\n",
      "float32\n",
      "E:/Dataset/202101_withDinghu/temp/dataset/size256/v1/test/test2\\W1_2899_1784.png\n",
      "Done!\n",
      "open tif file succeed\n",
      "open tif file succeed\n",
      "1 1\n",
      "(256, 512, 3)\n",
      "float32\n",
      "E:/Dataset/202101_withDinghu/temp/dataset/size256/v1/test/test2\\W1_2899_2007.png\n",
      "Done!\n",
      "open tif file succeed\n",
      "open tif file succeed\n",
      "1 1\n",
      "(256, 512, 3)\n",
      "float32\n",
      "E:/Dataset/202101_withDinghu/temp/dataset/size256/v1/test/test2\\W1_2899_223.png\n"
     ]
    },
    {
     "name": "stderr",
     "output_type": "stream",
     "text": [
      "WARNING:root:Lossy conversion from float32 to uint8. Range [0.0, 255.0]. Convert image to uint8 prior to saving to suppress this warning.\n",
      "WARNING:root:Lossy conversion from float32 to uint8. Range [0.0, 255.0]. Convert image to uint8 prior to saving to suppress this warning.\n",
      "WARNING:root:Lossy conversion from float32 to uint8. Range [0.0, 255.0]. Convert image to uint8 prior to saving to suppress this warning.\n",
      "WARNING:root:Lossy conversion from float32 to uint8. Range [0.0, 255.0]. Convert image to uint8 prior to saving to suppress this warning.\n",
      "WARNING:root:Lossy conversion from float32 to uint8. Range [0.0, 255.0]. Convert image to uint8 prior to saving to suppress this warning.\n",
      "WARNING:root:Lossy conversion from float32 to uint8. Range [0.0, 255.0]. Convert image to uint8 prior to saving to suppress this warning.\n",
      "WARNING:root:Lossy conversion from float32 to uint8. Range [0.0, 255.0]. Convert image to uint8 prior to saving to suppress this warning.\n"
     ]
    },
    {
     "name": "stdout",
     "output_type": "stream",
     "text": [
      "Done!\n",
      "open tif file succeed\n",
      "open tif file succeed\n",
      "1 1\n",
      "(256, 512, 3)\n",
      "float32\n",
      "E:/Dataset/202101_withDinghu/temp/dataset/size256/v1/test/test2\\W1_2899_2230.png\n",
      "Done!\n",
      "open tif file succeed\n",
      "open tif file succeed\n",
      "1 1\n",
      "(256, 512, 3)\n",
      "float32\n",
      "E:/Dataset/202101_withDinghu/temp/dataset/size256/v1/test/test2\\W1_2899_2453.png\n",
      "Done!\n",
      "open tif file succeed\n",
      "open tif file succeed\n",
      "1 1\n",
      "(256, 512, 3)\n",
      "float32\n",
      "E:/Dataset/202101_withDinghu/temp/dataset/size256/v1/test/test2\\W1_2899_2676.png\n",
      "Done!\n",
      "open tif file succeed\n",
      "open tif file succeed\n",
      "1 1\n",
      "(256, 512, 3)\n",
      "float32\n",
      "E:/Dataset/202101_withDinghu/temp/dataset/size256/v1/test/test2\\W1_2899_2899.png\n",
      "Done!\n",
      "open tif file succeed\n",
      "open tif file succeed\n",
      "1 1\n",
      "(256, 512, 3)\n",
      "float32\n",
      "E:/Dataset/202101_withDinghu/temp/dataset/size256/v1/test/test2\\W1_2899_3122.png\n",
      "Done!\n",
      "open tif file succeed\n",
      "open tif file succeed\n",
      "1 1\n",
      "(256, 512, 3)\n",
      "float32\n",
      "E:/Dataset/202101_withDinghu/temp/dataset/size256/v1/test/test2\\W1_2899_446.png\n",
      "Done!\n",
      "open tif file succeed\n",
      "open tif file succeed\n",
      "1 1\n",
      "(256, 512, 3)\n",
      "float32\n",
      "E:/Dataset/202101_withDinghu/temp/dataset/size256/v1/test/test2\\W1_2899_669.png\n"
     ]
    },
    {
     "name": "stderr",
     "output_type": "stream",
     "text": [
      "WARNING:root:Lossy conversion from float32 to uint8. Range [0.0, 255.0]. Convert image to uint8 prior to saving to suppress this warning.\n",
      "WARNING:root:Lossy conversion from float32 to uint8. Range [0.0, 255.0]. Convert image to uint8 prior to saving to suppress this warning.\n",
      "WARNING:root:Lossy conversion from float32 to uint8. Range [0.0, 255.0]. Convert image to uint8 prior to saving to suppress this warning.\n",
      "WARNING:root:Lossy conversion from float32 to uint8. Range [0.0, 255.0]. Convert image to uint8 prior to saving to suppress this warning.\n"
     ]
    },
    {
     "name": "stdout",
     "output_type": "stream",
     "text": [
      "Done!\n",
      "open tif file succeed\n",
      "open tif file succeed\n",
      "1 1\n",
      "(256, 512, 3)\n",
      "float32\n",
      "E:/Dataset/202101_withDinghu/temp/dataset/size256/v1/test/test2\\W1_2899_892.png\n",
      "Done!\n",
      "open tif file succeed\n",
      "open tif file succeed\n",
      "1 1\n",
      "(256, 512, 3)\n",
      "float32\n",
      "E:/Dataset/202101_withDinghu/temp/dataset/size256/v1/test/test2\\W1_446_0.png\n",
      "Done!\n",
      "open tif file succeed\n",
      "open tif file succeed\n",
      "1 1\n",
      "(256, 512, 3)\n",
      "float32\n",
      "E:/Dataset/202101_withDinghu/temp/dataset/size256/v1/test/test2\\W1_446_1115.png\n",
      "Done!\n",
      "open tif file succeed\n",
      "open tif file succeed\n",
      "1 1\n",
      "(256, 512, 3)\n",
      "float32\n",
      "E:/Dataset/202101_withDinghu/temp/dataset/size256/v1/test/test2\\W1_446_1338.png\n",
      "Done!\n",
      "open tif file succeed\n"
     ]
    },
    {
     "name": "stderr",
     "output_type": "stream",
     "text": [
      "WARNING:root:Lossy conversion from float32 to uint8. Range [0.0, 255.0]. Convert image to uint8 prior to saving to suppress this warning.\n",
      "WARNING:root:Lossy conversion from float32 to uint8. Range [0.0, 255.0]. Convert image to uint8 prior to saving to suppress this warning.\n",
      "WARNING:root:Lossy conversion from float32 to uint8. Range [0.0, 255.0]. Convert image to uint8 prior to saving to suppress this warning.\n",
      "WARNING:root:Lossy conversion from float32 to uint8. Range [0.0, 255.0]. Convert image to uint8 prior to saving to suppress this warning.\n",
      "WARNING:root:Lossy conversion from float32 to uint8. Range [0.0, 255.0]. Convert image to uint8 prior to saving to suppress this warning.\n",
      "WARNING:root:Lossy conversion from float32 to uint8. Range [0.0, 255.0]. Convert image to uint8 prior to saving to suppress this warning.\n",
      "WARNING:root:Lossy conversion from float32 to uint8. Range [0.0, 255.0]. Convert image to uint8 prior to saving to suppress this warning.\n"
     ]
    },
    {
     "name": "stdout",
     "output_type": "stream",
     "text": [
      "open tif file succeed\n",
      "1 1\n",
      "(256, 512, 3)\n",
      "float32\n",
      "E:/Dataset/202101_withDinghu/temp/dataset/size256/v1/test/test2\\W1_446_1561.png\n",
      "Done!\n",
      "open tif file succeed\n",
      "open tif file succeed\n",
      "1 1\n",
      "(256, 512, 3)\n",
      "float32\n",
      "E:/Dataset/202101_withDinghu/temp/dataset/size256/v1/test/test2\\W1_446_1784.png\n",
      "Done!\n",
      "open tif file succeed\n",
      "open tif file succeed\n",
      "1 1\n",
      "(256, 512, 3)\n",
      "float32\n",
      "E:/Dataset/202101_withDinghu/temp/dataset/size256/v1/test/test2\\W1_446_2007.png\n",
      "Done!\n",
      "open tif file succeed\n",
      "open tif file succeed\n",
      "1 1\n",
      "(256, 512, 3)\n",
      "float32\n",
      "E:/Dataset/202101_withDinghu/temp/dataset/size256/v1/test/test2\\W1_446_223.png\n",
      "Done!\n",
      "open tif file succeed\n",
      "open tif file succeed\n",
      "1 1\n",
      "(256, 512, 3)\n",
      "float32\n",
      "E:/Dataset/202101_withDinghu/temp/dataset/size256/v1/test/test2\\W1_446_2230.png\n",
      "Done!\n",
      "open tif file succeed\n",
      "open tif file succeed\n",
      "1 1\n",
      "(256, 512, 3)\n",
      "float32\n",
      "E:/Dataset/202101_withDinghu/temp/dataset/size256/v1/test/test2\\W1_446_2453.png\n",
      "Done!\n",
      "open tif file succeed\n",
      "open tif file succeed\n",
      "1 1\n",
      "(256, 512, 3)\n",
      "float32\n",
      "E:/Dataset/202101_withDinghu/temp/dataset/size256/v1/test/test2\\W1_446_2676.png\n",
      "Done!\n",
      "open tif file succeed\n",
      "open tif file succeed\n",
      "1"
     ]
    },
    {
     "name": "stderr",
     "output_type": "stream",
     "text": [
      "WARNING:root:Lossy conversion from float32 to uint8. Range [0.0, 255.0]. Convert image to uint8 prior to saving to suppress this warning.\n",
      "WARNING:root:Lossy conversion from float32 to uint8. Range [0.0, 255.0]. Convert image to uint8 prior to saving to suppress this warning.\n",
      "WARNING:root:Lossy conversion from float32 to uint8. Range [0.0, 255.0]. Convert image to uint8 prior to saving to suppress this warning.\n",
      "WARNING:root:Lossy conversion from float32 to uint8. Range [0.0, 224.0]. Convert image to uint8 prior to saving to suppress this warning.\n"
     ]
    },
    {
     "name": "stdout",
     "output_type": "stream",
     "text": [
      " 1\n",
      "(256, 512, 3)\n",
      "float32\n",
      "E:/Dataset/202101_withDinghu/temp/dataset/size256/v1/test/test2\\W1_446_2899.png\n",
      "Done!\n",
      "open tif file succeed\n",
      "open tif file succeed\n",
      "1 1\n",
      "(256, 512, 3)\n",
      "float32\n",
      "E:/Dataset/202101_withDinghu/temp/dataset/size256/v1/test/test2\\W1_446_3122.png\n",
      "Done!\n",
      "open tif file succeed\n",
      "open tif file succeed\n",
      "1 1\n",
      "(256, 512, 3)\n",
      "float32\n",
      "E:/Dataset/202101_withDinghu/temp/dataset/size256/v1/test/test2\\W1_446_446.png\n",
      "Done!\n",
      "open tif file succeed\n",
      "open tif file succeed\n",
      "1 1\n",
      "(256, 512, 3)\n",
      "float32\n",
      "E:/Dataset/202101_withDinghu/temp/dataset/size256/v1/test/test2\\W1_446_669.png\n"
     ]
    },
    {
     "name": "stderr",
     "output_type": "stream",
     "text": [
      "WARNING:root:Lossy conversion from float32 to uint8. Range [0.0, 255.0]. Convert image to uint8 prior to saving to suppress this warning.\n",
      "WARNING:root:Lossy conversion from float32 to uint8. Range [0.0, 255.0]. Convert image to uint8 prior to saving to suppress this warning.\n",
      "WARNING:root:Lossy conversion from float32 to uint8. Range [0.0, 255.0]. Convert image to uint8 prior to saving to suppress this warning.\n"
     ]
    },
    {
     "name": "stdout",
     "output_type": "stream",
     "text": [
      "Done!\n",
      "open tif file succeed\n",
      "open tif file succeed\n",
      "1 1\n",
      "(256, 512, 3)\n",
      "float32\n",
      "E:/Dataset/202101_withDinghu/temp/dataset/size256/v1/test/test2\\W1_446_892.png\n",
      "Done!\n",
      "open tif file succeed\n",
      "open tif file succeed\n",
      "1 1\n",
      "(256, 512, 3)\n",
      "float32\n",
      "E:/Dataset/202101_withDinghu/temp/dataset/size256/v1/test/test2\\W1_669_0.png\n",
      "Done!\n",
      "open tif file succeed\n",
      "open tif file succeed\n",
      "1 1\n",
      "(256, 512, 3)\n",
      "float32\n",
      "E:/Dataset/202101_withDinghu/temp/dataset/size256/v1/test/test2\\W1_669_1115.png\n"
     ]
    },
    {
     "name": "stderr",
     "output_type": "stream",
     "text": [
      "WARNING:root:Lossy conversion from float32 to uint8. Range [0.0, 255.0]. Convert image to uint8 prior to saving to suppress this warning.\n",
      "WARNING:root:Lossy conversion from float32 to uint8. Range [0.0, 255.0]. Convert image to uint8 prior to saving to suppress this warning.\n",
      "WARNING:root:Lossy conversion from float32 to uint8. Range [0.0, 255.0]. Convert image to uint8 prior to saving to suppress this warning.\n",
      "WARNING:root:Lossy conversion from float32 to uint8. Range [0.0, 255.0]. Convert image to uint8 prior to saving to suppress this warning.\n",
      "WARNING:root:Lossy conversion from float32 to uint8. Range [0.0, 255.0]. Convert image to uint8 prior to saving to suppress this warning.\n"
     ]
    },
    {
     "name": "stdout",
     "output_type": "stream",
     "text": [
      "Done!\n",
      "open tif file succeed\n",
      "open tif file succeed\n",
      "1 1\n",
      "(256, 512, 3)\n",
      "float32\n",
      "E:/Dataset/202101_withDinghu/temp/dataset/size256/v1/test/test2\\W1_669_1338.png\n",
      "Done!\n",
      "open tif file succeed\n",
      "open tif file succeed\n",
      "1 1\n",
      "(256, 512, 3)\n",
      "float32\n",
      "E:/Dataset/202101_withDinghu/temp/dataset/size256/v1/test/test2\\W1_669_1561.png\n",
      "Done!\n",
      "open tif file succeed\n",
      "open tif file succeed\n",
      "1 1\n",
      "(256, 512, 3)\n",
      "float32\n",
      "E:/Dataset/202101_withDinghu/temp/dataset/size256/v1/test/test2\\W1_669_1784.png\n",
      "Done!\n",
      "open tif file succeed\n",
      "open tif file succeed\n",
      "1 1\n",
      "(256, 512, 3)\n",
      "float32\n",
      "E:/Dataset/202101_withDinghu/temp/dataset/size256/v1/test/test2\\W1_669_2007.png\n",
      "Done!\n",
      "open tif file succeed\n",
      "open tif file succeed\n",
      "1 1\n",
      "(256, 512, 3)\n",
      "float32\n",
      "E:/Dataset/202101_withDinghu/temp/dataset/size256/v1/test/test2\\W1_669_223.png\n",
      "Done!\n",
      "open tif file succeed\n"
     ]
    },
    {
     "name": "stderr",
     "output_type": "stream",
     "text": [
      "WARNING:root:Lossy conversion from float32 to uint8. Range [0.0, 255.0]. Convert image to uint8 prior to saving to suppress this warning.\n",
      "WARNING:root:Lossy conversion from float32 to uint8. Range [0.0, 255.0]. Convert image to uint8 prior to saving to suppress this warning.\n",
      "WARNING:root:Lossy conversion from float32 to uint8. Range [0.0, 255.0]. Convert image to uint8 prior to saving to suppress this warning.\n",
      "WARNING:root:Lossy conversion from float32 to uint8. Range [0.0, 255.0]. Convert image to uint8 prior to saving to suppress this warning.\n",
      "WARNING:root:Lossy conversion from float32 to uint8. Range [0.0, 255.0]. Convert image to uint8 prior to saving to suppress this warning.\n",
      "WARNING:root:Lossy conversion from float32 to uint8. Range [0.0, 255.0]. Convert image to uint8 prior to saving to suppress this warning.\n"
     ]
    },
    {
     "name": "stdout",
     "output_type": "stream",
     "text": [
      "open tif file succeed\n",
      "1 1\n",
      "(256, 512, 3)\n",
      "float32\n",
      "E:/Dataset/202101_withDinghu/temp/dataset/size256/v1/test/test2\\W1_669_2230.png\n",
      "Done!\n",
      "open tif file succeed\n",
      "open tif file succeed\n",
      "1 1\n",
      "(256, 512, 3)\n",
      "float32\n",
      "E:/Dataset/202101_withDinghu/temp/dataset/size256/v1/test/test2\\W1_669_2453.png\n",
      "Done!\n",
      "open tif file succeed\n",
      "open tif file succeed\n",
      "1 1\n",
      "(256, 512, 3)\n",
      "float32\n",
      "E:/Dataset/202101_withDinghu/temp/dataset/size256/v1/test/test2\\W1_669_2676.png\n",
      "Done!\n",
      "open tif file succeed\n",
      "open tif file succeed\n",
      "1 1\n",
      "(256, 512, 3)\n",
      "float32\n",
      "E:/Dataset/202101_withDinghu/temp/dataset/size256/v1/test/test2\\W1_669_2899.png\n",
      "Done!\n",
      "open tif file succeed\n",
      "open tif file succeed\n",
      "1 1\n",
      "(256, 512, 3)\n",
      "float32\n",
      "E:/Dataset/202101_withDinghu/temp/dataset/size256/v1/test/test2\\W1_669_3122.png\n",
      "Done!\n",
      "open tif file succeed\n",
      "open tif file succeed\n",
      "1 1\n",
      "(256, 512, 3)\n",
      "float32\n",
      "E:/Dataset/202101_withDinghu/temp/dataset/size256/v1/test/test2\\W1_669_446.png\n"
     ]
    },
    {
     "name": "stderr",
     "output_type": "stream",
     "text": [
      "WARNING:root:Lossy conversion from float32 to uint8. Range [0.0, 230.0]. Convert image to uint8 prior to saving to suppress this warning.\n",
      "WARNING:root:Lossy conversion from float32 to uint8. Range [0.0, 222.0]. Convert image to uint8 prior to saving to suppress this warning.\n"
     ]
    },
    {
     "name": "stdout",
     "output_type": "stream",
     "text": [
      "Done!\n",
      "open tif file succeed\n",
      "open tif file succeed\n",
      "1 1\n",
      "(256, 512, 3)\n",
      "float32\n",
      "E:/Dataset/202101_withDinghu/temp/dataset/size256/v1/test/test2\\W1_669_669.png\n",
      "Done!\n",
      "open tif file succeed\n",
      "open tif file succeed\n",
      "1 1\n",
      "(256, 512, 3)\n",
      "float32\n",
      "E:/Dataset/202101_withDinghu/temp/dataset/size256/v1/test/test2\\W1_669_892.png\n"
     ]
    },
    {
     "name": "stderr",
     "output_type": "stream",
     "text": [
      "WARNING:root:Lossy conversion from float32 to uint8. Range [0.0, 255.0]. Convert image to uint8 prior to saving to suppress this warning.\n",
      "WARNING:root:Lossy conversion from float32 to uint8. Range [0.0, 232.0]. Convert image to uint8 prior to saving to suppress this warning.\n",
      "WARNING:root:Lossy conversion from float32 to uint8. Range [0.0, 255.0]. Convert image to uint8 prior to saving to suppress this warning.\n"
     ]
    },
    {
     "name": "stdout",
     "output_type": "stream",
     "text": [
      "Done!\n",
      "open tif file succeed\n",
      "open tif file succeed\n",
      "1 1\n",
      "(256, 512, 3)\n",
      "float32\n",
      "E:/Dataset/202101_withDinghu/temp/dataset/size256/v1/test/test2\\W1_892_0.png\n",
      "Done!\n",
      "open tif file succeed\n",
      "open tif file succeed\n",
      "1 1\n",
      "(256, 512, 3)\n",
      "float32\n",
      "E:/Dataset/202101_withDinghu/temp/dataset/size256/v1/test/test2\\W1_892_1115.png\n",
      "Done!\n",
      "open tif file succeed\n",
      "open tif file succeed\n",
      "1 1\n",
      "(256, 512, 3)\n",
      "float32\n",
      "E:/Dataset/202101_withDinghu/temp/dataset/size256/v1/test/test2\\W1_892_1338.png\n"
     ]
    },
    {
     "name": "stderr",
     "output_type": "stream",
     "text": [
      "WARNING:root:Lossy conversion from float32 to uint8. Range [0.0, 255.0]. Convert image to uint8 prior to saving to suppress this warning.\n",
      "WARNING:root:Lossy conversion from float32 to uint8. Range [0.0, 255.0]. Convert image to uint8 prior to saving to suppress this warning.\n",
      "WARNING:root:Lossy conversion from float32 to uint8. Range [0.0, 255.0]. Convert image to uint8 prior to saving to suppress this warning.\n",
      "WARNING:root:Lossy conversion from float32 to uint8. Range [0.0, 255.0]. Convert image to uint8 prior to saving to suppress this warning.\n"
     ]
    },
    {
     "name": "stdout",
     "output_type": "stream",
     "text": [
      "Done!\n",
      "open tif file succeed\n",
      "open tif file succeed\n",
      "1 1\n",
      "(256, 512, 3)\n",
      "float32\n",
      "E:/Dataset/202101_withDinghu/temp/dataset/size256/v1/test/test2\\W1_892_1561.png\n",
      "Done!\n",
      "open tif file succeed\n",
      "open tif file succeed\n",
      "1 1\n",
      "(256, 512, 3)\n",
      "float32\n",
      "E:/Dataset/202101_withDinghu/temp/dataset/size256/v1/test/test2\\W1_892_1784.png\n",
      "Done!\n",
      "open tif file succeed\n",
      "open tif file succeed\n",
      "1 1\n",
      "(256, 512, 3)\n",
      "float32\n",
      "E:/Dataset/202101_withDinghu/temp/dataset/size256/v1/test/test2\\W1_892_2007.png\n",
      "Done!\n",
      "open tif file succeed\n",
      "open tif file succeed\n",
      "1 1\n",
      "(256, 512, 3)\n",
      "float32\n",
      "E:/Dataset/202101_withDinghu/temp/dataset/size256/v1/test/test2\\W1_892_223.png\n",
      "Done!\n",
      "open tif file succeed\n"
     ]
    },
    {
     "name": "stderr",
     "output_type": "stream",
     "text": [
      "WARNING:root:Lossy conversion from float32 to uint8. Range [0.0, 255.0]. Convert image to uint8 prior to saving to suppress this warning.\n",
      "WARNING:root:Lossy conversion from float32 to uint8. Range [0.0, 255.0]. Convert image to uint8 prior to saving to suppress this warning.\n",
      "WARNING:root:Lossy conversion from float32 to uint8. Range [0.0, 255.0]. Convert image to uint8 prior to saving to suppress this warning.\n",
      "WARNING:root:Lossy conversion from float32 to uint8. Range [0.0, 255.0]. Convert image to uint8 prior to saving to suppress this warning.\n",
      "WARNING:root:Lossy conversion from float32 to uint8. Range [0.0, 255.0]. Convert image to uint8 prior to saving to suppress this warning.\n",
      "WARNING:root:Lossy conversion from float32 to uint8. Range [0.0, 228.0]. Convert image to uint8 prior to saving to suppress this warning.\n"
     ]
    },
    {
     "name": "stdout",
     "output_type": "stream",
     "text": [
      "open tif file succeed\n",
      "1 1\n",
      "(256, 512, 3)\n",
      "float32\n",
      "E:/Dataset/202101_withDinghu/temp/dataset/size256/v1/test/test2\\W1_892_2230.png\n",
      "Done!\n",
      "open tif file succeed\n",
      "open tif file succeed\n",
      "1 1\n",
      "(256, 512, 3)\n",
      "float32\n",
      "E:/Dataset/202101_withDinghu/temp/dataset/size256/v1/test/test2\\W1_892_2453.png\n",
      "Done!\n",
      "open tif file succeed\n",
      "open tif file succeed\n",
      "1 1\n",
      "(256, 512, 3)\n",
      "float32\n",
      "E:/Dataset/202101_withDinghu/temp/dataset/size256/v1/test/test2\\W1_892_2676.png\n",
      "Done!\n",
      "open tif file succeed\n",
      "open tif file succeed\n",
      "1 1\n",
      "(256, 512, 3)\n",
      "float32\n",
      "E:/Dataset/202101_withDinghu/temp/dataset/size256/v1/test/test2\\W1_892_2899.png\n",
      "Done!\n",
      "open tif file succeed\n",
      "open tif file succeed\n",
      "1 1\n",
      "(256, 512, 3)\n",
      "float32\n",
      "E:/Dataset/202101_withDinghu/temp/dataset/size256/v1/test/test2\\W1_892_3122.png\n",
      "Done!\n",
      "open tif file succeed\n",
      "open tif file succeed\n",
      "1 1\n",
      "(256, 512, 3)\n",
      "float32\n",
      "E:/Dataset/202101_withDinghu/temp/dataset/size256/v1/test/test2\\W1_892_446.png\n"
     ]
    },
    {
     "name": "stderr",
     "output_type": "stream",
     "text": [
      "WARNING:root:Lossy conversion from float32 to uint8. Range [0.0, 230.0]. Convert image to uint8 prior to saving to suppress this warning.\n",
      "WARNING:root:Lossy conversion from float32 to uint8. Range [0.0, 224.0]. Convert image to uint8 prior to saving to suppress this warning.\n"
     ]
    },
    {
     "name": "stdout",
     "output_type": "stream",
     "text": [
      "Done!\n",
      "open tif file succeed\n",
      "open tif file succeed\n",
      "1 1\n",
      "(256, 512, 3)\n",
      "float32\n",
      "E:/Dataset/202101_withDinghu/temp/dataset/size256/v1/test/test2\\W1_892_669.png\n",
      "Done!\n",
      "open tif file succeed\n",
      "open tif file succeed\n",
      "1 1\n",
      "(256, 512, 3)\n",
      "float32\n",
      "E:/Dataset/202101_withDinghu/temp/dataset/size256/v1/test/test2\\W1_892_892.png\n",
      "Done!\n"
     ]
    }
   ],
   "source": [
    "sample1Path = \"E:/Dataset/202101_withDinghu/temp/dataset/size256/v1/test/dem_crop\"\n",
    "sample2Path = \"E:/Dataset/202101_withDinghu/temp/dataset/size256/v1/test/slope_crop\"\n",
    "savePath = \"E:/Dataset/202101_withDinghu/temp/dataset/size256/v1/test/test2\"\n",
    "os.makedirs(savePath, exist_ok=True)\n",
    "\n",
    "# 遍历文件夹\n",
    "from_names = glob.glob(os.path.join(sample1Path, \"*.tif\"))\n",
    "for i in range(len(from_names)):\n",
    "    basename = os.path.basename(from_names[i])\n",
    "    \n",
    "    file1Path = os.path.join(sample1Path, basename)\n",
    "    # oriPara=[band, datatype, geoTrans, geoPro]\n",
    "    input1Data, oriPara = readtiff2array(file1Path)\n",
    "    \n",
    "    file2Path = os.path.join(sample2Path, basename)\n",
    "    # oriPara=[band, datatype, geoTrans, geoPro]\n",
    "    input2Data, oriPara = readtiff2array(file2Path)\n",
    "    \n",
    "    concate_samples(input1Data, input2Data, savePath, basename)"
   ]
  },
  {
   "cell_type": "code",
   "execution_count": null,
   "metadata": {},
   "outputs": [],
   "source": []
  }
 ],
 "metadata": {
  "kernelspec": {
   "display_name": "Python 3",
   "language": "python",
   "name": "python3"
  },
  "language_info": {
   "codemirror_mode": {
    "name": "ipython",
    "version": 3
   },
   "file_extension": ".py",
   "mimetype": "text/x-python",
   "name": "python",
   "nbconvert_exporter": "python",
   "pygments_lexer": "ipython3",
   "version": "3.6.5"
  }
 },
 "nbformat": 4,
 "nbformat_minor": 2
}
=======
{
 "cells": [
  {
   "cell_type": "code",
   "execution_count": null,
   "metadata": {},
   "outputs": [],
   "source": [
    "# 需要修改的代码包括\n",
    "# 1 读写 裁剪TIFF （完成）\n",
    "# 2 随机移动 （完成）\n",
    "# 3 制作pix2pix样本（水平连接两个基本类型样本）（未完成）"
   ]
  },
  {
   "cell_type": "markdown",
   "metadata": {},
   "source": [
    "# Read, Clip, and Write GeoTIFF\n",
    "## file path = E:\\Backup\\CodeBackup\\1AboutCNN\\1preprocess\\General\\1TiffReadClipWrite.py"
   ]
  },
  {
   "cell_type": "code",
   "execution_count": 26,
   "metadata": {},
   "outputs": [],
   "source": [
    "import numpy as np\n",
    "import gdal\n",
    "import os\n",
    "import imageio\n",
    "import glob\n",
    "\n",
    "'''\n",
    "readtiff2array: read tif file and output an numpy array\n",
    "calculateTransform: calculating 'geotrans' affine transformation \n",
    "clipgeotiff_topatch: clip the complete data to small patches. (nonrandom)\n",
    "'''\n",
    "\n",
    "def readtiff2array(oriPath):\n",
    "    \n",
    "    in_ds = gdal.Open(oriPath)\n",
    "    print(\"open tif file succeed\")\n",
    "    \n",
    "    #读取原图中的每个波段\n",
    "    row=in_ds.RasterYSize  #行\n",
    "    col=in_ds.RasterXSize  #列\n",
    "    band=in_ds.RasterCount#波段    \n",
    "    geoTrans = in_ds.GetGeoTransform()\n",
    "    geoPro = in_ds.GetProjection()\n",
    "\n",
    "    # specific datatype\n",
    "#     datatype = np.int8  # gdal.GDT_UInt16;\n",
    "#     data = np.zeros([row, col, band], datatype)  # 建立数组保存读取的tiff\n",
    "    # output datatype = input datatype (常用于裁剪DEM uint16）\n",
    "    datatype_index = in_ds.GetRasterBand(1).DataType\n",
    "    datatype = gdal.GetDataTypeName(datatype_index)\n",
    "    data=np.zeros([row,col,band],datatype)#建立数组保存读取的tiff\n",
    "\n",
    "    for i in range(band):\n",
    "        dt=in_ds.GetRasterBand(i+1)\n",
    "        #从每个波段中裁剪需要的矩形框内的数据\n",
    "        data[:,:,i]=dt.ReadAsArray(0,0,col,row)\n",
    "        \n",
    "    del in_ds\n",
    "        \n",
    "    return data, [band, datatype, geoTrans, geoPro]\n",
    "    # data shape = HWC\n",
    "'''\n",
    "16bit to 8bit\n",
    "'''\n",
    "def transfer_16bit_to_8bit(data):\n",
    "    # 将16bit转化为8bit\n",
    "    # 可用于dem裁剪\n",
    "    min_16bit = np.min(data)\n",
    "    max_16bit = np.max(data)\n",
    "\n",
    "    data_8bit = np.array(np.rint(255 * ((data - min_16bit) / (max_16bit - min_16bit))), dtype=np.uint8)\n",
    "    return data_8bit\n",
    "'''\n",
    "仿射变换\n",
    "'''\n",
    "def calculateTransform(ori_transform, offsetX, offsetY):\n",
    "    # 读取原图仿射变换参数值\n",
    "    top_left_x = ori_transform[0]  # 左上角x坐标\n",
    "    w_e_pixel_resolution = ori_transform[1]  # 东西方向像素分辨率\n",
    "    top_left_y = ori_transform[3]  # 左上角y坐标\n",
    "    n_s_pixel_resolution = ori_transform[5]  # 南北方向像素分辨率\n",
    "\n",
    "    # 根据反射变换参数计算新图的原点坐标\n",
    "    top_left_x = top_left_x + offsetX * w_e_pixel_resolution\n",
    "    top_left_y = top_left_y + offsetY * n_s_pixel_resolution\n",
    "\n",
    "    # 将计算后的值组装为一个元组，以方便设置\n",
    "    dst_transform = (top_left_x, ori_transform[1], ori_transform[2], top_left_y, ori_transform[4], ori_transform[5])\n",
    "\n",
    "    return dst_transform\n",
    "'''\n",
    "裁剪主函数 调用topatch\n",
    "typeName & index: 输入数据编号\n",
    "'''\n",
    "def clipgeotiff(inputPath, savePath, patchSize, patchIntersection, startCol, startRow, typeName, index, To8bit=False):\n",
    "    os.makedirs(savePath, exist_ok=True)\n",
    "    # 遍历文件夹\n",
    "    from_names = glob.glob(os.path.join(inputPath, \"*.tif\"))\n",
    "\n",
    "    # 左上角坐标移动步长\n",
    "    stride = patchSize - int((patchSize - patchIntersection) / 2)\n",
    "\n",
    "    for i in range(len(from_names)):\n",
    "        print(from_names[i])\n",
    "        filePath = os.path.join(inputPath, os.path.basename(from_names[i]))\n",
    "        # oriPara=[band, datatype, geoTrans, geoPro]\n",
    "        inputData, oriPara = readtiff2array(filePath)\n",
    "\n",
    "        # 16bit to 8bit\n",
    "        if To8bit is True:\n",
    "            inputData = transfer_16bit_to_8bit(inputData)\n",
    "\n",
    "        # 裁剪 起始坐标\n",
    "        # 原始代码的[offsetY, offsetX] = [offsetRow, offsetCol]\n",
    "        offsetCor = [startRow, startCol]\n",
    "        while offsetCor[1] < inputData.shape[1] - patchSize:\n",
    "            while offsetCor[0] < inputData.shape[0] - patchSize:\n",
    "                filename = typeName + str(index) + '_' + str(offsetCor[1]) + '_' + str(offsetCor[0]) + '.tif'\n",
    "                saveName = os.path.join(savePath, filename)\n",
    "                cliptopatch(inputData, oriPara[2], oriPara[3], saveName, offsetCor, patchSize)\n",
    "                offsetCor[0] = offsetCor[0] + stride\n",
    "            offsetCor[1] = offsetCor[1] + stride\n",
    "            offsetCor[0] = 0\n",
    "        index = index + 1\n",
    "\n",
    "'''\n",
    "裁剪至小块 并保存\n",
    "inputData: array\n",
    "offsetCor: patch的左上角位置 原始代码的[offsetY, offsetX] = [offsetRow, offsetCol]\n",
    "saveName\n",
    "patchSize\n",
    "'''\n",
    "def cliptopatch(inputData, ori_geoTrans, ori_geoPro, saveName, offsetCor, patchSize):\n",
    "    # 读取输入数据信息\n",
    "    ori_Datatype = inputData.dtype\n",
    "    # inputData\n",
    "    if len(inputData.shape) == 3:\n",
    "        in_bands = inputData.shape[2]\n",
    "    else:\n",
    "        in_bands = 1\n",
    "\n",
    "    # 读取要裁剪的原图\n",
    "    out_band = np.zeros([patchSize, patchSize, in_bands], ori_Datatype)\n",
    "    # print(out_band.shape)\n",
    "    for i in range(in_bands):\n",
    "        out_band[:, :, i] = inputData[offsetCor[0]:offsetCor[0] + patchSize, offsetCor[1]:offsetCor[1] + patchSize, i]\n",
    "\n",
    "    # 获取原图的原点坐标信息\n",
    "    ori_transform = ori_geoTrans\n",
    "    # 计算仿射变化参数\n",
    "    dst_transform = calculateTransform(ori_transform, offsetCor[1], offsetCor[0])\n",
    "\n",
    "    # 设置DataType\n",
    "    if 'int8' in out_band.dtype.name:\n",
    "        newDataType = gdal.GDT_Byte\n",
    "    elif 'int16' in out_band.dtype.name:\n",
    "        newDataType = gdal.GDT_UInt16\n",
    "    else:\n",
    "        newDataType = gdal.GDT_Float32\n",
    "\n",
    "    # 创建gtiff 并 写入\n",
    "    driver = gdal.GetDriverByName(\"GTiff\")\n",
    "    dataset = driver.Create(saveName, patchSize, patchSize, in_bands, newDataType)\n",
    "    if (dataset != None):\n",
    "        dataset.SetGeoTransform(dst_transform)  # 写入仿射变换参数\n",
    "        dataset.SetProjection(ori_geoPro)  # 写入投影\n",
    "    for i in range(in_bands):\n",
    "        dataset.GetRasterBand(i + 1).WriteArray(out_band[:, :, i])\n",
    "    del dataset\n",
    "\n",
    "    print(\"End!\")"
   ]
  },
  {
   "cell_type": "code",
   "execution_count": 27,
   "metadata": {},
   "outputs": [
    {
     "name": "stdout",
     "output_type": "stream",
     "text": [
      "E:/Dataset/202101_withDinghu/temp/subAreas/test/slope\\Wang_slope_fortest.tif\n",
      "open tif file succeed\n"
     ]
    },
    {
     "name": "stderr",
     "output_type": "stream",
     "text": [
      "C:\\Users\\HP\\Anaconda3\\lib\\site-packages\\ipykernel_launcher.py:31: DeprecationWarning: Numeric-style type codes are deprecated and will result in an error in the future.\n"
     ]
    },
    {
     "name": "stdout",
     "output_type": "stream",
     "text": [
      "End!\n",
      "End!\n",
      "End!\n",
      "End!\n",
      "End!\n",
      "End!\n",
      "End!\n",
      "End!\n",
      "End!\n",
      "End!\n",
      "End!\n",
      "End!\n",
      "End!\n",
      "End!\n",
      "End!\n",
      "End!\n",
      "End!\n",
      "End!\n",
      "End!\n",
      "End!\n",
      "End!\n",
      "End!\n",
      "End!\n",
      "End!\n",
      "End!\n",
      "End!\n",
      "End!\n",
      "End!\n",
      "End!\n",
      "End!\n",
      "End!\n",
      "End!\n",
      "End!\n",
      "End!\n",
      "End!\n",
      "End!\n",
      "End!\n",
      "End!\n",
      "End!\n",
      "End!\n",
      "End!\n",
      "End!\n",
      "End!\n",
      "End!\n",
      "End!\n",
      "End!\n",
      "End!\n",
      "End!\n",
      "End!\n",
      "End!\n",
      "End!\n",
      "End!\n",
      "End!\n",
      "End!\n",
      "End!\n",
      "End!\n",
      "End!\n",
      "End!\n",
      "End!\n",
      "End!\n",
      "End!\n",
      "End!\n",
      "End!\n",
      "End!\n",
      "End!\n",
      "End!\n",
      "End!\n",
      "End!\n",
      "End!\n",
      "End!\n",
      "End!\n",
      "End!\n",
      "End!\n",
      "End!\n",
      "End!\n",
      "End!\n",
      "End!\n",
      "End!\n",
      "End!\n",
      "End!\n",
      "End!\n",
      "End!\n",
      "End!\n",
      "End!\n",
      "End!\n",
      "End!\n",
      "End!\n",
      "End!\n",
      "End!\n",
      "End!\n",
      "End!\n",
      "End!\n",
      "End!\n",
      "End!\n",
      "End!\n",
      "End!\n",
      "End!\n",
      "End!\n",
      "End!\n",
      "End!\n",
      "End!\n",
      "End!\n",
      "End!\n",
      "End!\n",
      "End!\n",
      "End!\n",
      "End!\n",
      "End!\n",
      "End!\n",
      "End!\n",
      "End!\n",
      "End!\n",
      "End!\n",
      "End!\n",
      "End!\n",
      "End!\n",
      "End!\n",
      "End!\n",
      "End!\n",
      "End!\n",
      "End!\n",
      "End!\n",
      "End!\n",
      "End!\n",
      "End!\n",
      "End!\n",
      "End!\n",
      "End!\n",
      "End!\n",
      "End!\n",
      "End!\n",
      "End!\n",
      "End!\n",
      "End!\n",
      "End!\n",
      "End!\n",
      "End!\n",
      "End!\n",
      "End!\n",
      "End!\n",
      "End!\n",
      "End!\n",
      "End!\n",
      "End!\n",
      "End!\n",
      "End!\n",
      "End!\n",
      "End!\n",
      "End!\n",
      "End!\n",
      "End!\n",
      "End!\n",
      "End!\n",
      "End!\n",
      "End!\n",
      "End!\n",
      "End!\n",
      "End!\n",
      "End!\n",
      "End!\n",
      "End!\n",
      "End!\n",
      "End!\n",
      "End!\n",
      "End!\n",
      "End!\n",
      "End!\n",
      "End!\n",
      "End!\n",
      "End!\n",
      "End!\n",
      "End!\n",
      "End!\n",
      "End!\n",
      "End!\n",
      "End!\n",
      "End!\n",
      "End!\n",
      "End!\n",
      "End!\n",
      "End!\n",
      "End!\n"
     ]
    }
   ],
   "source": [
    "inputPath = \"E:/Dataset/202101_withDinghu/temp/subAreas/test/slope\"\n",
    "savePath = \"E:/Dataset/202101_withDinghu/temp/dataset/size256/v1/test/test\"\n",
    "patchSize = 256\n",
    "patchIntersection = 224\n",
    "startCol = 0\n",
    "startRow = 0\n",
    "typeName = 'W'\n",
    "index = 0\n",
    "clipgeotiff(inputPath, savePath, patchSize, patchIntersection, startCol, startRow, typeName, index, To8bit=True)"
   ]
  },
  {
   "cell_type": "code",
   "execution_count": 13,
   "metadata": {},
   "outputs": [],
   "source": []
  }
 ],
 "metadata": {
  "kernelspec": {
   "display_name": "Python 3",
   "language": "python",
   "name": "python3"
  },
  "language_info": {
   "codemirror_mode": {
    "name": "ipython",
    "version": 3
   },
   "file_extension": ".py",
   "mimetype": "text/x-python",
   "name": "python",
   "nbconvert_exporter": "python",
   "pygments_lexer": "ipython3",
   "version": "3.6.5"
  }
 },
 "nbformat": 4,
 "nbformat_minor": 2
}
>>>>>>> 7deac30f80cd5fcc274d90f49f91f79df78e0f32
