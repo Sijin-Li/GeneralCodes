{
 "cells": [
  {
   "cell_type": "markdown",
   "metadata": {
    "id": "vNrfvHp4H9b7"
   },
   "source": [
    "Train Model based on parameters in default.yaml"
   ]
  },
  {
   "cell_type": "code",
   "execution_count": 4,
   "metadata": {
    "colab": {
     "base_uri": "https://localhost:8080/"
    },
    "executionInfo": {
     "elapsed": 1093640,
     "status": "ok",
     "timestamp": 1640793788876,
     "user": {
      "displayName": "Sijin Li",
      "photoUrl": "https://lh3.googleusercontent.com/a/default-user=s64",
      "userId": "03828829591723007437"
     },
     "user_tz": -480
    },
    "id": "xBxbiB0uLvc9",
    "outputId": "97f77897-31ac-43c9-808f-e18cf6451e04"
   },
   "outputs": [
    {
     "name": "stdout",
     "output_type": "stream",
     "text": [
      "^C\n"
     ]
    }
   ],
   "source": [
    "# 运行模型！训练！\n",
    "\n",
    "# G220118_dV2_t1 batch_size: 1 lr: 0.001 stepsize: 10 gamma=0.1 # image to gully\n",
    "\n",
    "!python F:/LSJ/CodefromLaptop/2netstructure/ResUNet/train.py --name \"G220118_dV2_t1\" --config \"F:/LSJ/CodefromLaptop/2netstructure/ResUNet/default.yaml\" --epochs 50  \n",
    "\n",
    "#--resume \"/content/drive/MyDrive/pytorchRelated/ResUnet-li/checkpoints/S1104_v3_t2/S1104_v3_t2_checkpoint_1440.pt\""
   ]
  },
  {
   "cell_type": "markdown",
   "metadata": {
    "id": "PUloUx-1PEYD"
   },
   "source": [
    "load checkpoint"
   ]
  },
  {
   "cell_type": "code",
   "execution_count": 7,
   "metadata": {
    "colab": {
     "base_uri": "https://localhost:8080/"
    },
    "executionInfo": {
     "elapsed": 41129,
     "status": "ok",
     "timestamp": 1640795565931,
     "user": {
      "displayName": "Sijin Li",
      "photoUrl": "https://lh3.googleusercontent.com/a/default-user=s64",
      "userId": "03828829591723007437"
     },
     "user_tz": -480
    },
    "id": "W99nEgy-bG4y",
    "outputId": "9f1f2638-46cf-49ef-b499-f58a70b4848a"
   },
   "outputs": [
    {
     "name": "stdout",
     "output_type": "stream",
     "text": [
      "=> loading checkpoint 'F:/LSJ/202201_withDing/temp/Dataset/202201datasetV2/size224/checkpoints/G220118_dV2_t1/G220118_dV2_t1_checkpoint_3210.pt'\n",
      "=> loaded checkpoint 'F:/LSJ/202201_withDing/temp/Dataset/202201datasetV2/size224/checkpoints/G220118_dV2_t1/G220118_dV2_t1_checkpoint_3210.pt' (epoch 30)\n",
      "done\n"
     ]
    }
   ],
   "source": [
    "# 测试/\n",
    "!python F:/LSJ/CodefromLaptop/2netstructure/ResUNet/test_resunet.py --name \"G220118_dV2_t1_3210\" --config \"F:/LSJ/CodefromLaptop/2netstructure/ResUNet/default.yaml\" --resume \"F:/LSJ/202201_withDing/temp/Dataset/202201datasetV2/size224/checkpoints/G220118_dV2_t1/G220118_dV2_t1_checkpoint_3210.pt\""
   ]
  },
  {
   "cell_type": "code",
   "execution_count": null,
   "metadata": {},
   "outputs": [],
   "source": []
  }
 ],
 "metadata": {
  "accelerator": "GPU",
  "colab": {
   "collapsed_sections": [],
   "name": "resunet_test1.ipynb",
   "provenance": []
  },
  "kernelspec": {
   "display_name": "Python 3 (ipykernel)",
   "language": "python",
   "name": "python3"
  },
  "language_info": {
   "codemirror_mode": {
    "name": "ipython",
    "version": 3
   },
   "file_extension": ".py",
   "mimetype": "text/x-python",
   "name": "python",
   "nbconvert_exporter": "python",
   "pygments_lexer": "ipython3",
   "version": "3.9.7"
  }
 },
 "nbformat": 4,
 "nbformat_minor": 1
}
