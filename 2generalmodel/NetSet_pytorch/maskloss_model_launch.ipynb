{
 "cells": [
  {
   "cell_type": "markdown",
   "metadata": {},
   "source": [
    "# image to gully\n",
    "## based on gullyUNet.yaml\n",
    "## Attention UNet"
   ]
  },
  {
   "cell_type": "code",
   "execution_count": 2,
   "metadata": {},
   "outputs": [
    {
     "name": "stdout",
     "output_type": "stream",
     "text": [
      "^C\n"
     ]
    }
   ],
   "source": [
    "# 运行模型！训练！\n",
    "\n",
    "# attU_dV3_t1 batch_size: 1 lr: 0.001 stepsize: 10 gamma=0.1 shadow_weight: 0.3 epoch: 50 # image to gully\n",
    "\n",
    "!python F:/LSJ/CodefromLaptop/2netstructure/NetSet_laptop_2/train.py --name \"attU_dV3_t1\" --config \"F:/LSJ/CodefromLaptop/2netstructure/NetSet_laptop_2/gullyUNet.yaml\" --epochs 50  \n",
    "\n",
    "#--resume \"/content/drive/MyDrive/pytorchRelated/ResUnet-li/checkpoints/S1104_v3_t2/S1104_v3_t2_checkpoint_1440.pt\""
   ]
  },
  {
   "cell_type": "code",
   "execution_count": 5,
   "metadata": {},
   "outputs": [
    {
     "name": "stdout",
     "output_type": "stream",
     "text": [
      "=> loading checkpoint 'F:/LSJ/202201_withDing/temp/Dataset/202201datasetV3/size224/checkpoints/attU_dV3_t1/attU_dV3_t1_checkpoint_4066.pt'\n",
      "=> loaded checkpoint 'F:/LSJ/202201_withDing/temp/Dataset/202201datasetV3/size224/checkpoints/attU_dV3_t1/attU_dV3_t1_checkpoint_4066.pt' (epoch 38)\n",
      "done\n"
     ]
    }
   ],
   "source": [
    "# 测试/\n",
    "!python F:/LSJ/CodefromLaptop/2netstructure/NetSet_laptop_2/test.py --name \"attU_dV3_t1_4066\" --config \"F:/LSJ/CodefromLaptop/2netstructure/NetSet_laptop_2/gullyUNet.yaml\" --resume \"F:/LSJ/202201_withDing/temp/Dataset/202201datasetV3/size224/checkpoints/attU_dV3_t1/attU_dV3_t1_checkpoint_4066.pt\""
   ]
  }
 ],
 "metadata": {
  "accelerator": "GPU",
  "colab": {
   "collapsed_sections": [],
   "name": "resunet_test1.ipynb",
   "provenance": []
  },
  "kernelspec": {
   "display_name": "Python 3 (ipykernel)",
   "language": "python",
   "name": "python3"
  },
  "language_info": {
   "codemirror_mode": {
    "name": "ipython",
    "version": 3
   },
   "file_extension": ".py",
   "mimetype": "text/x-python",
   "name": "python",
   "nbconvert_exporter": "python",
   "pygments_lexer": "ipython3",
   "version": "3.9.7"
  }
 },
 "nbformat": 4,
 "nbformat_minor": 1
}
