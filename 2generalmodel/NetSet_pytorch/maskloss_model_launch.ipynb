{
 "cells": [
  {
   "cell_type": "markdown",
   "metadata": {},
   "source": [
    "# image to gully\n",
    "## based on gullyUNet.yaml\n",
    "## (Atten-) UNet"
   ]
  },
  {
   "cell_type": "code",
   "execution_count": 2,
   "metadata": {},
   "outputs": [
    {
     "name": "stdout",
     "output_type": "stream",
     "text": [
      "^C\n"
     ]
    }
   ],
   "source": [
    "# 运行模型！训练！\n",
    "\n",
    "#att_unet without concat = UNet without concat\n",
    "# attU_dV3_t1 batch_size: 1 lr: 0.001 stepsize: 10 gamma=0.1 shadow_weight: 0.3 epoch: 50 # image to gully\n",
    "# attU_dV3_t2 batch_size: 1 lr: 0.001 stepsize: 10 gamma=0.1 shadow_weight: 0.1 epoch: 50 # image to gully\n",
    "# attU_dV3_t3 batch_size: 1 lr: 0.001 stepsize: 10 gamma=0.1 shadow_weight: 0.01 epoch: 50 # image to gully\n",
    "# attU_dV3_t4 batch_size: 1 lr: 0.001 stepsize: 10 gamma=0.1 shadow_weight: 0.9 epoch: 50 # image to gully 对照组\n",
    "# attU_dV3_t5 batch_size: 1 lr: 0.001 stepsize: 10 gamma=0.1 shadow_weight: 0.5 epoch: 50 # image to gully 对照组\n",
    "# attU_dV3_t6 batch_size: 1 lr: 0.001 stepsize: 10 gamma=0.1 shadow_weight: 0.1 epoch: 50 # image to gully\n",
    "# attU_dV3_t7 batch_size: 1 lr: 0.001 stepsize: 15 gamma=0.1 shadow_weight: 0.3 epoch: 75 # image to gully 与t2类似 训练更长 效果不好\n",
    "# attU_dV3_t8 batch_size: 1 lr: 0.01 stepsize: 10 gamma=0.1 shadow_weight: 0.1 epoch: 60 # image to gully \n",
    "# attU_dV3_t9 batch_size: 1 lr: 0.001 stepsize: 15 gamma=0.1 shadow_weight: 0.2 epoch: 76 # image to gully \n",
    "# attU_dV3_t10 batch_size: 1 lr: 0.001 stepsize: 10 gamma=0.1 shadow_weight: 0.001 epoch: 61 # image to gully \n",
    "\n",
    "!python F:/LSJ/CodefromLaptop/2netstructure/NetSet_laptop_2/train.py --name \"attU_dV3_t10\" --config \"F:/LSJ/CodefromLaptop/2netstructure/NetSet_laptop_2/gullyUNet.yaml\" --epochs 61  \n",
    "\n",
    "#--resume \"/content/drive/MyDrive/pytorchRelated/ResUnet-li/checkpoints/S1104_v3_t2/S1104_v3_t2_checkpoint_1440.pt\""
   ]
  },
  {
   "cell_type": "code",
   "execution_count": null,
   "metadata": {},
   "outputs": [],
   "source": [
    "# attention unet\n",
    "# newAU_dV3_t1 batch_size: 1 lr: 0.001 stepsize: 10 gamma=0.1 shadow_weight: 0.01 epoch: 61 # Attention UNet image to gully \n",
    "# newAU_dV3_t2 batch_size: 1 lr: 0.001 stepsize: 10 gamma=0.1 shadow_weight: 0.1 epoch: 61 # Attention UNet image to gully\n",
    "# newAU_dV3_t3 batch_size: 1 lr: 0.001 stepsize: 10 gamma=0.1 shadow_weight: 0.2 epoch: 61 # Attention UNet image to gully \n",
    "# newAU_dV3_t4 batch_size: 1 lr: 0.001 stepsize: 10 gamma=0.1 shadow_weight: 0.5 epoch: 61 # Attention UNet image to gully \n",
    "# newAU_dV3_t5 batch_size: 1 lr: 0.001 stepsize: 10 gamma=0.1 shadow_weight: 0.9 epoch: 61 # Attention UNet image to gully \n",
    "\n",
    "!python F:/LSJ/CodefromLaptop/2netstructure/NetSet_laptop_2/train.py --name \"newAU_dV3_t5\" --config \"F:/LSJ/CodefromLaptop/2netstructure/NetSet_laptop_2/gullyUNet.yaml\" --epochs 61  "
   ]
  },
  {
   "cell_type": "code",
   "execution_count": null,
   "metadata": {},
   "outputs": [],
   "source": [
    "# attention unet without pooling\n",
    "# auWP_dV3_t1 batch_size: 1 lr: 0.001 stepsize: 10 gamma=0.1 shadow_weight: 0.1 epoch: 61 # image to gully \n",
    "\n",
    "!python F:/LSJ/CodefromLaptop/2netstructure/NetSet_laptop_2/train.py --name \"auWP_dV3_t1\" --config \"F:/LSJ/CodefromLaptop/2netstructure/NetSet_laptop_2/gullyUNet.yaml\" --epochs 61  "
   ]
  },
  {
   "cell_type": "markdown",
   "metadata": {},
   "source": [
    "# 测试/"
   ]
  },
  {
   "cell_type": "code",
   "execution_count": 9,
   "metadata": {},
   "outputs": [
    {
     "name": "stdout",
     "output_type": "stream",
     "text": [
      "=> loading checkpoint 'F:/LSJ/202201_withDing/temp/Dataset/202201datasetV3/size224/checkpoints/newAU_dV3_t5/newAU_dV3_t5_checkpoint_6420.pt'\n",
      "=> loaded checkpoint 'F:/LSJ/202201_withDing/temp/Dataset/202201datasetV3/size224/checkpoints/newAU_dV3_t5/newAU_dV3_t5_checkpoint_6420.pt' (epoch 60)\n",
      "done\n"
     ]
    }
   ],
   "source": [
    "!python F:/LSJ/CodefromLaptop/2netstructure/NetSet_laptop_2/test.py --name \"newAU_dV3_t5_6420\" --config \"F:/LSJ/CodefromLaptop/2netstructure/NetSet_laptop_2/gullyUNet.yaml\" --resume \"F:/LSJ/202201_withDing/temp/Dataset/202201datasetV3/size224/checkpoints/newAU_dV3_t5/newAU_dV3_t5_checkpoint_6420.pt\""
   ]
  }
 ],
 "metadata": {
  "accelerator": "GPU",
  "colab": {
   "collapsed_sections": [],
   "name": "resunet_test1.ipynb",
   "provenance": []
  },
  "kernelspec": {
   "display_name": "Python 3 (ipykernel)",
   "language": "python",
   "name": "python3"
  },
  "language_info": {
   "codemirror_mode": {
    "name": "ipython",
    "version": 3
   },
   "file_extension": ".py",
   "mimetype": "text/x-python",
   "name": "python",
   "nbconvert_exporter": "python",
   "pygments_lexer": "ipython3",
   "version": "3.9.7"
  }
 },
 "nbformat": 4,
 "nbformat_minor": 1
}
