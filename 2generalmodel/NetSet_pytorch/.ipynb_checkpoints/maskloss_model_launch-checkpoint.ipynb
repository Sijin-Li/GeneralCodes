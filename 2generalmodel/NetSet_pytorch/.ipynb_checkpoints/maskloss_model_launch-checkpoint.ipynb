{
 "cells": [
  {
   "cell_type": "markdown",
   "metadata": {},
   "source": [
    "# image to gully\n",
    "## based on gullyUNet.yaml\n",
    "## (Atten-) UNet"
   ]
  },
  {
   "cell_type": "code",
   "execution_count": 1,
   "metadata": {},
   "outputs": [
    {
     "name": "stdout",
     "output_type": "stream",
     "text": [
      "^C\n"
     ]
    }
   ],
   "source": [
    "# attention unet (without mask loss)\n",
    "# AU_dV3_t1 batch_size: 1 lr: 0.0001 stepsize: 30 gamma=0.1 epoch: 101 MASKLOSS: False# image to gully\n",
    "!python F:/LSJ/CodefromLaptop/2netstructure/NetSet_laptop_2/train.py --name \"AU_dV3_t1\" --config \"F:/LSJ/CodefromLaptop/2netstructure/NetSet_laptop_2/gullyUNet.yaml\" --epochs 101  \n"
   ]
  },
  {
   "cell_type": "code",
   "execution_count": 2,
   "metadata": {},
   "outputs": [
    {
     "name": "stdout",
     "output_type": "stream",
     "text": [
      "^C\n"
     ]
    }
   ],
   "source": [
    "# 运行模型！训练！\n",
    "\n",
    "#att_unet without concat = UNet without concat\n",
    "# attU_dV3_t1 batch_size: 1 lr: 0.001 stepsize: 10 gamma=0.1 shadow_weight: 0.3 epoch: 50 # image to gully\n",
    "# attU_dV3_t2 batch_size: 1 lr: 0.001 stepsize: 10 gamma=0.1 shadow_weight: 0.1 epoch: 50 # image to gully\n",
    "# attU_dV3_t3 batch_size: 1 lr: 0.001 stepsize: 10 gamma=0.1 shadow_weight: 0.01 epoch: 50 # image to gully\n",
    "# attU_dV3_t4 batch_size: 1 lr: 0.001 stepsize: 10 gamma=0.1 shadow_weight: 0.9 epoch: 50 # image to gully 对照组\n",
    "# attU_dV3_t5 batch_size: 1 lr: 0.001 stepsize: 10 gamma=0.1 shadow_weight: 0.5 epoch: 50 # image to gully 对照组\n",
    "# attU_dV3_t6 batch_size: 1 lr: 0.001 stepsize: 10 gamma=0.1 shadow_weight: 0.1 epoch: 50 # image to gully\n",
    "# attU_dV3_t7 batch_size: 1 lr: 0.001 stepsize: 15 gamma=0.1 shadow_weight: 0.3 epoch: 75 # image to gully 与t2类似 训练更长 效果不好\n",
    "# attU_dV3_t8 batch_size: 1 lr: 0.01 stepsize: 10 gamma=0.1 shadow_weight: 0.1 epoch: 60 # image to gully \n",
    "# attU_dV3_t9 batch_size: 1 lr: 0.001 stepsize: 15 gamma=0.1 shadow_weight: 0.2 epoch: 76 # image to gully \n",
    "# attU_dV3_t10 batch_size: 1 lr: 0.001 stepsize: 10 gamma=0.1 shadow_weight: 0.001 epoch: 61 # image to gully \n",
    "\n",
    "!python F:/LSJ/CodefromLaptop/2netstructure/NetSet_laptop_2/train.py --name \"attU_dV3_t10\" --config \"F:/LSJ/CodefromLaptop/2netstructure/NetSet_laptop_2/gullyUNet.yaml\" --epochs 61  \n",
    "\n",
    "#--resume \"/content/drive/MyDrive/pytorchRelated/ResUnet-li/checkpoints/S1104_v3_t2/S1104_v3_t2_checkpoint_1440.pt\""
   ]
  },
  {
   "cell_type": "code",
   "execution_count": null,
   "metadata": {},
   "outputs": [],
   "source": [
    "# attention unet\n",
    "# newAU_dV3_t1 batch_size: 1 lr: 0.001 stepsize: 10 gamma=0.1 shadow_weight: 0.01 epoch: 61 # Attention UNet image to gully \n",
    "# newAU_dV3_t2 batch_size: 1 lr: 0.001 stepsize: 10 gamma=0.1 shadow_weight: 0.1 epoch: 61 # Attention UNet image to gully\n",
    "# newAU_dV3_t3 batch_size: 1 lr: 0.001 stepsize: 10 gamma=0.1 shadow_weight: 0.2 epoch: 61 # Attention UNet image to gully \n",
    "# newAU_dV3_t4 batch_size: 1 lr: 0.001 stepsize: 10 gamma=0.1 shadow_weight: 0.5 epoch: 61 # Attention UNet image to gully \n",
    "# newAU_dV3_t5 batch_size: 1 lr: 0.001 stepsize: 10 gamma=0.1 shadow_weight: 0.9 epoch: 61 # Attention UNet image to gully \n",
    "# newAU_dV3_t6 batch_size: 1 lr: 0.0001 stepsize: 30 gamma=0.1 shadow_weight: 0.3 epoch: 101 # Attention UNet image to gully \n",
    "# newAU_dV3_t7 batch_size: 1 lr: 0.001 stepsize: 10 gamma=0.1 shadow_weight: 0.7 epoch: 61 # Attention UNet image to gully \n",
    "# newAU_dV3_t8 batch_size: 1 lr: 0.001 stepsize: 10 gamma=0.1 shadow_weight: 0.9 epoch: 61 # Attention UNet image to gully \n",
    "\n",
    "!python F:/LSJ/CodefromLaptop/2netstructure/NetSet_laptop_2/train.py --name \"newAU_dV3_t8\" --config \"F:/LSJ/CodefromLaptop/2netstructure/NetSet_laptop_2/gullyUNet.yaml\" --epochs 61  "
   ]
  },
  {
   "cell_type": "code",
   "execution_count": null,
   "metadata": {},
   "outputs": [],
   "source": [
    "# attention unet without pooling\n",
    "# auWP_dV3_t1 batch_size: 1 lr: 0.001 stepsize: 10 gamma=0.1 shadow_weight: 0.1 epoch: 61 # image to gully \n",
    "# auWP_dV3_t2 batch_size: 1 lr: 0.0001 stepsize: 30 gamma=0.1 shadow_weight: 0.5 epoch: 101 # image to gully \n",
    "# auWP_dV3_t3 batch_size: 1 lr: 0.0001 stepsize: 30 gamma=0.1 shadow_weight: 0.1 epoch: 101 # image to gully \n",
    "# auWP_dV3_t4 batch_size: 1 lr: 0.0001 stepsize: 30 gamma=0.1 shadow_weight: 0.3 epoch: 101 # image to gully \n",
    "# auWP_dV3_t5 batch_size: 1 lr: 0.0001 stepsize: 50 gamma=0.1 shadow_weight: 0.3 epoch: 101 # image to gully \n",
    "# auWP_dV3_t6 batch_size: 1 lr: 0.0001 stepsize: 50 gamma=0.1 shadow_weight: 0.9 epoch: 101 # image to gully step size=50效果不好\n",
    "# auWP_dV3_t7 batch_size: 1 lr: 0.0001 stepsize: 30 gamma=0.1 shadow_weight: 0.7 epoch: 101 # image to gully \n",
    "# auWP_dV3_t8 batch_size: 1 lr: 0.0001 stepsize: 30 gamma=0.1 shadow_weight: 0.01 epoch: 101 # image to gully \n",
    "# auWP_dV3_t9 batch_size: 1 lr: 0.0001 stepsize: 30 gamma=0.1 shadow_weight: 0.3 epoch: 101 # DEM to gully 删除\n",
    "# auWP_dV3_t10 batch_size: 1 lr: 0.0001 stepsize: 30 gamma=0.1 shadow_weight: 0.5 epoch: 101 # DEM to gully 删除\n",
    "# auWP_dV3_t11 batch_size: 1 lr: 0.0001 stepsize: 100 gamma=0.1 shadow_weight: 0.5 epoch: 201 # DEM to gully  删除\n",
    "# auWP_dV3_t12 batch_size: 1 lr: 0.00001 stepsize: 100 gamma=0.1 shadow_weight: 0.3 epoch: 301 # image to gully \n",
    "\n",
    "!python F:/LSJ/CodefromLaptop/2netstructure/NetSet_laptop_2/train.py --name \"auWP_dV3_t12\" --config \"F:/LSJ/CodefromLaptop/2netstructure/NetSet_laptop_2/gullyUNet.yaml\" --epochs 301  "
   ]
  },
  {
   "cell_type": "code",
   "execution_count": null,
   "metadata": {},
   "outputs": [],
   "source": [
    "# auWPIS_dV3_t1 batch_size: 1 lr: 0.0001 stepsize: 30 gamma=0.1 shadow_weight: 0.01 epoch: 101 # image to slope \n",
    "\n",
    "!python F:/LSJ/CodefromLaptop/2netstructure/NetSet_laptop_2/train.py --name \"auWPIS_dV3_t1\" --config \"F:/LSJ/CodefromLaptop/2netstructure/NetSet_laptop_2/gullyUNet.yaml\" --epochs 101  "
   ]
  },
  {
   "cell_type": "markdown",
   "metadata": {},
   "source": [
    "# 测试/"
   ]
  },
  {
   "cell_type": "code",
   "execution_count": 2,
   "metadata": {
    "scrolled": true
   },
   "outputs": [
    {
     "name": "stdout",
     "output_type": "stream",
     "text": [
      "^C\n"
     ]
    }
   ],
   "source": [
    "python F:/LSJ/CodefromLaptop/2netstructure/NetSet_laptop_2/test.py --name \"newAU_dV3_t7_4280\" --config \"F:/LSJ/CodefromLaptop/2netstructure/NetSet_laptop_2/gullyUNet.yaml\" --resume \"F:/LSJ/202201_withDing/temp/Dataset/202201datasetV3/size224/checkpoints/newAU_dV3_t7/newAU_dV3_t7_checkpoint_4280.pt\""
   ]
  },
  {
   "cell_type": "code",
   "execution_count": null,
   "metadata": {},
   "outputs": [],
   "source": [
    "python F:/LSJ/CodefromLaptop/2netstructure/NetSet_laptop_2/test.py --name \"auWP_dV3_t3_9630_pujia_proj\" --config \"F:/LSJ/CodefromLaptop/2netstructure/NetSet_laptop_2/gullyUNet.yaml\" --resume \"F:/LSJ/202201_withDing/temp/Dataset/202201datasetV3/size224/checkpoints/auWP_dV3_t3/auWP_dV3_t3_checkpoint_9630.pt\""
   ]
  }
 ],
 "metadata": {
  "accelerator": "GPU",
  "colab": {
   "collapsed_sections": [],
   "name": "resunet_test1.ipynb",
   "provenance": []
  },
  "kernelspec": {
   "display_name": "Python 3 (ipykernel)",
   "language": "python",
   "name": "python3"
  },
  "language_info": {
   "codemirror_mode": {
    "name": "ipython",
    "version": 3
   },
   "file_extension": ".py",
   "mimetype": "text/x-python",
   "name": "python",
   "nbconvert_exporter": "python",
   "pygments_lexer": "ipython3",
   "version": "3.9.7"
  }
 },
 "nbformat": 4,
 "nbformat_minor": 1
}
